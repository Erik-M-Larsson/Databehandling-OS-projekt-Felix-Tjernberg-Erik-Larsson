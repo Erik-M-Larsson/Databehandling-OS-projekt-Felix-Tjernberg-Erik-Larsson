{
 "cells": [
  {
   "cell_type": "code",
   "execution_count": 3,
   "metadata": {},
   "outputs": [],
   "source": [
    "import pandas as pd\n",
    "import plotly_express as px\n",
    "from dash_source.components.sport.load_sport_data import create_medal_count_data_frame\n",
    "\n",
    "\n"
   ]
  },
  {
   "cell_type": "code",
   "execution_count": 4,
   "metadata": {},
   "outputs": [
    {
     "data": {
      "text/plain": [
       "array(['Basketball', 'Judo', 'Football', 'Tug-Of-War', 'Speed Skating',\n",
       "       'Cross Country Skiing', 'Athletics', 'Ice Hockey', 'Swimming',\n",
       "       'Badminton', 'Sailing', 'Biathlon', 'Gymnastics',\n",
       "       'Art Competitions', 'Alpine Skiing', 'Handball', 'Weightlifting',\n",
       "       'Wrestling', 'Luge', 'Water Polo', 'Hockey', 'Rowing', 'Bobsleigh',\n",
       "       'Fencing', 'Equestrianism', 'Shooting', 'Boxing', 'Taekwondo',\n",
       "       'Cycling', 'Diving', 'Canoeing', 'Tennis', 'Modern Pentathlon',\n",
       "       'Figure Skating', 'Golf', 'Softball', 'Archery', 'Volleyball',\n",
       "       'Synchronized Swimming', 'Table Tennis', 'Nordic Combined',\n",
       "       'Baseball', 'Rhythmic Gymnastics', 'Freestyle Skiing',\n",
       "       'Rugby Sevens', 'Trampolining', 'Beach Volleyball', 'Triathlon',\n",
       "       'Ski Jumping', 'Curling', 'Snowboarding', 'Rugby',\n",
       "       'Short Track Speed Skating', 'Skeleton', 'Lacrosse', 'Polo',\n",
       "       'Cricket', 'Racquets', 'Motorboating', 'Military Ski Patrol',\n",
       "       'Croquet', 'Jeu De Paume', 'Roque', 'Alpinism', 'Basque Pelota',\n",
       "       'Aeronautics'], dtype=object)"
      ]
     },
     "execution_count": 4,
     "metadata": {},
     "output_type": "execute_result"
    }
   ],
   "source": [
    "os_data_raw = pd.read_csv(\"raw-data/athlete_events.csv\")\n",
    "\n",
    "os_data_raw[\"Sport\"].unique()"
   ]
  },
  {
   "cell_type": "code",
   "execution_count": 5,
   "metadata": {},
   "outputs": [
    {
     "data": {
      "text/html": [
       "<div>\n",
       "<style scoped>\n",
       "    .dataframe tbody tr th:only-of-type {\n",
       "        vertical-align: middle;\n",
       "    }\n",
       "\n",
       "    .dataframe tbody tr th {\n",
       "        vertical-align: top;\n",
       "    }\n",
       "\n",
       "    .dataframe thead th {\n",
       "        text-align: right;\n",
       "    }\n",
       "</style>\n",
       "<table border=\"1\" class=\"dataframe\">\n",
       "  <thead>\n",
       "    <tr style=\"text-align: right;\">\n",
       "      <th></th>\n",
       "      <th>ID</th>\n",
       "      <th>Name</th>\n",
       "      <th>Sex</th>\n",
       "      <th>Age</th>\n",
       "      <th>Height</th>\n",
       "      <th>Weight</th>\n",
       "      <th>Team</th>\n",
       "      <th>NOC</th>\n",
       "      <th>Games</th>\n",
       "      <th>Year</th>\n",
       "      <th>Season</th>\n",
       "      <th>City</th>\n",
       "      <th>Sport</th>\n",
       "      <th>Event</th>\n",
       "      <th>Medal</th>\n",
       "    </tr>\n",
       "  </thead>\n",
       "  <tbody>\n",
       "    <tr>\n",
       "      <th>6892</th>\n",
       "      <td>3871</td>\n",
       "      <td>William Wallace Anderson</td>\n",
       "      <td>M</td>\n",
       "      <td>40.0</td>\n",
       "      <td>NaN</td>\n",
       "      <td>NaN</td>\n",
       "      <td>Union des Socits Franais de Sports Athletiques</td>\n",
       "      <td>GBR</td>\n",
       "      <td>1900 Summer</td>\n",
       "      <td>1900</td>\n",
       "      <td>Summer</td>\n",
       "      <td>Paris</td>\n",
       "      <td>Cricket</td>\n",
       "      <td>Cricket Men's Cricket</td>\n",
       "      <td>Silver</td>\n",
       "    </tr>\n",
       "    <tr>\n",
       "      <th>10734</th>\n",
       "      <td>5871</td>\n",
       "      <td>William Dunbar \"Willie\" Attrill</td>\n",
       "      <td>M</td>\n",
       "      <td>NaN</td>\n",
       "      <td>NaN</td>\n",
       "      <td>NaN</td>\n",
       "      <td>Union des Socits Franais de Sports Athletiques</td>\n",
       "      <td>FRA</td>\n",
       "      <td>1900 Summer</td>\n",
       "      <td>1900</td>\n",
       "      <td>Summer</td>\n",
       "      <td>Paris</td>\n",
       "      <td>Cricket</td>\n",
       "      <td>Cricket Men's Cricket</td>\n",
       "      <td>Silver</td>\n",
       "    </tr>\n",
       "    <tr>\n",
       "      <th>16799</th>\n",
       "      <td>9009</td>\n",
       "      <td>Charles Beachey Beachcroft (Kay-)</td>\n",
       "      <td>M</td>\n",
       "      <td>NaN</td>\n",
       "      <td>NaN</td>\n",
       "      <td>NaN</td>\n",
       "      <td>Devon and Somerset Wanderers</td>\n",
       "      <td>GBR</td>\n",
       "      <td>1900 Summer</td>\n",
       "      <td>1900</td>\n",
       "      <td>Summer</td>\n",
       "      <td>Paris</td>\n",
       "      <td>Cricket</td>\n",
       "      <td>Cricket Men's Cricket</td>\n",
       "      <td>Gold</td>\n",
       "    </tr>\n",
       "    <tr>\n",
       "      <th>22206</th>\n",
       "      <td>11696</td>\n",
       "      <td>Arthur Ernest Burrington Birkett</td>\n",
       "      <td>M</td>\n",
       "      <td>24.0</td>\n",
       "      <td>NaN</td>\n",
       "      <td>NaN</td>\n",
       "      <td>Devon and Somerset Wanderers</td>\n",
       "      <td>GBR</td>\n",
       "      <td>1900 Summer</td>\n",
       "      <td>1900</td>\n",
       "      <td>Summer</td>\n",
       "      <td>Paris</td>\n",
       "      <td>Cricket</td>\n",
       "      <td>Cricket Men's Cricket</td>\n",
       "      <td>Gold</td>\n",
       "    </tr>\n",
       "    <tr>\n",
       "      <th>27467</th>\n",
       "      <td>14259</td>\n",
       "      <td>Alfred James Bowerman</td>\n",
       "      <td>M</td>\n",
       "      <td>26.0</td>\n",
       "      <td>NaN</td>\n",
       "      <td>NaN</td>\n",
       "      <td>Devon and Somerset Wanderers</td>\n",
       "      <td>GBR</td>\n",
       "      <td>1900 Summer</td>\n",
       "      <td>1900</td>\n",
       "      <td>Summer</td>\n",
       "      <td>Paris</td>\n",
       "      <td>Cricket</td>\n",
       "      <td>Cricket Men's Cricket</td>\n",
       "      <td>Gold</td>\n",
       "    </tr>\n",
       "    <tr>\n",
       "      <th>28092</th>\n",
       "      <td>14556</td>\n",
       "      <td>J. Braid</td>\n",
       "      <td>M</td>\n",
       "      <td>NaN</td>\n",
       "      <td>NaN</td>\n",
       "      <td>NaN</td>\n",
       "      <td>Union des Socits Franais de Sports Athletiques</td>\n",
       "      <td>GBR</td>\n",
       "      <td>1900 Summer</td>\n",
       "      <td>1900</td>\n",
       "      <td>Summer</td>\n",
       "      <td>Paris</td>\n",
       "      <td>Cricket</td>\n",
       "      <td>Cricket Men's Cricket</td>\n",
       "      <td>Silver</td>\n",
       "    </tr>\n",
       "    <tr>\n",
       "      <th>30259</th>\n",
       "      <td>15626</td>\n",
       "      <td>W. Browning</td>\n",
       "      <td>M</td>\n",
       "      <td>NaN</td>\n",
       "      <td>NaN</td>\n",
       "      <td>NaN</td>\n",
       "      <td>Union des Socits Franais de Sports Athletiques</td>\n",
       "      <td>GBR</td>\n",
       "      <td>1900 Summer</td>\n",
       "      <td>1900</td>\n",
       "      <td>Summer</td>\n",
       "      <td>Paris</td>\n",
       "      <td>Cricket</td>\n",
       "      <td>Cricket Men's Cricket</td>\n",
       "      <td>Silver</td>\n",
       "    </tr>\n",
       "    <tr>\n",
       "      <th>31317</th>\n",
       "      <td>16101</td>\n",
       "      <td>George John Buckley</td>\n",
       "      <td>M</td>\n",
       "      <td>24.0</td>\n",
       "      <td>NaN</td>\n",
       "      <td>NaN</td>\n",
       "      <td>Devon and Somerset Wanderers</td>\n",
       "      <td>GBR</td>\n",
       "      <td>1900 Summer</td>\n",
       "      <td>1900</td>\n",
       "      <td>Summer</td>\n",
       "      <td>Paris</td>\n",
       "      <td>Cricket</td>\n",
       "      <td>Cricket Men's Cricket</td>\n",
       "      <td>Gold</td>\n",
       "    </tr>\n",
       "    <tr>\n",
       "      <th>32041</th>\n",
       "      <td>16474</td>\n",
       "      <td>Francis Romulus Burchell</td>\n",
       "      <td>M</td>\n",
       "      <td>26.0</td>\n",
       "      <td>NaN</td>\n",
       "      <td>NaN</td>\n",
       "      <td>Devon and Somerset Wanderers</td>\n",
       "      <td>GBR</td>\n",
       "      <td>1900 Summer</td>\n",
       "      <td>1900</td>\n",
       "      <td>Summer</td>\n",
       "      <td>Paris</td>\n",
       "      <td>Cricket</td>\n",
       "      <td>Cricket Men's Cricket</td>\n",
       "      <td>Gold</td>\n",
       "    </tr>\n",
       "    <tr>\n",
       "      <th>41257</th>\n",
       "      <td>21277</td>\n",
       "      <td>Frederick William Christian</td>\n",
       "      <td>M</td>\n",
       "      <td>32.0</td>\n",
       "      <td>NaN</td>\n",
       "      <td>NaN</td>\n",
       "      <td>Devon and Somerset Wanderers</td>\n",
       "      <td>GBR</td>\n",
       "      <td>1900 Summer</td>\n",
       "      <td>1900</td>\n",
       "      <td>Summer</td>\n",
       "      <td>Paris</td>\n",
       "      <td>Cricket</td>\n",
       "      <td>Cricket Men's Cricket</td>\n",
       "      <td>Gold</td>\n",
       "    </tr>\n",
       "    <tr>\n",
       "      <th>44827</th>\n",
       "      <td>23107</td>\n",
       "      <td>Harry Richard Corner</td>\n",
       "      <td>M</td>\n",
       "      <td>25.0</td>\n",
       "      <td>NaN</td>\n",
       "      <td>NaN</td>\n",
       "      <td>Devon and Somerset Wanderers</td>\n",
       "      <td>GBR</td>\n",
       "      <td>1900 Summer</td>\n",
       "      <td>1900</td>\n",
       "      <td>Summer</td>\n",
       "      <td>Paris</td>\n",
       "      <td>Cricket</td>\n",
       "      <td>Cricket Men's Cricket</td>\n",
       "      <td>Gold</td>\n",
       "    </tr>\n",
       "    <tr>\n",
       "      <th>47109</th>\n",
       "      <td>24286</td>\n",
       "      <td>Frederick William Cuming</td>\n",
       "      <td>M</td>\n",
       "      <td>24.0</td>\n",
       "      <td>NaN</td>\n",
       "      <td>NaN</td>\n",
       "      <td>Devon and Somerset Wanderers</td>\n",
       "      <td>GBR</td>\n",
       "      <td>1900 Summer</td>\n",
       "      <td>1900</td>\n",
       "      <td>Summer</td>\n",
       "      <td>Paris</td>\n",
       "      <td>Cricket</td>\n",
       "      <td>Cricket Men's Cricket</td>\n",
       "      <td>Gold</td>\n",
       "    </tr>\n",
       "    <tr>\n",
       "      <th>57388</th>\n",
       "      <td>29397</td>\n",
       "      <td>William Stephens Donne</td>\n",
       "      <td>M</td>\n",
       "      <td>24.0</td>\n",
       "      <td>NaN</td>\n",
       "      <td>NaN</td>\n",
       "      <td>Devon and Somerset Wanderers</td>\n",
       "      <td>GBR</td>\n",
       "      <td>1900 Summer</td>\n",
       "      <td>1900</td>\n",
       "      <td>Summer</td>\n",
       "      <td>Paris</td>\n",
       "      <td>Cricket</td>\n",
       "      <td>Cricket Men's Cricket</td>\n",
       "      <td>Gold</td>\n",
       "    </tr>\n",
       "    <tr>\n",
       "      <th>98751</th>\n",
       "      <td>49978</td>\n",
       "      <td>Robert Horne</td>\n",
       "      <td>M</td>\n",
       "      <td>NaN</td>\n",
       "      <td>NaN</td>\n",
       "      <td>NaN</td>\n",
       "      <td>Union des Socits Franais de Sports Athletiques</td>\n",
       "      <td>GBR</td>\n",
       "      <td>1900 Summer</td>\n",
       "      <td>1900</td>\n",
       "      <td>Summer</td>\n",
       "      <td>Paris</td>\n",
       "      <td>Cricket</td>\n",
       "      <td>Cricket Men's Cricket</td>\n",
       "      <td>Silver</td>\n",
       "    </tr>\n",
       "    <tr>\n",
       "      <th>110525</th>\n",
       "      <td>55887</td>\n",
       "      <td>Timothe Jordan</td>\n",
       "      <td>M</td>\n",
       "      <td>35.0</td>\n",
       "      <td>NaN</td>\n",
       "      <td>NaN</td>\n",
       "      <td>Union des Socits Franais de Sports Athletiques</td>\n",
       "      <td>GBR</td>\n",
       "      <td>1900 Summer</td>\n",
       "      <td>1900</td>\n",
       "      <td>Summer</td>\n",
       "      <td>Paris</td>\n",
       "      <td>Cricket</td>\n",
       "      <td>Cricket Men's Cricket</td>\n",
       "      <td>Silver</td>\n",
       "    </tr>\n",
       "    <tr>\n",
       "      <th>145261</th>\n",
       "      <td>72906</td>\n",
       "      <td>Arthur MacEvoy</td>\n",
       "      <td>M</td>\n",
       "      <td>31.0</td>\n",
       "      <td>NaN</td>\n",
       "      <td>NaN</td>\n",
       "      <td>Union des Socits Franais de Sports Athletiques</td>\n",
       "      <td>GBR</td>\n",
       "      <td>1900 Summer</td>\n",
       "      <td>1900</td>\n",
       "      <td>Summer</td>\n",
       "      <td>Paris</td>\n",
       "      <td>Cricket</td>\n",
       "      <td>Cricket Men's Cricket</td>\n",
       "      <td>Silver</td>\n",
       "    </tr>\n",
       "    <tr>\n",
       "      <th>192493</th>\n",
       "      <td>96654</td>\n",
       "      <td>Alfred James Powlesland</td>\n",
       "      <td>M</td>\n",
       "      <td>24.0</td>\n",
       "      <td>NaN</td>\n",
       "      <td>NaN</td>\n",
       "      <td>Devon and Somerset Wanderers</td>\n",
       "      <td>GBR</td>\n",
       "      <td>1900 Summer</td>\n",
       "      <td>1900</td>\n",
       "      <td>Summer</td>\n",
       "      <td>Paris</td>\n",
       "      <td>Cricket</td>\n",
       "      <td>Cricket Men's Cricket</td>\n",
       "      <td>Gold</td>\n",
       "    </tr>\n",
       "    <tr>\n",
       "      <th>201962</th>\n",
       "      <td>101432</td>\n",
       "      <td>Douglas Francis Robinson</td>\n",
       "      <td>M</td>\n",
       "      <td>35.0</td>\n",
       "      <td>NaN</td>\n",
       "      <td>NaN</td>\n",
       "      <td>Union des Socits Franais de Sports Athletiques</td>\n",
       "      <td>GBR</td>\n",
       "      <td>1900 Summer</td>\n",
       "      <td>1900</td>\n",
       "      <td>Summer</td>\n",
       "      <td>Paris</td>\n",
       "      <td>Cricket</td>\n",
       "      <td>Cricket Men's Cricket</td>\n",
       "      <td>Silver</td>\n",
       "    </tr>\n",
       "    <tr>\n",
       "      <th>204130</th>\n",
       "      <td>102484</td>\n",
       "      <td>H. F. Roques</td>\n",
       "      <td>M</td>\n",
       "      <td>NaN</td>\n",
       "      <td>NaN</td>\n",
       "      <td>NaN</td>\n",
       "      <td>Union des Socits Franais de Sports Athletiques</td>\n",
       "      <td>FRA</td>\n",
       "      <td>1900 Summer</td>\n",
       "      <td>1900</td>\n",
       "      <td>Summer</td>\n",
       "      <td>Paris</td>\n",
       "      <td>Cricket</td>\n",
       "      <td>Cricket Men's Cricket</td>\n",
       "      <td>Silver</td>\n",
       "    </tr>\n",
       "    <tr>\n",
       "      <th>213576</th>\n",
       "      <td>107247</td>\n",
       "      <td>Alfred John Schneidau</td>\n",
       "      <td>M</td>\n",
       "      <td>33.0</td>\n",
       "      <td>NaN</td>\n",
       "      <td>NaN</td>\n",
       "      <td>Union des Socits Franais de Sports Athletiques</td>\n",
       "      <td>GBR</td>\n",
       "      <td>1900 Summer</td>\n",
       "      <td>1900</td>\n",
       "      <td>Summer</td>\n",
       "      <td>Paris</td>\n",
       "      <td>Cricket</td>\n",
       "      <td>Cricket Men's Cricket</td>\n",
       "      <td>Silver</td>\n",
       "    </tr>\n",
       "    <tr>\n",
       "      <th>233773</th>\n",
       "      <td>117244</td>\n",
       "      <td>John Symes</td>\n",
       "      <td>M</td>\n",
       "      <td>21.0</td>\n",
       "      <td>NaN</td>\n",
       "      <td>NaN</td>\n",
       "      <td>Devon and Somerset Wanderers</td>\n",
       "      <td>GBR</td>\n",
       "      <td>1900 Summer</td>\n",
       "      <td>1900</td>\n",
       "      <td>Summer</td>\n",
       "      <td>Paris</td>\n",
       "      <td>Cricket</td>\n",
       "      <td>Cricket Men's Cricket</td>\n",
       "      <td>Gold</td>\n",
       "    </tr>\n",
       "    <tr>\n",
       "      <th>237943</th>\n",
       "      <td>119315</td>\n",
       "      <td>Henry John Terry, Jr.</td>\n",
       "      <td>M</td>\n",
       "      <td>31.0</td>\n",
       "      <td>NaN</td>\n",
       "      <td>NaN</td>\n",
       "      <td>Union des Socits Franais de Sports Athletiques</td>\n",
       "      <td>GBR</td>\n",
       "      <td>1900 Summer</td>\n",
       "      <td>1900</td>\n",
       "      <td>Summer</td>\n",
       "      <td>Paris</td>\n",
       "      <td>Cricket</td>\n",
       "      <td>Cricket Men's Cricket</td>\n",
       "      <td>Silver</td>\n",
       "    </tr>\n",
       "    <tr>\n",
       "      <th>241206</th>\n",
       "      <td>120829</td>\n",
       "      <td>Montagu Henry Toller</td>\n",
       "      <td>M</td>\n",
       "      <td>29.0</td>\n",
       "      <td>NaN</td>\n",
       "      <td>NaN</td>\n",
       "      <td>Devon and Somerset Wanderers</td>\n",
       "      <td>GBR</td>\n",
       "      <td>1900 Summer</td>\n",
       "      <td>1900</td>\n",
       "      <td>Summer</td>\n",
       "      <td>Paris</td>\n",
       "      <td>Cricket</td>\n",
       "      <td>Cricket Men's Cricket</td>\n",
       "      <td>Gold</td>\n",
       "    </tr>\n",
       "    <tr>\n",
       "      <th>241297</th>\n",
       "      <td>120863</td>\n",
       "      <td>Philip Humphreys Tomalin</td>\n",
       "      <td>M</td>\n",
       "      <td>44.0</td>\n",
       "      <td>NaN</td>\n",
       "      <td>NaN</td>\n",
       "      <td>Union des Socits Franais de Sports Athletiques</td>\n",
       "      <td>FRA</td>\n",
       "      <td>1900 Summer</td>\n",
       "      <td>1900</td>\n",
       "      <td>Summer</td>\n",
       "      <td>Paris</td>\n",
       "      <td>Cricket</td>\n",
       "      <td>Cricket Men's Cricket</td>\n",
       "      <td>Silver</td>\n",
       "    </tr>\n",
       "  </tbody>\n",
       "</table>\n",
       "</div>"
      ],
      "text/plain": [
       "            ID                               Name Sex   Age  Height  Weight  \\\n",
       "6892      3871           William Wallace Anderson   M  40.0     NaN     NaN   \n",
       "10734     5871    William Dunbar \"Willie\" Attrill   M   NaN     NaN     NaN   \n",
       "16799     9009  Charles Beachey Beachcroft (Kay-)   M   NaN     NaN     NaN   \n",
       "22206    11696   Arthur Ernest Burrington Birkett   M  24.0     NaN     NaN   \n",
       "27467    14259              Alfred James Bowerman   M  26.0     NaN     NaN   \n",
       "28092    14556                           J. Braid   M   NaN     NaN     NaN   \n",
       "30259    15626                        W. Browning   M   NaN     NaN     NaN   \n",
       "31317    16101                George John Buckley   M  24.0     NaN     NaN   \n",
       "32041    16474           Francis Romulus Burchell   M  26.0     NaN     NaN   \n",
       "41257    21277        Frederick William Christian   M  32.0     NaN     NaN   \n",
       "44827    23107               Harry Richard Corner   M  25.0     NaN     NaN   \n",
       "47109    24286           Frederick William Cuming   M  24.0     NaN     NaN   \n",
       "57388    29397             William Stephens Donne   M  24.0     NaN     NaN   \n",
       "98751    49978                       Robert Horne   M   NaN     NaN     NaN   \n",
       "110525   55887                     Timothe Jordan   M  35.0     NaN     NaN   \n",
       "145261   72906                     Arthur MacEvoy   M  31.0     NaN     NaN   \n",
       "192493   96654            Alfred James Powlesland   M  24.0     NaN     NaN   \n",
       "201962  101432           Douglas Francis Robinson   M  35.0     NaN     NaN   \n",
       "204130  102484                       H. F. Roques   M   NaN     NaN     NaN   \n",
       "213576  107247              Alfred John Schneidau   M  33.0     NaN     NaN   \n",
       "233773  117244                         John Symes   M  21.0     NaN     NaN   \n",
       "237943  119315              Henry John Terry, Jr.   M  31.0     NaN     NaN   \n",
       "241206  120829               Montagu Henry Toller   M  29.0     NaN     NaN   \n",
       "241297  120863           Philip Humphreys Tomalin   M  44.0     NaN     NaN   \n",
       "\n",
       "                                                  Team  NOC        Games  \\\n",
       "6892    Union des Socits Franais de Sports Athletiques  GBR  1900 Summer   \n",
       "10734   Union des Socits Franais de Sports Athletiques  FRA  1900 Summer   \n",
       "16799                     Devon and Somerset Wanderers  GBR  1900 Summer   \n",
       "22206                     Devon and Somerset Wanderers  GBR  1900 Summer   \n",
       "27467                     Devon and Somerset Wanderers  GBR  1900 Summer   \n",
       "28092   Union des Socits Franais de Sports Athletiques  GBR  1900 Summer   \n",
       "30259   Union des Socits Franais de Sports Athletiques  GBR  1900 Summer   \n",
       "31317                     Devon and Somerset Wanderers  GBR  1900 Summer   \n",
       "32041                     Devon and Somerset Wanderers  GBR  1900 Summer   \n",
       "41257                     Devon and Somerset Wanderers  GBR  1900 Summer   \n",
       "44827                     Devon and Somerset Wanderers  GBR  1900 Summer   \n",
       "47109                     Devon and Somerset Wanderers  GBR  1900 Summer   \n",
       "57388                     Devon and Somerset Wanderers  GBR  1900 Summer   \n",
       "98751   Union des Socits Franais de Sports Athletiques  GBR  1900 Summer   \n",
       "110525  Union des Socits Franais de Sports Athletiques  GBR  1900 Summer   \n",
       "145261  Union des Socits Franais de Sports Athletiques  GBR  1900 Summer   \n",
       "192493                    Devon and Somerset Wanderers  GBR  1900 Summer   \n",
       "201962  Union des Socits Franais de Sports Athletiques  GBR  1900 Summer   \n",
       "204130  Union des Socits Franais de Sports Athletiques  FRA  1900 Summer   \n",
       "213576  Union des Socits Franais de Sports Athletiques  GBR  1900 Summer   \n",
       "233773                    Devon and Somerset Wanderers  GBR  1900 Summer   \n",
       "237943  Union des Socits Franais de Sports Athletiques  GBR  1900 Summer   \n",
       "241206                    Devon and Somerset Wanderers  GBR  1900 Summer   \n",
       "241297  Union des Socits Franais de Sports Athletiques  FRA  1900 Summer   \n",
       "\n",
       "        Year  Season   City    Sport                  Event   Medal  \n",
       "6892    1900  Summer  Paris  Cricket  Cricket Men's Cricket  Silver  \n",
       "10734   1900  Summer  Paris  Cricket  Cricket Men's Cricket  Silver  \n",
       "16799   1900  Summer  Paris  Cricket  Cricket Men's Cricket    Gold  \n",
       "22206   1900  Summer  Paris  Cricket  Cricket Men's Cricket    Gold  \n",
       "27467   1900  Summer  Paris  Cricket  Cricket Men's Cricket    Gold  \n",
       "28092   1900  Summer  Paris  Cricket  Cricket Men's Cricket  Silver  \n",
       "30259   1900  Summer  Paris  Cricket  Cricket Men's Cricket  Silver  \n",
       "31317   1900  Summer  Paris  Cricket  Cricket Men's Cricket    Gold  \n",
       "32041   1900  Summer  Paris  Cricket  Cricket Men's Cricket    Gold  \n",
       "41257   1900  Summer  Paris  Cricket  Cricket Men's Cricket    Gold  \n",
       "44827   1900  Summer  Paris  Cricket  Cricket Men's Cricket    Gold  \n",
       "47109   1900  Summer  Paris  Cricket  Cricket Men's Cricket    Gold  \n",
       "57388   1900  Summer  Paris  Cricket  Cricket Men's Cricket    Gold  \n",
       "98751   1900  Summer  Paris  Cricket  Cricket Men's Cricket  Silver  \n",
       "110525  1900  Summer  Paris  Cricket  Cricket Men's Cricket  Silver  \n",
       "145261  1900  Summer  Paris  Cricket  Cricket Men's Cricket  Silver  \n",
       "192493  1900  Summer  Paris  Cricket  Cricket Men's Cricket    Gold  \n",
       "201962  1900  Summer  Paris  Cricket  Cricket Men's Cricket  Silver  \n",
       "204130  1900  Summer  Paris  Cricket  Cricket Men's Cricket  Silver  \n",
       "213576  1900  Summer  Paris  Cricket  Cricket Men's Cricket  Silver  \n",
       "233773  1900  Summer  Paris  Cricket  Cricket Men's Cricket    Gold  \n",
       "237943  1900  Summer  Paris  Cricket  Cricket Men's Cricket  Silver  \n",
       "241206  1900  Summer  Paris  Cricket  Cricket Men's Cricket    Gold  \n",
       "241297  1900  Summer  Paris  Cricket  Cricket Men's Cricket  Silver  "
      ]
     },
     "execution_count": 5,
     "metadata": {},
     "output_type": "execute_result"
    }
   ],
   "source": [
    "#Chose sport\n",
    "sport = \"Cricket\"\n",
    "sport_data = os_data_raw.query(\"Sport == @sport\")\n",
    "\n",
    "sport_data"
   ]
  },
  {
   "cell_type": "code",
   "execution_count": 6,
   "metadata": {},
   "outputs": [
    {
     "data": {
      "text/html": [
       "<div>\n",
       "<style scoped>\n",
       "    .dataframe tbody tr th:only-of-type {\n",
       "        vertical-align: middle;\n",
       "    }\n",
       "\n",
       "    .dataframe tbody tr th {\n",
       "        vertical-align: top;\n",
       "    }\n",
       "\n",
       "    .dataframe thead th {\n",
       "        text-align: right;\n",
       "    }\n",
       "</style>\n",
       "<table border=\"1\" class=\"dataframe\">\n",
       "  <thead>\n",
       "    <tr style=\"text-align: right;\">\n",
       "      <th></th>\n",
       "      <th>ID</th>\n",
       "      <th>Name</th>\n",
       "      <th>Sex</th>\n",
       "      <th>Age</th>\n",
       "      <th>Height</th>\n",
       "      <th>Weight</th>\n",
       "      <th>Team</th>\n",
       "      <th>NOC</th>\n",
       "      <th>Games</th>\n",
       "      <th>Year</th>\n",
       "      <th>Season</th>\n",
       "      <th>City</th>\n",
       "      <th>Sport</th>\n",
       "      <th>Event</th>\n",
       "      <th>Medal</th>\n",
       "    </tr>\n",
       "  </thead>\n",
       "  <tbody>\n",
       "    <tr>\n",
       "      <th>237943</th>\n",
       "      <td>119315</td>\n",
       "      <td>Henry John Terry, Jr.</td>\n",
       "      <td>M</td>\n",
       "      <td>31.0</td>\n",
       "      <td>NaN</td>\n",
       "      <td>NaN</td>\n",
       "      <td>Union des Socits Franais de Sports Athletiques</td>\n",
       "      <td>GBR</td>\n",
       "      <td>1900 Summer</td>\n",
       "      <td>1900</td>\n",
       "      <td>Summer</td>\n",
       "      <td>Paris</td>\n",
       "      <td>Cricket</td>\n",
       "      <td>Cricket Men's Cricket</td>\n",
       "      <td>Silver</td>\n",
       "    </tr>\n",
       "  </tbody>\n",
       "</table>\n",
       "</div>"
      ],
      "text/plain": [
       "            ID                   Name Sex   Age  Height  Weight  \\\n",
       "237943  119315  Henry John Terry, Jr.   M  31.0     NaN     NaN   \n",
       "\n",
       "                                                  Team  NOC        Games  \\\n",
       "237943  Union des Socits Franais de Sports Athletiques  GBR  1900 Summer   \n",
       "\n",
       "        Year  Season   City    Sport                  Event   Medal  \n",
       "237943  1900  Summer  Paris  Cricket  Cricket Men's Cricket  Silver  "
      ]
     },
     "execution_count": 6,
     "metadata": {},
     "output_type": "execute_result"
    }
   ],
   "source": [
    "os_data_raw.query(\"ID == 119315\")"
   ]
  },
  {
   "cell_type": "code",
   "execution_count": 7,
   "metadata": {},
   "outputs": [
    {
     "data": {
      "text/plain": [
       "array([\"Cricket Men's Cricket\"], dtype=object)"
      ]
     },
     "execution_count": 7,
     "metadata": {},
     "output_type": "execute_result"
    }
   ],
   "source": [
    "sport_data[\"Event\"].unique()"
   ]
  },
  {
   "cell_type": "code",
   "execution_count": 8,
   "metadata": {},
   "outputs": [
    {
     "data": {
      "text/plain": [
       "array(['1900 Summer'], dtype=object)"
      ]
     },
     "execution_count": 8,
     "metadata": {},
     "output_type": "execute_result"
    }
   ],
   "source": [
    "sport_data[\"Games\"].unique()"
   ]
  },
  {
   "cell_type": "markdown",
   "metadata": {},
   "source": [
    "## Histogram age sport"
   ]
  },
  {
   "cell_type": "code",
   "execution_count": 9,
   "metadata": {},
   "outputs": [
    {
     "ename": "NameError",
     "evalue": "name 'plots' is not defined",
     "output_type": "error",
     "traceback": [
      "\u001b[1;31m---------------------------------------------------------------------------\u001b[0m",
      "\u001b[1;31mNameError\u001b[0m                                 Traceback (most recent call last)",
      "\u001b[1;32mC:\\Users\\ERIKLA~1\\AppData\\Local\\Temp/ipykernel_16608/702828859.py\u001b[0m in \u001b[0;36m<module>\u001b[1;34m\u001b[0m\n\u001b[1;32m----> 1\u001b[1;33m \u001b[0mplots\u001b[0m\u001b[1;33m.\u001b[0m\u001b[0mage_histogram\u001b[0m\u001b[1;33m(\u001b[0m\u001b[0msport_data\u001b[0m\u001b[1;33m)\u001b[0m\u001b[1;33m\u001b[0m\u001b[1;33m\u001b[0m\u001b[0m\n\u001b[0m",
      "\u001b[1;31mNameError\u001b[0m: name 'plots' is not defined"
     ]
    }
   ],
   "source": [
    "plots.age_histogram(sport_data)"
   ]
  },
  {
   "cell_type": "code",
   "execution_count": null,
   "metadata": {},
   "outputs": [
    {
     "data": {
      "application/vnd.plotly.v1+json": {
       "config": {
        "plotlyServerURL": "https://plot.ly"
       },
       "data": [
        {
         "domain": {
          "x": [
           0,
           1
          ],
          "y": [
           0,
           1
          ]
         },
         "hovertemplate": "label=%{label}<br>value=%{value}<extra></extra>",
         "labels": [
          "Men",
          "Women"
         ],
         "legendgroup": "",
         "name": "",
         "showlegend": true,
         "type": "pie",
         "values": [
          266,
          263
         ]
        }
       ],
       "layout": {
        "legend": {
         "tracegroupgap": 0
        },
        "template": {
         "data": {
          "bar": [
           {
            "error_x": {
             "color": "#2a3f5f"
            },
            "error_y": {
             "color": "#2a3f5f"
            },
            "marker": {
             "line": {
              "color": "#E5ECF6",
              "width": 0.5
             },
             "pattern": {
              "fillmode": "overlay",
              "size": 10,
              "solidity": 0.2
             }
            },
            "type": "bar"
           }
          ],
          "barpolar": [
           {
            "marker": {
             "line": {
              "color": "#E5ECF6",
              "width": 0.5
             },
             "pattern": {
              "fillmode": "overlay",
              "size": 10,
              "solidity": 0.2
             }
            },
            "type": "barpolar"
           }
          ],
          "carpet": [
           {
            "aaxis": {
             "endlinecolor": "#2a3f5f",
             "gridcolor": "white",
             "linecolor": "white",
             "minorgridcolor": "white",
             "startlinecolor": "#2a3f5f"
            },
            "baxis": {
             "endlinecolor": "#2a3f5f",
             "gridcolor": "white",
             "linecolor": "white",
             "minorgridcolor": "white",
             "startlinecolor": "#2a3f5f"
            },
            "type": "carpet"
           }
          ],
          "choropleth": [
           {
            "colorbar": {
             "outlinewidth": 0,
             "ticks": ""
            },
            "type": "choropleth"
           }
          ],
          "contour": [
           {
            "colorbar": {
             "outlinewidth": 0,
             "ticks": ""
            },
            "colorscale": [
             [
              0,
              "#0d0887"
             ],
             [
              0.1111111111111111,
              "#46039f"
             ],
             [
              0.2222222222222222,
              "#7201a8"
             ],
             [
              0.3333333333333333,
              "#9c179e"
             ],
             [
              0.4444444444444444,
              "#bd3786"
             ],
             [
              0.5555555555555556,
              "#d8576b"
             ],
             [
              0.6666666666666666,
              "#ed7953"
             ],
             [
              0.7777777777777778,
              "#fb9f3a"
             ],
             [
              0.8888888888888888,
              "#fdca26"
             ],
             [
              1,
              "#f0f921"
             ]
            ],
            "type": "contour"
           }
          ],
          "contourcarpet": [
           {
            "colorbar": {
             "outlinewidth": 0,
             "ticks": ""
            },
            "type": "contourcarpet"
           }
          ],
          "heatmap": [
           {
            "colorbar": {
             "outlinewidth": 0,
             "ticks": ""
            },
            "colorscale": [
             [
              0,
              "#0d0887"
             ],
             [
              0.1111111111111111,
              "#46039f"
             ],
             [
              0.2222222222222222,
              "#7201a8"
             ],
             [
              0.3333333333333333,
              "#9c179e"
             ],
             [
              0.4444444444444444,
              "#bd3786"
             ],
             [
              0.5555555555555556,
              "#d8576b"
             ],
             [
              0.6666666666666666,
              "#ed7953"
             ],
             [
              0.7777777777777778,
              "#fb9f3a"
             ],
             [
              0.8888888888888888,
              "#fdca26"
             ],
             [
              1,
              "#f0f921"
             ]
            ],
            "type": "heatmap"
           }
          ],
          "heatmapgl": [
           {
            "colorbar": {
             "outlinewidth": 0,
             "ticks": ""
            },
            "colorscale": [
             [
              0,
              "#0d0887"
             ],
             [
              0.1111111111111111,
              "#46039f"
             ],
             [
              0.2222222222222222,
              "#7201a8"
             ],
             [
              0.3333333333333333,
              "#9c179e"
             ],
             [
              0.4444444444444444,
              "#bd3786"
             ],
             [
              0.5555555555555556,
              "#d8576b"
             ],
             [
              0.6666666666666666,
              "#ed7953"
             ],
             [
              0.7777777777777778,
              "#fb9f3a"
             ],
             [
              0.8888888888888888,
              "#fdca26"
             ],
             [
              1,
              "#f0f921"
             ]
            ],
            "type": "heatmapgl"
           }
          ],
          "histogram": [
           {
            "marker": {
             "pattern": {
              "fillmode": "overlay",
              "size": 10,
              "solidity": 0.2
             }
            },
            "type": "histogram"
           }
          ],
          "histogram2d": [
           {
            "colorbar": {
             "outlinewidth": 0,
             "ticks": ""
            },
            "colorscale": [
             [
              0,
              "#0d0887"
             ],
             [
              0.1111111111111111,
              "#46039f"
             ],
             [
              0.2222222222222222,
              "#7201a8"
             ],
             [
              0.3333333333333333,
              "#9c179e"
             ],
             [
              0.4444444444444444,
              "#bd3786"
             ],
             [
              0.5555555555555556,
              "#d8576b"
             ],
             [
              0.6666666666666666,
              "#ed7953"
             ],
             [
              0.7777777777777778,
              "#fb9f3a"
             ],
             [
              0.8888888888888888,
              "#fdca26"
             ],
             [
              1,
              "#f0f921"
             ]
            ],
            "type": "histogram2d"
           }
          ],
          "histogram2dcontour": [
           {
            "colorbar": {
             "outlinewidth": 0,
             "ticks": ""
            },
            "colorscale": [
             [
              0,
              "#0d0887"
             ],
             [
              0.1111111111111111,
              "#46039f"
             ],
             [
              0.2222222222222222,
              "#7201a8"
             ],
             [
              0.3333333333333333,
              "#9c179e"
             ],
             [
              0.4444444444444444,
              "#bd3786"
             ],
             [
              0.5555555555555556,
              "#d8576b"
             ],
             [
              0.6666666666666666,
              "#ed7953"
             ],
             [
              0.7777777777777778,
              "#fb9f3a"
             ],
             [
              0.8888888888888888,
              "#fdca26"
             ],
             [
              1,
              "#f0f921"
             ]
            ],
            "type": "histogram2dcontour"
           }
          ],
          "mesh3d": [
           {
            "colorbar": {
             "outlinewidth": 0,
             "ticks": ""
            },
            "type": "mesh3d"
           }
          ],
          "parcoords": [
           {
            "line": {
             "colorbar": {
              "outlinewidth": 0,
              "ticks": ""
             }
            },
            "type": "parcoords"
           }
          ],
          "pie": [
           {
            "automargin": true,
            "type": "pie"
           }
          ],
          "scatter": [
           {
            "marker": {
             "colorbar": {
              "outlinewidth": 0,
              "ticks": ""
             }
            },
            "type": "scatter"
           }
          ],
          "scatter3d": [
           {
            "line": {
             "colorbar": {
              "outlinewidth": 0,
              "ticks": ""
             }
            },
            "marker": {
             "colorbar": {
              "outlinewidth": 0,
              "ticks": ""
             }
            },
            "type": "scatter3d"
           }
          ],
          "scattercarpet": [
           {
            "marker": {
             "colorbar": {
              "outlinewidth": 0,
              "ticks": ""
             }
            },
            "type": "scattercarpet"
           }
          ],
          "scattergeo": [
           {
            "marker": {
             "colorbar": {
              "outlinewidth": 0,
              "ticks": ""
             }
            },
            "type": "scattergeo"
           }
          ],
          "scattergl": [
           {
            "marker": {
             "colorbar": {
              "outlinewidth": 0,
              "ticks": ""
             }
            },
            "type": "scattergl"
           }
          ],
          "scattermapbox": [
           {
            "marker": {
             "colorbar": {
              "outlinewidth": 0,
              "ticks": ""
             }
            },
            "type": "scattermapbox"
           }
          ],
          "scatterpolar": [
           {
            "marker": {
             "colorbar": {
              "outlinewidth": 0,
              "ticks": ""
             }
            },
            "type": "scatterpolar"
           }
          ],
          "scatterpolargl": [
           {
            "marker": {
             "colorbar": {
              "outlinewidth": 0,
              "ticks": ""
             }
            },
            "type": "scatterpolargl"
           }
          ],
          "scatterternary": [
           {
            "marker": {
             "colorbar": {
              "outlinewidth": 0,
              "ticks": ""
             }
            },
            "type": "scatterternary"
           }
          ],
          "surface": [
           {
            "colorbar": {
             "outlinewidth": 0,
             "ticks": ""
            },
            "colorscale": [
             [
              0,
              "#0d0887"
             ],
             [
              0.1111111111111111,
              "#46039f"
             ],
             [
              0.2222222222222222,
              "#7201a8"
             ],
             [
              0.3333333333333333,
              "#9c179e"
             ],
             [
              0.4444444444444444,
              "#bd3786"
             ],
             [
              0.5555555555555556,
              "#d8576b"
             ],
             [
              0.6666666666666666,
              "#ed7953"
             ],
             [
              0.7777777777777778,
              "#fb9f3a"
             ],
             [
              0.8888888888888888,
              "#fdca26"
             ],
             [
              1,
              "#f0f921"
             ]
            ],
            "type": "surface"
           }
          ],
          "table": [
           {
            "cells": {
             "fill": {
              "color": "#EBF0F8"
             },
             "line": {
              "color": "white"
             }
            },
            "header": {
             "fill": {
              "color": "#C8D4E3"
             },
             "line": {
              "color": "white"
             }
            },
            "type": "table"
           }
          ]
         },
         "layout": {
          "annotationdefaults": {
           "arrowcolor": "#2a3f5f",
           "arrowhead": 0,
           "arrowwidth": 1
          },
          "autotypenumbers": "strict",
          "coloraxis": {
           "colorbar": {
            "outlinewidth": 0,
            "ticks": ""
           }
          },
          "colorscale": {
           "diverging": [
            [
             0,
             "#8e0152"
            ],
            [
             0.1,
             "#c51b7d"
            ],
            [
             0.2,
             "#de77ae"
            ],
            [
             0.3,
             "#f1b6da"
            ],
            [
             0.4,
             "#fde0ef"
            ],
            [
             0.5,
             "#f7f7f7"
            ],
            [
             0.6,
             "#e6f5d0"
            ],
            [
             0.7,
             "#b8e186"
            ],
            [
             0.8,
             "#7fbc41"
            ],
            [
             0.9,
             "#4d9221"
            ],
            [
             1,
             "#276419"
            ]
           ],
           "sequential": [
            [
             0,
             "#0d0887"
            ],
            [
             0.1111111111111111,
             "#46039f"
            ],
            [
             0.2222222222222222,
             "#7201a8"
            ],
            [
             0.3333333333333333,
             "#9c179e"
            ],
            [
             0.4444444444444444,
             "#bd3786"
            ],
            [
             0.5555555555555556,
             "#d8576b"
            ],
            [
             0.6666666666666666,
             "#ed7953"
            ],
            [
             0.7777777777777778,
             "#fb9f3a"
            ],
            [
             0.8888888888888888,
             "#fdca26"
            ],
            [
             1,
             "#f0f921"
            ]
           ],
           "sequentialminus": [
            [
             0,
             "#0d0887"
            ],
            [
             0.1111111111111111,
             "#46039f"
            ],
            [
             0.2222222222222222,
             "#7201a8"
            ],
            [
             0.3333333333333333,
             "#9c179e"
            ],
            [
             0.4444444444444444,
             "#bd3786"
            ],
            [
             0.5555555555555556,
             "#d8576b"
            ],
            [
             0.6666666666666666,
             "#ed7953"
            ],
            [
             0.7777777777777778,
             "#fb9f3a"
            ],
            [
             0.8888888888888888,
             "#fdca26"
            ],
            [
             1,
             "#f0f921"
            ]
           ]
          },
          "colorway": [
           "#636efa",
           "#EF553B",
           "#00cc96",
           "#ab63fa",
           "#FFA15A",
           "#19d3f3",
           "#FF6692",
           "#B6E880",
           "#FF97FF",
           "#FECB52"
          ],
          "font": {
           "color": "#2a3f5f"
          },
          "geo": {
           "bgcolor": "white",
           "lakecolor": "white",
           "landcolor": "#E5ECF6",
           "showlakes": true,
           "showland": true,
           "subunitcolor": "white"
          },
          "hoverlabel": {
           "align": "left"
          },
          "hovermode": "closest",
          "mapbox": {
           "style": "light"
          },
          "paper_bgcolor": "white",
          "plot_bgcolor": "#E5ECF6",
          "polar": {
           "angularaxis": {
            "gridcolor": "white",
            "linecolor": "white",
            "ticks": ""
           },
           "bgcolor": "#E5ECF6",
           "radialaxis": {
            "gridcolor": "white",
            "linecolor": "white",
            "ticks": ""
           }
          },
          "scene": {
           "xaxis": {
            "backgroundcolor": "#E5ECF6",
            "gridcolor": "white",
            "gridwidth": 2,
            "linecolor": "white",
            "showbackground": true,
            "ticks": "",
            "zerolinecolor": "white"
           },
           "yaxis": {
            "backgroundcolor": "#E5ECF6",
            "gridcolor": "white",
            "gridwidth": 2,
            "linecolor": "white",
            "showbackground": true,
            "ticks": "",
            "zerolinecolor": "white"
           },
           "zaxis": {
            "backgroundcolor": "#E5ECF6",
            "gridcolor": "white",
            "gridwidth": 2,
            "linecolor": "white",
            "showbackground": true,
            "ticks": "",
            "zerolinecolor": "white"
           }
          },
          "shapedefaults": {
           "line": {
            "color": "#2a3f5f"
           }
          },
          "ternary": {
           "aaxis": {
            "gridcolor": "white",
            "linecolor": "white",
            "ticks": ""
           },
           "baxis": {
            "gridcolor": "white",
            "linecolor": "white",
            "ticks": ""
           },
           "bgcolor": "#E5ECF6",
           "caxis": {
            "gridcolor": "white",
            "linecolor": "white",
            "ticks": ""
           }
          },
          "title": {
           "x": 0.05
          },
          "xaxis": {
           "automargin": true,
           "gridcolor": "white",
           "linecolor": "white",
           "ticks": "",
           "title": {
            "standoff": 15
           },
           "zerolinecolor": "white",
           "zerolinewidth": 2
          },
          "yaxis": {
           "automargin": true,
           "gridcolor": "white",
           "linecolor": "white",
           "ticks": "",
           "title": {
            "standoff": 15
           },
           "zerolinecolor": "white",
           "zerolinewidth": 2
          }
         }
        },
        "title": {
         "text": "Gender distribution"
        }
       }
      }
     },
     "metadata": {},
     "output_type": "display_data"
    }
   ],
   "source": [
    "plots.gender_pie(sport_data)"
   ]
  },
  {
   "cell_type": "code",
   "execution_count": null,
   "metadata": {},
   "outputs": [
    {
     "data": {
      "application/vnd.plotly.v1+json": {
       "config": {
        "plotlyServerURL": "https://plot.ly"
       },
       "data": [
        {
         "alignmentgroup": "True",
         "bingroup": "x",
         "hovertemplate": "Sex=F<br>Height=%{x}<br>count=%{y}<extra></extra>",
         "legendgroup": "F",
         "marker": {
          "color": "#636efa",
          "pattern": {
           "shape": ""
          }
         },
         "name": "F",
         "offsetgroup": "F",
         "orientation": "v",
         "showlegend": true,
         "type": "histogram",
         "x": [
          164,
          175,
          175,
          162,
          163,
          163,
          164,
          180,
          180,
          166,
          169,
          175,
          174,
          177,
          175,
          175,
          161,
          161,
          160,
          173,
          173,
          168,
          168,
          171,
          160,
          160,
          168,
          163,
          163,
          167,
          164,
          160,
          175,
          165,
          170,
          173,
          167,
          167,
          156,
          165,
          161,
          160,
          165,
          165,
          165,
          178,
          170,
          170,
          168,
          168,
          168,
          168,
          168,
          167,
          163,
          163,
          163,
          162,
          169,
          169,
          160,
          170,
          166,
          170,
          170,
          171,
          168,
          168,
          168,
          166,
          166,
          177,
          171,
          null,
          173,
          173,
          167,
          157,
          167,
          159,
          178,
          175,
          170,
          170,
          168,
          168,
          170,
          164,
          164,
          163,
          160,
          160,
          160,
          167,
          166,
          167,
          167,
          174,
          168,
          168,
          170,
          170,
          158,
          158,
          158,
          162,
          178,
          170,
          170,
          180,
          178,
          178,
          161,
          176,
          166,
          166,
          180,
          180,
          168,
          160,
          168,
          167,
          173,
          165,
          165,
          164,
          166,
          166,
          161,
          161,
          167,
          173,
          170,
          170,
          168,
          153,
          166,
          166,
          168,
          171,
          171,
          171,
          157,
          157,
          160,
          160,
          169,
          155,
          164,
          164,
          169,
          169,
          170,
          170,
          172,
          160,
          160,
          160,
          160,
          162,
          166,
          166,
          166,
          176,
          176,
          176,
          168,
          168,
          168,
          165,
          165,
          173,
          165,
          162,
          162,
          157,
          165,
          167,
          169,
          171,
          171,
          161,
          161,
          168,
          168,
          171,
          171,
          157,
          157,
          157,
          162,
          162,
          154,
          172,
          175,
          175,
          170,
          170,
          168,
          168,
          171,
          172,
          166,
          168,
          178,
          166,
          169,
          169,
          164,
          164,
          161,
          165,
          165,
          166,
          166,
          166,
          166,
          171,
          171,
          170,
          164,
          164,
          173,
          173,
          163,
          164,
          163,
          160,
          160,
          158,
          158,
          169,
          169,
          169,
          160,
          155,
          155,
          155,
          170,
          178,
          170,
          170,
          170,
          171,
          168,
          170,
          167,
          173,
          173,
          165,
          167,
          168,
          172,
          172,
          163,
          163,
          163,
          173,
          171,
          163,
          174,
          165,
          165
         ],
         "xaxis": "x",
         "yaxis": "y"
        },
        {
         "alignmentgroup": "True",
         "bingroup": "x",
         "hovertemplate": "Sex=M<br>Height=%{x}<br>count=%{y}<extra></extra>",
         "legendgroup": "M",
         "marker": {
          "color": "#EF553B",
          "pattern": {
           "shape": ""
          }
         },
         "name": "M",
         "offsetgroup": "M",
         "orientation": "v",
         "showlegend": true,
         "type": "histogram",
         "x": [
          179,
          178,
          189,
          189,
          173,
          176,
          176,
          173,
          173,
          177,
          180,
          181,
          181,
          177,
          177,
          178,
          191,
          181,
          180,
          175,
          178,
          178,
          177,
          189,
          180,
          179,
          178,
          182,
          184,
          184,
          184,
          181,
          181,
          184,
          184,
          184,
          182,
          182,
          183,
          183,
          184,
          174,
          179,
          179,
          183,
          190,
          190,
          181,
          172,
          185,
          175,
          180,
          174,
          174,
          181,
          185,
          185,
          185,
          183,
          172,
          178,
          178,
          178,
          170,
          186,
          186,
          172,
          170,
          189,
          189,
          173,
          181,
          181,
          194,
          194,
          173,
          173,
          173,
          175,
          172,
          179,
          179,
          177,
          178,
          178,
          176,
          176,
          180,
          166,
          166,
          180,
          179,
          182,
          188,
          187,
          187,
          177,
          181,
          187,
          187,
          187,
          175,
          168,
          168,
          185,
          185,
          185,
          183,
          185,
          185,
          188,
          178,
          186,
          186,
          176,
          182,
          183,
          183,
          183,
          175,
          188,
          191,
          191,
          191,
          191,
          180,
          180,
          186,
          186,
          181,
          181,
          171,
          176,
          172,
          172,
          192,
          180,
          180,
          178,
          183,
          177,
          177,
          175,
          181,
          182,
          182,
          182,
          172,
          178,
          178,
          183,
          176,
          172,
          177,
          178,
          178,
          186,
          186,
          186,
          178,
          180,
          180,
          170,
          170,
          186,
          164,
          179,
          179,
          179,
          178,
          178,
          186,
          175,
          182,
          182,
          182,
          187,
          182,
          185,
          185,
          185,
          182,
          182,
          182,
          191,
          187,
          181,
          189,
          173,
          172,
          184,
          184,
          174,
          174,
          174,
          196,
          185,
          176,
          190,
          182,
          182,
          182,
          182,
          172,
          172,
          186,
          180,
          180,
          174,
          174,
          174,
          185,
          170,
          190,
          190,
          180,
          172,
          178,
          171,
          171,
          185,
          175,
          175,
          184,
          176,
          193,
          193,
          177,
          183,
          183,
          176,
          167,
          167,
          167,
          167,
          175,
          174,
          174,
          178,
          184,
          175,
          185,
          185,
          185,
          179,
          185,
          183,
          188,
          188,
          181,
          184,
          184,
          179,
          187,
          175,
          176,
          177,
          177,
          177,
          177,
          187,
          175,
          175,
          178,
          190,
          183
         ],
         "xaxis": "x",
         "yaxis": "y"
        }
       ],
       "layout": {
        "barmode": "group",
        "legend": {
         "title": {
          "text": "Sex"
         },
         "tracegroupgap": 0
        },
        "template": {
         "data": {
          "bar": [
           {
            "error_x": {
             "color": "#2a3f5f"
            },
            "error_y": {
             "color": "#2a3f5f"
            },
            "marker": {
             "line": {
              "color": "#E5ECF6",
              "width": 0.5
             },
             "pattern": {
              "fillmode": "overlay",
              "size": 10,
              "solidity": 0.2
             }
            },
            "type": "bar"
           }
          ],
          "barpolar": [
           {
            "marker": {
             "line": {
              "color": "#E5ECF6",
              "width": 0.5
             },
             "pattern": {
              "fillmode": "overlay",
              "size": 10,
              "solidity": 0.2
             }
            },
            "type": "barpolar"
           }
          ],
          "carpet": [
           {
            "aaxis": {
             "endlinecolor": "#2a3f5f",
             "gridcolor": "white",
             "linecolor": "white",
             "minorgridcolor": "white",
             "startlinecolor": "#2a3f5f"
            },
            "baxis": {
             "endlinecolor": "#2a3f5f",
             "gridcolor": "white",
             "linecolor": "white",
             "minorgridcolor": "white",
             "startlinecolor": "#2a3f5f"
            },
            "type": "carpet"
           }
          ],
          "choropleth": [
           {
            "colorbar": {
             "outlinewidth": 0,
             "ticks": ""
            },
            "type": "choropleth"
           }
          ],
          "contour": [
           {
            "colorbar": {
             "outlinewidth": 0,
             "ticks": ""
            },
            "colorscale": [
             [
              0,
              "#0d0887"
             ],
             [
              0.1111111111111111,
              "#46039f"
             ],
             [
              0.2222222222222222,
              "#7201a8"
             ],
             [
              0.3333333333333333,
              "#9c179e"
             ],
             [
              0.4444444444444444,
              "#bd3786"
             ],
             [
              0.5555555555555556,
              "#d8576b"
             ],
             [
              0.6666666666666666,
              "#ed7953"
             ],
             [
              0.7777777777777778,
              "#fb9f3a"
             ],
             [
              0.8888888888888888,
              "#fdca26"
             ],
             [
              1,
              "#f0f921"
             ]
            ],
            "type": "contour"
           }
          ],
          "contourcarpet": [
           {
            "colorbar": {
             "outlinewidth": 0,
             "ticks": ""
            },
            "type": "contourcarpet"
           }
          ],
          "heatmap": [
           {
            "colorbar": {
             "outlinewidth": 0,
             "ticks": ""
            },
            "colorscale": [
             [
              0,
              "#0d0887"
             ],
             [
              0.1111111111111111,
              "#46039f"
             ],
             [
              0.2222222222222222,
              "#7201a8"
             ],
             [
              0.3333333333333333,
              "#9c179e"
             ],
             [
              0.4444444444444444,
              "#bd3786"
             ],
             [
              0.5555555555555556,
              "#d8576b"
             ],
             [
              0.6666666666666666,
              "#ed7953"
             ],
             [
              0.7777777777777778,
              "#fb9f3a"
             ],
             [
              0.8888888888888888,
              "#fdca26"
             ],
             [
              1,
              "#f0f921"
             ]
            ],
            "type": "heatmap"
           }
          ],
          "heatmapgl": [
           {
            "colorbar": {
             "outlinewidth": 0,
             "ticks": ""
            },
            "colorscale": [
             [
              0,
              "#0d0887"
             ],
             [
              0.1111111111111111,
              "#46039f"
             ],
             [
              0.2222222222222222,
              "#7201a8"
             ],
             [
              0.3333333333333333,
              "#9c179e"
             ],
             [
              0.4444444444444444,
              "#bd3786"
             ],
             [
              0.5555555555555556,
              "#d8576b"
             ],
             [
              0.6666666666666666,
              "#ed7953"
             ],
             [
              0.7777777777777778,
              "#fb9f3a"
             ],
             [
              0.8888888888888888,
              "#fdca26"
             ],
             [
              1,
              "#f0f921"
             ]
            ],
            "type": "heatmapgl"
           }
          ],
          "histogram": [
           {
            "marker": {
             "pattern": {
              "fillmode": "overlay",
              "size": 10,
              "solidity": 0.2
             }
            },
            "type": "histogram"
           }
          ],
          "histogram2d": [
           {
            "colorbar": {
             "outlinewidth": 0,
             "ticks": ""
            },
            "colorscale": [
             [
              0,
              "#0d0887"
             ],
             [
              0.1111111111111111,
              "#46039f"
             ],
             [
              0.2222222222222222,
              "#7201a8"
             ],
             [
              0.3333333333333333,
              "#9c179e"
             ],
             [
              0.4444444444444444,
              "#bd3786"
             ],
             [
              0.5555555555555556,
              "#d8576b"
             ],
             [
              0.6666666666666666,
              "#ed7953"
             ],
             [
              0.7777777777777778,
              "#fb9f3a"
             ],
             [
              0.8888888888888888,
              "#fdca26"
             ],
             [
              1,
              "#f0f921"
             ]
            ],
            "type": "histogram2d"
           }
          ],
          "histogram2dcontour": [
           {
            "colorbar": {
             "outlinewidth": 0,
             "ticks": ""
            },
            "colorscale": [
             [
              0,
              "#0d0887"
             ],
             [
              0.1111111111111111,
              "#46039f"
             ],
             [
              0.2222222222222222,
              "#7201a8"
             ],
             [
              0.3333333333333333,
              "#9c179e"
             ],
             [
              0.4444444444444444,
              "#bd3786"
             ],
             [
              0.5555555555555556,
              "#d8576b"
             ],
             [
              0.6666666666666666,
              "#ed7953"
             ],
             [
              0.7777777777777778,
              "#fb9f3a"
             ],
             [
              0.8888888888888888,
              "#fdca26"
             ],
             [
              1,
              "#f0f921"
             ]
            ],
            "type": "histogram2dcontour"
           }
          ],
          "mesh3d": [
           {
            "colorbar": {
             "outlinewidth": 0,
             "ticks": ""
            },
            "type": "mesh3d"
           }
          ],
          "parcoords": [
           {
            "line": {
             "colorbar": {
              "outlinewidth": 0,
              "ticks": ""
             }
            },
            "type": "parcoords"
           }
          ],
          "pie": [
           {
            "automargin": true,
            "type": "pie"
           }
          ],
          "scatter": [
           {
            "marker": {
             "colorbar": {
              "outlinewidth": 0,
              "ticks": ""
             }
            },
            "type": "scatter"
           }
          ],
          "scatter3d": [
           {
            "line": {
             "colorbar": {
              "outlinewidth": 0,
              "ticks": ""
             }
            },
            "marker": {
             "colorbar": {
              "outlinewidth": 0,
              "ticks": ""
             }
            },
            "type": "scatter3d"
           }
          ],
          "scattercarpet": [
           {
            "marker": {
             "colorbar": {
              "outlinewidth": 0,
              "ticks": ""
             }
            },
            "type": "scattercarpet"
           }
          ],
          "scattergeo": [
           {
            "marker": {
             "colorbar": {
              "outlinewidth": 0,
              "ticks": ""
             }
            },
            "type": "scattergeo"
           }
          ],
          "scattergl": [
           {
            "marker": {
             "colorbar": {
              "outlinewidth": 0,
              "ticks": ""
             }
            },
            "type": "scattergl"
           }
          ],
          "scattermapbox": [
           {
            "marker": {
             "colorbar": {
              "outlinewidth": 0,
              "ticks": ""
             }
            },
            "type": "scattermapbox"
           }
          ],
          "scatterpolar": [
           {
            "marker": {
             "colorbar": {
              "outlinewidth": 0,
              "ticks": ""
             }
            },
            "type": "scatterpolar"
           }
          ],
          "scatterpolargl": [
           {
            "marker": {
             "colorbar": {
              "outlinewidth": 0,
              "ticks": ""
             }
            },
            "type": "scatterpolargl"
           }
          ],
          "scatterternary": [
           {
            "marker": {
             "colorbar": {
              "outlinewidth": 0,
              "ticks": ""
             }
            },
            "type": "scatterternary"
           }
          ],
          "surface": [
           {
            "colorbar": {
             "outlinewidth": 0,
             "ticks": ""
            },
            "colorscale": [
             [
              0,
              "#0d0887"
             ],
             [
              0.1111111111111111,
              "#46039f"
             ],
             [
              0.2222222222222222,
              "#7201a8"
             ],
             [
              0.3333333333333333,
              "#9c179e"
             ],
             [
              0.4444444444444444,
              "#bd3786"
             ],
             [
              0.5555555555555556,
              "#d8576b"
             ],
             [
              0.6666666666666666,
              "#ed7953"
             ],
             [
              0.7777777777777778,
              "#fb9f3a"
             ],
             [
              0.8888888888888888,
              "#fdca26"
             ],
             [
              1,
              "#f0f921"
             ]
            ],
            "type": "surface"
           }
          ],
          "table": [
           {
            "cells": {
             "fill": {
              "color": "#EBF0F8"
             },
             "line": {
              "color": "white"
             }
            },
            "header": {
             "fill": {
              "color": "#C8D4E3"
             },
             "line": {
              "color": "white"
             }
            },
            "type": "table"
           }
          ]
         },
         "layout": {
          "annotationdefaults": {
           "arrowcolor": "#2a3f5f",
           "arrowhead": 0,
           "arrowwidth": 1
          },
          "autotypenumbers": "strict",
          "coloraxis": {
           "colorbar": {
            "outlinewidth": 0,
            "ticks": ""
           }
          },
          "colorscale": {
           "diverging": [
            [
             0,
             "#8e0152"
            ],
            [
             0.1,
             "#c51b7d"
            ],
            [
             0.2,
             "#de77ae"
            ],
            [
             0.3,
             "#f1b6da"
            ],
            [
             0.4,
             "#fde0ef"
            ],
            [
             0.5,
             "#f7f7f7"
            ],
            [
             0.6,
             "#e6f5d0"
            ],
            [
             0.7,
             "#b8e186"
            ],
            [
             0.8,
             "#7fbc41"
            ],
            [
             0.9,
             "#4d9221"
            ],
            [
             1,
             "#276419"
            ]
           ],
           "sequential": [
            [
             0,
             "#0d0887"
            ],
            [
             0.1111111111111111,
             "#46039f"
            ],
            [
             0.2222222222222222,
             "#7201a8"
            ],
            [
             0.3333333333333333,
             "#9c179e"
            ],
            [
             0.4444444444444444,
             "#bd3786"
            ],
            [
             0.5555555555555556,
             "#d8576b"
            ],
            [
             0.6666666666666666,
             "#ed7953"
            ],
            [
             0.7777777777777778,
             "#fb9f3a"
            ],
            [
             0.8888888888888888,
             "#fdca26"
            ],
            [
             1,
             "#f0f921"
            ]
           ],
           "sequentialminus": [
            [
             0,
             "#0d0887"
            ],
            [
             0.1111111111111111,
             "#46039f"
            ],
            [
             0.2222222222222222,
             "#7201a8"
            ],
            [
             0.3333333333333333,
             "#9c179e"
            ],
            [
             0.4444444444444444,
             "#bd3786"
            ],
            [
             0.5555555555555556,
             "#d8576b"
            ],
            [
             0.6666666666666666,
             "#ed7953"
            ],
            [
             0.7777777777777778,
             "#fb9f3a"
            ],
            [
             0.8888888888888888,
             "#fdca26"
            ],
            [
             1,
             "#f0f921"
            ]
           ]
          },
          "colorway": [
           "#636efa",
           "#EF553B",
           "#00cc96",
           "#ab63fa",
           "#FFA15A",
           "#19d3f3",
           "#FF6692",
           "#B6E880",
           "#FF97FF",
           "#FECB52"
          ],
          "font": {
           "color": "#2a3f5f"
          },
          "geo": {
           "bgcolor": "white",
           "lakecolor": "white",
           "landcolor": "#E5ECF6",
           "showlakes": true,
           "showland": true,
           "subunitcolor": "white"
          },
          "hoverlabel": {
           "align": "left"
          },
          "hovermode": "closest",
          "mapbox": {
           "style": "light"
          },
          "paper_bgcolor": "white",
          "plot_bgcolor": "#E5ECF6",
          "polar": {
           "angularaxis": {
            "gridcolor": "white",
            "linecolor": "white",
            "ticks": ""
           },
           "bgcolor": "#E5ECF6",
           "radialaxis": {
            "gridcolor": "white",
            "linecolor": "white",
            "ticks": ""
           }
          },
          "scene": {
           "xaxis": {
            "backgroundcolor": "#E5ECF6",
            "gridcolor": "white",
            "gridwidth": 2,
            "linecolor": "white",
            "showbackground": true,
            "ticks": "",
            "zerolinecolor": "white"
           },
           "yaxis": {
            "backgroundcolor": "#E5ECF6",
            "gridcolor": "white",
            "gridwidth": 2,
            "linecolor": "white",
            "showbackground": true,
            "ticks": "",
            "zerolinecolor": "white"
           },
           "zaxis": {
            "backgroundcolor": "#E5ECF6",
            "gridcolor": "white",
            "gridwidth": 2,
            "linecolor": "white",
            "showbackground": true,
            "ticks": "",
            "zerolinecolor": "white"
           }
          },
          "shapedefaults": {
           "line": {
            "color": "#2a3f5f"
           }
          },
          "ternary": {
           "aaxis": {
            "gridcolor": "white",
            "linecolor": "white",
            "ticks": ""
           },
           "baxis": {
            "gridcolor": "white",
            "linecolor": "white",
            "ticks": ""
           },
           "bgcolor": "#E5ECF6",
           "caxis": {
            "gridcolor": "white",
            "linecolor": "white",
            "ticks": ""
           }
          },
          "title": {
           "x": 0.05
          },
          "xaxis": {
           "automargin": true,
           "gridcolor": "white",
           "linecolor": "white",
           "ticks": "",
           "title": {
            "standoff": 15
           },
           "zerolinecolor": "white",
           "zerolinewidth": 2
          },
          "yaxis": {
           "automargin": true,
           "gridcolor": "white",
           "linecolor": "white",
           "ticks": "",
           "title": {
            "standoff": 15
           },
           "zerolinecolor": "white",
           "zerolinewidth": 2
          }
         }
        },
        "title": {
         "text": "Height distribution"
        },
        "xaxis": {
         "anchor": "y",
         "domain": [
          0,
          1
         ],
         "title": {
          "text": "Height"
         }
        },
        "yaxis": {
         "anchor": "x",
         "domain": [
          0,
          1
         ],
         "title": {
          "text": "count"
         }
        }
       }
      }
     },
     "metadata": {},
     "output_type": "display_data"
    }
   ],
   "source": [
    "plots.height_histogram(sport_data)"
   ]
  },
  {
   "cell_type": "code",
   "execution_count": null,
   "metadata": {},
   "outputs": [
    {
     "data": {
      "application/vnd.plotly.v1+json": {
       "config": {
        "plotlyServerURL": "https://plot.ly"
       },
       "data": [
        {
         "alignmentgroup": "True",
         "bingroup": "x",
         "hovertemplate": "Sex=F<br>Weight=%{x}<br>count=%{y}<extra></extra>",
         "legendgroup": "F",
         "marker": {
          "color": "#636efa",
          "pattern": {
           "shape": ""
          }
         },
         "name": "F",
         "offsetgroup": "F",
         "orientation": "v",
         "showlegend": true,
         "type": "histogram",
         "x": [
          51,
          56,
          56,
          51,
          53,
          53,
          68,
          72,
          72,
          56,
          55,
          62,
          58,
          54,
          59,
          59,
          48,
          48,
          53,
          60,
          60,
          57,
          57,
          65,
          49,
          49,
          58,
          51,
          51,
          53,
          52,
          50,
          60,
          64,
          60,
          56,
          54,
          54,
          46,
          48,
          54,
          48,
          52,
          52,
          52,
          62,
          58,
          58,
          55,
          56,
          56,
          56,
          56,
          54,
          57,
          57,
          57,
          46,
          55,
          55,
          48,
          55,
          54,
          60,
          60,
          54,
          50,
          50,
          50,
          53,
          53,
          67,
          52,
          null,
          63,
          63,
          50,
          52,
          55,
          49,
          60,
          63,
          61,
          61,
          53,
          53,
          58,
          51,
          51,
          48,
          50,
          50,
          50,
          54,
          52,
          50,
          50,
          61,
          56,
          56,
          57,
          57,
          50,
          51,
          51,
          51,
          62,
          59,
          59,
          60,
          59,
          59,
          48,
          61,
          51,
          51,
          58,
          58,
          53,
          51,
          57,
          58,
          53,
          55,
          53,
          57,
          54,
          54,
          50,
          50,
          57,
          null,
          55,
          55,
          55,
          45,
          53,
          53,
          54,
          57,
          57,
          57,
          47,
          47,
          56,
          56,
          56,
          46,
          50,
          50,
          53,
          53,
          62,
          60,
          58,
          48,
          48,
          48,
          48,
          54,
          53,
          53,
          53,
          60,
          60,
          60,
          50,
          50,
          50,
          60,
          60,
          62,
          50,
          52,
          52,
          52,
          53,
          48,
          55,
          60,
          60,
          49,
          49,
          56,
          56,
          56,
          56,
          46,
          46,
          46,
          54,
          54,
          49,
          60,
          59,
          59,
          56,
          56,
          53,
          53,
          56,
          59,
          51,
          53,
          68,
          55,
          58,
          58,
          56,
          56,
          48,
          56,
          56,
          54,
          54,
          54,
          54,
          55,
          55,
          55,
          53,
          53,
          61,
          61,
          49,
          51,
          48,
          54,
          54,
          48,
          48,
          55,
          55,
          55,
          54,
          44,
          44,
          44,
          59,
          59,
          61,
          61,
          55,
          55,
          62,
          64,
          60,
          57,
          57,
          58,
          58,
          57,
          56,
          56,
          53,
          53,
          53,
          59,
          58,
          52,
          61,
          53,
          53
         ],
         "xaxis": "x",
         "yaxis": "y"
        },
        {
         "alignmentgroup": "True",
         "bingroup": "x",
         "hovertemplate": "Sex=M<br>Weight=%{x}<br>count=%{y}<extra></extra>",
         "legendgroup": "M",
         "marker": {
          "color": "#EF553B",
          "pattern": {
           "shape": ""
          }
         },
         "name": "M",
         "offsetgroup": "M",
         "orientation": "v",
         "showlegend": true,
         "type": "histogram",
         "x": [
          64,
          67,
          78,
          78,
          62,
          68,
          68,
          66,
          66,
          61,
          71,
          76,
          75,
          62,
          62,
          69,
          78,
          64,
          71,
          66,
          62,
          62,
          null,
          76,
          75,
          67,
          65,
          74,
          70,
          70,
          70,
          70,
          70,
          79,
          79,
          79,
          72,
          72,
          75,
          75,
          70,
          72,
          65,
          65,
          71,
          72,
          72,
          70,
          61,
          69,
          65,
          67,
          68,
          68,
          66,
          71,
          71,
          71,
          68,
          63,
          66,
          66,
          66,
          65,
          77,
          77,
          65,
          61,
          77,
          77,
          64,
          70,
          70,
          75,
          75,
          66,
          63,
          63,
          74,
          61,
          66,
          66,
          62,
          69,
          69,
          70,
          70,
          69,
          60,
          60,
          67,
          69,
          68,
          72,
          72,
          72,
          64,
          74,
          73,
          73,
          73,
          65,
          56,
          56,
          70,
          70,
          70,
          67,
          75,
          75,
          75,
          63,
          68,
          68,
          64,
          67,
          67,
          67,
          70,
          65,
          76,
          74,
          74,
          74,
          74,
          71,
          71,
          76,
          76,
          75,
          75,
          64,
          65,
          68,
          68,
          78,
          72,
          72,
          64,
          67,
          65,
          65,
          65,
          75,
          72,
          72,
          72,
          61,
          65,
          65,
          71,
          64,
          59,
          68,
          63,
          63,
          74,
          74,
          74,
          68,
          70,
          70,
          60,
          60,
          75,
          54,
          69,
          69,
          69,
          67,
          67,
          71,
          64,
          70,
          70,
          70,
          74,
          72,
          73,
          73,
          73,
          69,
          69,
          69,
          72,
          78,
          69,
          78,
          57,
          70,
          72,
          72,
          61,
          61,
          61,
          81,
          68,
          65,
          73,
          69,
          69,
          69,
          69,
          59,
          59,
          79,
          67,
          73,
          64,
          64,
          64,
          70,
          59,
          80,
          80,
          71,
          65,
          67,
          60,
          60,
          75,
          62,
          62,
          70,
          72,
          82,
          82,
          66,
          70,
          70,
          63,
          62,
          62,
          62,
          62,
          65,
          61,
          61,
          70,
          73,
          65,
          64,
          64,
          74,
          76,
          68,
          64,
          65,
          65,
          72,
          64,
          64,
          73,
          78,
          67,
          66,
          70,
          70,
          70,
          70,
          72,
          69,
          73,
          67,
          75,
          72
         ],
         "xaxis": "x",
         "yaxis": "y"
        }
       ],
       "layout": {
        "barmode": "group",
        "legend": {
         "title": {
          "text": "Sex"
         },
         "tracegroupgap": 0
        },
        "template": {
         "data": {
          "bar": [
           {
            "error_x": {
             "color": "#2a3f5f"
            },
            "error_y": {
             "color": "#2a3f5f"
            },
            "marker": {
             "line": {
              "color": "#E5ECF6",
              "width": 0.5
             },
             "pattern": {
              "fillmode": "overlay",
              "size": 10,
              "solidity": 0.2
             }
            },
            "type": "bar"
           }
          ],
          "barpolar": [
           {
            "marker": {
             "line": {
              "color": "#E5ECF6",
              "width": 0.5
             },
             "pattern": {
              "fillmode": "overlay",
              "size": 10,
              "solidity": 0.2
             }
            },
            "type": "barpolar"
           }
          ],
          "carpet": [
           {
            "aaxis": {
             "endlinecolor": "#2a3f5f",
             "gridcolor": "white",
             "linecolor": "white",
             "minorgridcolor": "white",
             "startlinecolor": "#2a3f5f"
            },
            "baxis": {
             "endlinecolor": "#2a3f5f",
             "gridcolor": "white",
             "linecolor": "white",
             "minorgridcolor": "white",
             "startlinecolor": "#2a3f5f"
            },
            "type": "carpet"
           }
          ],
          "choropleth": [
           {
            "colorbar": {
             "outlinewidth": 0,
             "ticks": ""
            },
            "type": "choropleth"
           }
          ],
          "contour": [
           {
            "colorbar": {
             "outlinewidth": 0,
             "ticks": ""
            },
            "colorscale": [
             [
              0,
              "#0d0887"
             ],
             [
              0.1111111111111111,
              "#46039f"
             ],
             [
              0.2222222222222222,
              "#7201a8"
             ],
             [
              0.3333333333333333,
              "#9c179e"
             ],
             [
              0.4444444444444444,
              "#bd3786"
             ],
             [
              0.5555555555555556,
              "#d8576b"
             ],
             [
              0.6666666666666666,
              "#ed7953"
             ],
             [
              0.7777777777777778,
              "#fb9f3a"
             ],
             [
              0.8888888888888888,
              "#fdca26"
             ],
             [
              1,
              "#f0f921"
             ]
            ],
            "type": "contour"
           }
          ],
          "contourcarpet": [
           {
            "colorbar": {
             "outlinewidth": 0,
             "ticks": ""
            },
            "type": "contourcarpet"
           }
          ],
          "heatmap": [
           {
            "colorbar": {
             "outlinewidth": 0,
             "ticks": ""
            },
            "colorscale": [
             [
              0,
              "#0d0887"
             ],
             [
              0.1111111111111111,
              "#46039f"
             ],
             [
              0.2222222222222222,
              "#7201a8"
             ],
             [
              0.3333333333333333,
              "#9c179e"
             ],
             [
              0.4444444444444444,
              "#bd3786"
             ],
             [
              0.5555555555555556,
              "#d8576b"
             ],
             [
              0.6666666666666666,
              "#ed7953"
             ],
             [
              0.7777777777777778,
              "#fb9f3a"
             ],
             [
              0.8888888888888888,
              "#fdca26"
             ],
             [
              1,
              "#f0f921"
             ]
            ],
            "type": "heatmap"
           }
          ],
          "heatmapgl": [
           {
            "colorbar": {
             "outlinewidth": 0,
             "ticks": ""
            },
            "colorscale": [
             [
              0,
              "#0d0887"
             ],
             [
              0.1111111111111111,
              "#46039f"
             ],
             [
              0.2222222222222222,
              "#7201a8"
             ],
             [
              0.3333333333333333,
              "#9c179e"
             ],
             [
              0.4444444444444444,
              "#bd3786"
             ],
             [
              0.5555555555555556,
              "#d8576b"
             ],
             [
              0.6666666666666666,
              "#ed7953"
             ],
             [
              0.7777777777777778,
              "#fb9f3a"
             ],
             [
              0.8888888888888888,
              "#fdca26"
             ],
             [
              1,
              "#f0f921"
             ]
            ],
            "type": "heatmapgl"
           }
          ],
          "histogram": [
           {
            "marker": {
             "pattern": {
              "fillmode": "overlay",
              "size": 10,
              "solidity": 0.2
             }
            },
            "type": "histogram"
           }
          ],
          "histogram2d": [
           {
            "colorbar": {
             "outlinewidth": 0,
             "ticks": ""
            },
            "colorscale": [
             [
              0,
              "#0d0887"
             ],
             [
              0.1111111111111111,
              "#46039f"
             ],
             [
              0.2222222222222222,
              "#7201a8"
             ],
             [
              0.3333333333333333,
              "#9c179e"
             ],
             [
              0.4444444444444444,
              "#bd3786"
             ],
             [
              0.5555555555555556,
              "#d8576b"
             ],
             [
              0.6666666666666666,
              "#ed7953"
             ],
             [
              0.7777777777777778,
              "#fb9f3a"
             ],
             [
              0.8888888888888888,
              "#fdca26"
             ],
             [
              1,
              "#f0f921"
             ]
            ],
            "type": "histogram2d"
           }
          ],
          "histogram2dcontour": [
           {
            "colorbar": {
             "outlinewidth": 0,
             "ticks": ""
            },
            "colorscale": [
             [
              0,
              "#0d0887"
             ],
             [
              0.1111111111111111,
              "#46039f"
             ],
             [
              0.2222222222222222,
              "#7201a8"
             ],
             [
              0.3333333333333333,
              "#9c179e"
             ],
             [
              0.4444444444444444,
              "#bd3786"
             ],
             [
              0.5555555555555556,
              "#d8576b"
             ],
             [
              0.6666666666666666,
              "#ed7953"
             ],
             [
              0.7777777777777778,
              "#fb9f3a"
             ],
             [
              0.8888888888888888,
              "#fdca26"
             ],
             [
              1,
              "#f0f921"
             ]
            ],
            "type": "histogram2dcontour"
           }
          ],
          "mesh3d": [
           {
            "colorbar": {
             "outlinewidth": 0,
             "ticks": ""
            },
            "type": "mesh3d"
           }
          ],
          "parcoords": [
           {
            "line": {
             "colorbar": {
              "outlinewidth": 0,
              "ticks": ""
             }
            },
            "type": "parcoords"
           }
          ],
          "pie": [
           {
            "automargin": true,
            "type": "pie"
           }
          ],
          "scatter": [
           {
            "marker": {
             "colorbar": {
              "outlinewidth": 0,
              "ticks": ""
             }
            },
            "type": "scatter"
           }
          ],
          "scatter3d": [
           {
            "line": {
             "colorbar": {
              "outlinewidth": 0,
              "ticks": ""
             }
            },
            "marker": {
             "colorbar": {
              "outlinewidth": 0,
              "ticks": ""
             }
            },
            "type": "scatter3d"
           }
          ],
          "scattercarpet": [
           {
            "marker": {
             "colorbar": {
              "outlinewidth": 0,
              "ticks": ""
             }
            },
            "type": "scattercarpet"
           }
          ],
          "scattergeo": [
           {
            "marker": {
             "colorbar": {
              "outlinewidth": 0,
              "ticks": ""
             }
            },
            "type": "scattergeo"
           }
          ],
          "scattergl": [
           {
            "marker": {
             "colorbar": {
              "outlinewidth": 0,
              "ticks": ""
             }
            },
            "type": "scattergl"
           }
          ],
          "scattermapbox": [
           {
            "marker": {
             "colorbar": {
              "outlinewidth": 0,
              "ticks": ""
             }
            },
            "type": "scattermapbox"
           }
          ],
          "scatterpolar": [
           {
            "marker": {
             "colorbar": {
              "outlinewidth": 0,
              "ticks": ""
             }
            },
            "type": "scatterpolar"
           }
          ],
          "scatterpolargl": [
           {
            "marker": {
             "colorbar": {
              "outlinewidth": 0,
              "ticks": ""
             }
            },
            "type": "scatterpolargl"
           }
          ],
          "scatterternary": [
           {
            "marker": {
             "colorbar": {
              "outlinewidth": 0,
              "ticks": ""
             }
            },
            "type": "scatterternary"
           }
          ],
          "surface": [
           {
            "colorbar": {
             "outlinewidth": 0,
             "ticks": ""
            },
            "colorscale": [
             [
              0,
              "#0d0887"
             ],
             [
              0.1111111111111111,
              "#46039f"
             ],
             [
              0.2222222222222222,
              "#7201a8"
             ],
             [
              0.3333333333333333,
              "#9c179e"
             ],
             [
              0.4444444444444444,
              "#bd3786"
             ],
             [
              0.5555555555555556,
              "#d8576b"
             ],
             [
              0.6666666666666666,
              "#ed7953"
             ],
             [
              0.7777777777777778,
              "#fb9f3a"
             ],
             [
              0.8888888888888888,
              "#fdca26"
             ],
             [
              1,
              "#f0f921"
             ]
            ],
            "type": "surface"
           }
          ],
          "table": [
           {
            "cells": {
             "fill": {
              "color": "#EBF0F8"
             },
             "line": {
              "color": "white"
             }
            },
            "header": {
             "fill": {
              "color": "#C8D4E3"
             },
             "line": {
              "color": "white"
             }
            },
            "type": "table"
           }
          ]
         },
         "layout": {
          "annotationdefaults": {
           "arrowcolor": "#2a3f5f",
           "arrowhead": 0,
           "arrowwidth": 1
          },
          "autotypenumbers": "strict",
          "coloraxis": {
           "colorbar": {
            "outlinewidth": 0,
            "ticks": ""
           }
          },
          "colorscale": {
           "diverging": [
            [
             0,
             "#8e0152"
            ],
            [
             0.1,
             "#c51b7d"
            ],
            [
             0.2,
             "#de77ae"
            ],
            [
             0.3,
             "#f1b6da"
            ],
            [
             0.4,
             "#fde0ef"
            ],
            [
             0.5,
             "#f7f7f7"
            ],
            [
             0.6,
             "#e6f5d0"
            ],
            [
             0.7,
             "#b8e186"
            ],
            [
             0.8,
             "#7fbc41"
            ],
            [
             0.9,
             "#4d9221"
            ],
            [
             1,
             "#276419"
            ]
           ],
           "sequential": [
            [
             0,
             "#0d0887"
            ],
            [
             0.1111111111111111,
             "#46039f"
            ],
            [
             0.2222222222222222,
             "#7201a8"
            ],
            [
             0.3333333333333333,
             "#9c179e"
            ],
            [
             0.4444444444444444,
             "#bd3786"
            ],
            [
             0.5555555555555556,
             "#d8576b"
            ],
            [
             0.6666666666666666,
             "#ed7953"
            ],
            [
             0.7777777777777778,
             "#fb9f3a"
            ],
            [
             0.8888888888888888,
             "#fdca26"
            ],
            [
             1,
             "#f0f921"
            ]
           ],
           "sequentialminus": [
            [
             0,
             "#0d0887"
            ],
            [
             0.1111111111111111,
             "#46039f"
            ],
            [
             0.2222222222222222,
             "#7201a8"
            ],
            [
             0.3333333333333333,
             "#9c179e"
            ],
            [
             0.4444444444444444,
             "#bd3786"
            ],
            [
             0.5555555555555556,
             "#d8576b"
            ],
            [
             0.6666666666666666,
             "#ed7953"
            ],
            [
             0.7777777777777778,
             "#fb9f3a"
            ],
            [
             0.8888888888888888,
             "#fdca26"
            ],
            [
             1,
             "#f0f921"
            ]
           ]
          },
          "colorway": [
           "#636efa",
           "#EF553B",
           "#00cc96",
           "#ab63fa",
           "#FFA15A",
           "#19d3f3",
           "#FF6692",
           "#B6E880",
           "#FF97FF",
           "#FECB52"
          ],
          "font": {
           "color": "#2a3f5f"
          },
          "geo": {
           "bgcolor": "white",
           "lakecolor": "white",
           "landcolor": "#E5ECF6",
           "showlakes": true,
           "showland": true,
           "subunitcolor": "white"
          },
          "hoverlabel": {
           "align": "left"
          },
          "hovermode": "closest",
          "mapbox": {
           "style": "light"
          },
          "paper_bgcolor": "white",
          "plot_bgcolor": "#E5ECF6",
          "polar": {
           "angularaxis": {
            "gridcolor": "white",
            "linecolor": "white",
            "ticks": ""
           },
           "bgcolor": "#E5ECF6",
           "radialaxis": {
            "gridcolor": "white",
            "linecolor": "white",
            "ticks": ""
           }
          },
          "scene": {
           "xaxis": {
            "backgroundcolor": "#E5ECF6",
            "gridcolor": "white",
            "gridwidth": 2,
            "linecolor": "white",
            "showbackground": true,
            "ticks": "",
            "zerolinecolor": "white"
           },
           "yaxis": {
            "backgroundcolor": "#E5ECF6",
            "gridcolor": "white",
            "gridwidth": 2,
            "linecolor": "white",
            "showbackground": true,
            "ticks": "",
            "zerolinecolor": "white"
           },
           "zaxis": {
            "backgroundcolor": "#E5ECF6",
            "gridcolor": "white",
            "gridwidth": 2,
            "linecolor": "white",
            "showbackground": true,
            "ticks": "",
            "zerolinecolor": "white"
           }
          },
          "shapedefaults": {
           "line": {
            "color": "#2a3f5f"
           }
          },
          "ternary": {
           "aaxis": {
            "gridcolor": "white",
            "linecolor": "white",
            "ticks": ""
           },
           "baxis": {
            "gridcolor": "white",
            "linecolor": "white",
            "ticks": ""
           },
           "bgcolor": "#E5ECF6",
           "caxis": {
            "gridcolor": "white",
            "linecolor": "white",
            "ticks": ""
           }
          },
          "title": {
           "x": 0.05
          },
          "xaxis": {
           "automargin": true,
           "gridcolor": "white",
           "linecolor": "white",
           "ticks": "",
           "title": {
            "standoff": 15
           },
           "zerolinecolor": "white",
           "zerolinewidth": 2
          },
          "yaxis": {
           "automargin": true,
           "gridcolor": "white",
           "linecolor": "white",
           "ticks": "",
           "title": {
            "standoff": 15
           },
           "zerolinecolor": "white",
           "zerolinewidth": 2
          }
         }
        },
        "title": {
         "text": "Weight distribution"
        },
        "xaxis": {
         "anchor": "y",
         "domain": [
          0,
          1
         ],
         "title": {
          "text": "Weight"
         }
        },
        "yaxis": {
         "anchor": "x",
         "domain": [
          0,
          1
         ],
         "title": {
          "text": "count"
         }
        }
       }
      }
     },
     "metadata": {},
     "output_type": "display_data"
    }
   ],
   "source": [
    "plots.weight_histogram(sport_data)"
   ]
  },
  {
   "cell_type": "code",
   "execution_count": null,
   "metadata": {},
   "outputs": [
    {
     "data": {
      "text/plain": [
       "array(['Yao Ming'], dtype=object)"
      ]
     },
     "execution_count": 54,
     "metadata": {},
     "output_type": "execute_result"
    }
   ],
   "source": [
    "# OS tallest \n",
    "max_height = max(os_data_raw[\"Height\"])\n",
    "os_data_raw.query(\"Height == @max_height\")[\"Name\"].unique()"
   ]
  },
  {
   "cell_type": "code",
   "execution_count": null,
   "metadata": {},
   "outputs": [],
   "source": [
    "# Kollar lite saker bara\n",
    "\n",
    "\n",
    "#rugby_data[rugby_data[\"Medal\"]==\"Bronze\"]\n",
    "\n",
    "#os_data_raw[ os_data_raw[\"Year\"] == 1900][\"Medal\"].unique()\n",
    "\n",
    "#rugby_data[rugby_data[\"Year\"]==1924][\"NOC\"].unique()"
   ]
  },
  {
   "cell_type": "code",
   "execution_count": null,
   "metadata": {},
   "outputs": [
    {
     "name": "stderr",
     "output_type": "stream",
     "text": [
      "C:\\Users\\ErikLarsson-AIU21GBG\\.virtualenvs\\Databehandling-OS-projekt-Felix-Tjernberg--OEW8q_Bs\\lib\\site-packages\\pandas\\core\\frame.py:4906: SettingWithCopyWarning:\n",
      "\n",
      "\n",
      "A value is trying to be set on a copy of a slice from a DataFrame\n",
      "\n",
      "See the caveats in the documentation: https://pandas.pydata.org/pandas-docs/stable/user_guide/indexing.html#returning-a-view-versus-a-copy\n",
      "\n",
      "C:\\Users\\ErikLarsson-AIU21GBG\\.virtualenvs\\Databehandling-OS-projekt-Felix-Tjernberg--OEW8q_Bs\\lib\\site-packages\\pandas\\util\\_decorators.py:311: SettingWithCopyWarning:\n",
      "\n",
      "\n",
      "A value is trying to be set on a copy of a slice from a DataFrame\n",
      "\n",
      "See the caveats in the documentation: https://pandas.pydata.org/pandas-docs/stable/user_guide/indexing.html#returning-a-view-versus-a-copy\n",
      "\n"
     ]
    },
    {
     "name": "stdout",
     "output_type": "stream",
     "text": [
      "numb_of_games:  5 \n",
      " duration:  1770\n",
      "numb_of_noc:  13 \n",
      " Y-axis range= (2.5, 12.5)\n"
     ]
    },
    {
     "data": {
      "application/vnd.plotly.v1+json": {
       "config": {
        "plotlyServerURL": "https://plot.ly"
       },
       "data": [
        {
         "alignmentgroup": "True",
         "hovertemplate": "NOC=%{y}<br>Games=2000 Summer<br>Medals=%{x}<extra></extra>",
         "ids": [
          "AUS"
         ],
         "legendgroup": "AUS",
         "marker": {
          "color": "#AA0DFE",
          "pattern": {
           "shape": ""
          }
         },
         "name": "AUS",
         "offsetgroup": "AUS",
         "orientation": "h",
         "showlegend": true,
         "textposition": "auto",
         "type": "bar",
         "x": [
          1
         ],
         "xaxis": "x",
         "y": [
          "AUS"
         ],
         "yaxis": "y"
        },
        {
         "alignmentgroup": "True",
         "hovertemplate": "NOC=%{y}<br>Games=2000 Summer<br>Medals=%{x}<extra></extra>",
         "ids": [
          "AUT"
         ],
         "legendgroup": "AUT",
         "marker": {
          "color": "#3283FE",
          "pattern": {
           "shape": ""
          }
         },
         "name": "AUT",
         "offsetgroup": "AUT",
         "orientation": "h",
         "showlegend": true,
         "textposition": "auto",
         "type": "bar",
         "x": [
          0
         ],
         "xaxis": "x",
         "y": [
          "AUT"
         ],
         "yaxis": "y"
        },
        {
         "alignmentgroup": "True",
         "hovertemplate": "NOC=%{y}<br>Games=2000 Summer<br>Medals=%{x}<extra></extra>",
         "ids": [
          "CAN"
         ],
         "legendgroup": "CAN",
         "marker": {
          "color": "#85660D",
          "pattern": {
           "shape": ""
          }
         },
         "name": "CAN",
         "offsetgroup": "CAN",
         "orientation": "h",
         "showlegend": true,
         "textposition": "auto",
         "type": "bar",
         "x": [
          1
         ],
         "xaxis": "x",
         "y": [
          "CAN"
         ],
         "yaxis": "y"
        },
        {
         "alignmentgroup": "True",
         "hovertemplate": "NOC=%{y}<br>Games=2000 Summer<br>Medals=%{x}<extra></extra>",
         "ids": [
          "CZE"
         ],
         "legendgroup": "CZE",
         "marker": {
          "color": "#782AB6",
          "pattern": {
           "shape": ""
          }
         },
         "name": "CZE",
         "offsetgroup": "CZE",
         "orientation": "h",
         "showlegend": true,
         "textposition": "auto",
         "type": "bar",
         "x": [
          1
         ],
         "xaxis": "x",
         "y": [
          "CZE"
         ],
         "yaxis": "y"
        },
        {
         "alignmentgroup": "True",
         "hovertemplate": "NOC=%{y}<br>Games=2000 Summer<br>Medals=%{x}<extra></extra>",
         "ids": [
          "ESP"
         ],
         "legendgroup": "ESP",
         "marker": {
          "color": "#565656",
          "pattern": {
           "shape": ""
          }
         },
         "name": "ESP",
         "offsetgroup": "ESP",
         "orientation": "h",
         "showlegend": true,
         "textposition": "auto",
         "type": "bar",
         "x": [
          0
         ],
         "xaxis": "x",
         "y": [
          "ESP"
         ],
         "yaxis": "y"
        },
        {
         "alignmentgroup": "True",
         "hovertemplate": "NOC=%{y}<br>Games=2000 Summer<br>Medals=%{x}<extra></extra>",
         "ids": [
          "GBR"
         ],
         "legendgroup": "GBR",
         "marker": {
          "color": "#1C8356",
          "pattern": {
           "shape": ""
          }
         },
         "name": "GBR",
         "offsetgroup": "GBR",
         "orientation": "h",
         "showlegend": true,
         "textposition": "auto",
         "type": "bar",
         "x": [
          0
         ],
         "xaxis": "x",
         "y": [
          "GBR"
         ],
         "yaxis": "y"
        },
        {
         "alignmentgroup": "True",
         "hovertemplate": "NOC=%{y}<br>Games=2000 Summer<br>Medals=%{x}<extra></extra>",
         "ids": [
          "GER"
         ],
         "legendgroup": "GER",
         "marker": {
          "color": "#16FF32",
          "pattern": {
           "shape": ""
          }
         },
         "name": "GER",
         "offsetgroup": "GER",
         "orientation": "h",
         "showlegend": true,
         "textposition": "auto",
         "type": "bar",
         "x": [
          1
         ],
         "xaxis": "x",
         "y": [
          "GER"
         ],
         "yaxis": "y"
        },
        {
         "alignmentgroup": "True",
         "hovertemplate": "NOC=%{y}<br>Games=2000 Summer<br>Medals=%{x}<extra></extra>",
         "ids": [
          "NZL"
         ],
         "legendgroup": "NZL",
         "marker": {
          "color": "#F7E1A0",
          "pattern": {
           "shape": ""
          }
         },
         "name": "NZL",
         "offsetgroup": "NZL",
         "orientation": "h",
         "showlegend": true,
         "textposition": "auto",
         "type": "bar",
         "x": [
          0
         ],
         "xaxis": "x",
         "y": [
          "NZL"
         ],
         "yaxis": "y"
        },
        {
         "alignmentgroup": "True",
         "hovertemplate": "NOC=%{y}<br>Games=2000 Summer<br>Medals=%{x}<extra></extra>",
         "ids": [
          "POR"
         ],
         "legendgroup": "POR",
         "marker": {
          "color": "#E2E2E2",
          "pattern": {
           "shape": ""
          }
         },
         "name": "POR",
         "offsetgroup": "POR",
         "orientation": "h",
         "showlegend": true,
         "textposition": "auto",
         "type": "bar",
         "x": [
          0
         ],
         "xaxis": "x",
         "y": [
          "POR"
         ],
         "yaxis": "y"
        },
        {
         "alignmentgroup": "True",
         "hovertemplate": "NOC=%{y}<br>Games=2000 Summer<br>Medals=%{x}<extra></extra>",
         "ids": [
          "RSA"
         ],
         "legendgroup": "RSA",
         "marker": {
          "color": "#1CBE4F",
          "pattern": {
           "shape": ""
          }
         },
         "name": "RSA",
         "offsetgroup": "RSA",
         "orientation": "h",
         "showlegend": true,
         "textposition": "auto",
         "type": "bar",
         "x": [
          0
         ],
         "xaxis": "x",
         "y": [
          "RSA"
         ],
         "yaxis": "y"
        },
        {
         "alignmentgroup": "True",
         "hovertemplate": "NOC=%{y}<br>Games=2000 Summer<br>Medals=%{x}<extra></extra>",
         "ids": [
          "SUI"
         ],
         "legendgroup": "SUI",
         "marker": {
          "color": "#C4451C",
          "pattern": {
           "shape": ""
          }
         },
         "name": "SUI",
         "offsetgroup": "SUI",
         "orientation": "h",
         "showlegend": true,
         "textposition": "auto",
         "type": "bar",
         "x": [
          2
         ],
         "xaxis": "x",
         "y": [
          "SUI"
         ],
         "yaxis": "y"
        },
        {
         "alignmentgroup": "True",
         "hovertemplate": "NOC=%{y}<br>Games=2000 Summer<br>Medals=%{x}<extra></extra>",
         "ids": [
          "SWE"
         ],
         "legendgroup": "SWE",
         "marker": {
          "color": "#DEA0FD",
          "pattern": {
           "shape": ""
          }
         },
         "name": "SWE",
         "offsetgroup": "SWE",
         "orientation": "h",
         "showlegend": true,
         "textposition": "auto",
         "type": "bar",
         "x": [
          0
         ],
         "xaxis": "x",
         "y": [
          "SWE"
         ],
         "yaxis": "y"
        },
        {
         "alignmentgroup": "True",
         "hovertemplate": "NOC=%{y}<br>Games=2000 Summer<br>Medals=%{x}<extra></extra>",
         "ids": [
          "USA"
         ],
         "legendgroup": "USA",
         "marker": {
          "color": "#FE00FA",
          "pattern": {
           "shape": ""
          }
         },
         "name": "USA",
         "offsetgroup": "USA",
         "orientation": "h",
         "showlegend": true,
         "textposition": "auto",
         "type": "bar",
         "x": [
          0
         ],
         "xaxis": "x",
         "y": [
          "USA"
         ],
         "yaxis": "y"
        }
       ],
       "frames": [
        {
         "data": [
          {
           "alignmentgroup": "True",
           "hovertemplate": "NOC=%{y}<br>Games=2000 Summer<br>Medals=%{x}<extra></extra>",
           "ids": [
            "AUS"
           ],
           "legendgroup": "AUS",
           "marker": {
            "color": "#AA0DFE",
            "pattern": {
             "shape": ""
            }
           },
           "name": "AUS",
           "offsetgroup": "AUS",
           "orientation": "h",
           "showlegend": true,
           "textposition": "auto",
           "type": "bar",
           "x": [
            1
           ],
           "xaxis": "x",
           "y": [
            "AUS"
           ],
           "yaxis": "y"
          },
          {
           "alignmentgroup": "True",
           "hovertemplate": "NOC=%{y}<br>Games=2000 Summer<br>Medals=%{x}<extra></extra>",
           "ids": [
            "AUT"
           ],
           "legendgroup": "AUT",
           "marker": {
            "color": "#3283FE",
            "pattern": {
             "shape": ""
            }
           },
           "name": "AUT",
           "offsetgroup": "AUT",
           "orientation": "h",
           "showlegend": true,
           "textposition": "auto",
           "type": "bar",
           "x": [
            0
           ],
           "xaxis": "x",
           "y": [
            "AUT"
           ],
           "yaxis": "y"
          },
          {
           "alignmentgroup": "True",
           "hovertemplate": "NOC=%{y}<br>Games=2000 Summer<br>Medals=%{x}<extra></extra>",
           "ids": [
            "CAN"
           ],
           "legendgroup": "CAN",
           "marker": {
            "color": "#85660D",
            "pattern": {
             "shape": ""
            }
           },
           "name": "CAN",
           "offsetgroup": "CAN",
           "orientation": "h",
           "showlegend": true,
           "textposition": "auto",
           "type": "bar",
           "x": [
            1
           ],
           "xaxis": "x",
           "y": [
            "CAN"
           ],
           "yaxis": "y"
          },
          {
           "alignmentgroup": "True",
           "hovertemplate": "NOC=%{y}<br>Games=2000 Summer<br>Medals=%{x}<extra></extra>",
           "ids": [
            "CZE"
           ],
           "legendgroup": "CZE",
           "marker": {
            "color": "#782AB6",
            "pattern": {
             "shape": ""
            }
           },
           "name": "CZE",
           "offsetgroup": "CZE",
           "orientation": "h",
           "showlegend": true,
           "textposition": "auto",
           "type": "bar",
           "x": [
            1
           ],
           "xaxis": "x",
           "y": [
            "CZE"
           ],
           "yaxis": "y"
          },
          {
           "alignmentgroup": "True",
           "hovertemplate": "NOC=%{y}<br>Games=2000 Summer<br>Medals=%{x}<extra></extra>",
           "ids": [
            "ESP"
           ],
           "legendgroup": "ESP",
           "marker": {
            "color": "#565656",
            "pattern": {
             "shape": ""
            }
           },
           "name": "ESP",
           "offsetgroup": "ESP",
           "orientation": "h",
           "showlegend": true,
           "textposition": "auto",
           "type": "bar",
           "x": [
            0
           ],
           "xaxis": "x",
           "y": [
            "ESP"
           ],
           "yaxis": "y"
          },
          {
           "alignmentgroup": "True",
           "hovertemplate": "NOC=%{y}<br>Games=2000 Summer<br>Medals=%{x}<extra></extra>",
           "ids": [
            "GBR"
           ],
           "legendgroup": "GBR",
           "marker": {
            "color": "#1C8356",
            "pattern": {
             "shape": ""
            }
           },
           "name": "GBR",
           "offsetgroup": "GBR",
           "orientation": "h",
           "showlegend": true,
           "textposition": "auto",
           "type": "bar",
           "x": [
            0
           ],
           "xaxis": "x",
           "y": [
            "GBR"
           ],
           "yaxis": "y"
          },
          {
           "alignmentgroup": "True",
           "hovertemplate": "NOC=%{y}<br>Games=2000 Summer<br>Medals=%{x}<extra></extra>",
           "ids": [
            "GER"
           ],
           "legendgroup": "GER",
           "marker": {
            "color": "#16FF32",
            "pattern": {
             "shape": ""
            }
           },
           "name": "GER",
           "offsetgroup": "GER",
           "orientation": "h",
           "showlegend": true,
           "textposition": "auto",
           "type": "bar",
           "x": [
            1
           ],
           "xaxis": "x",
           "y": [
            "GER"
           ],
           "yaxis": "y"
          },
          {
           "alignmentgroup": "True",
           "hovertemplate": "NOC=%{y}<br>Games=2000 Summer<br>Medals=%{x}<extra></extra>",
           "ids": [
            "NZL"
           ],
           "legendgroup": "NZL",
           "marker": {
            "color": "#F7E1A0",
            "pattern": {
             "shape": ""
            }
           },
           "name": "NZL",
           "offsetgroup": "NZL",
           "orientation": "h",
           "showlegend": true,
           "textposition": "auto",
           "type": "bar",
           "x": [
            0
           ],
           "xaxis": "x",
           "y": [
            "NZL"
           ],
           "yaxis": "y"
          },
          {
           "alignmentgroup": "True",
           "hovertemplate": "NOC=%{y}<br>Games=2000 Summer<br>Medals=%{x}<extra></extra>",
           "ids": [
            "POR"
           ],
           "legendgroup": "POR",
           "marker": {
            "color": "#E2E2E2",
            "pattern": {
             "shape": ""
            }
           },
           "name": "POR",
           "offsetgroup": "POR",
           "orientation": "h",
           "showlegend": true,
           "textposition": "auto",
           "type": "bar",
           "x": [
            0
           ],
           "xaxis": "x",
           "y": [
            "POR"
           ],
           "yaxis": "y"
          },
          {
           "alignmentgroup": "True",
           "hovertemplate": "NOC=%{y}<br>Games=2000 Summer<br>Medals=%{x}<extra></extra>",
           "ids": [
            "RSA"
           ],
           "legendgroup": "RSA",
           "marker": {
            "color": "#1CBE4F",
            "pattern": {
             "shape": ""
            }
           },
           "name": "RSA",
           "offsetgroup": "RSA",
           "orientation": "h",
           "showlegend": true,
           "textposition": "auto",
           "type": "bar",
           "x": [
            0
           ],
           "xaxis": "x",
           "y": [
            "RSA"
           ],
           "yaxis": "y"
          },
          {
           "alignmentgroup": "True",
           "hovertemplate": "NOC=%{y}<br>Games=2000 Summer<br>Medals=%{x}<extra></extra>",
           "ids": [
            "SUI"
           ],
           "legendgroup": "SUI",
           "marker": {
            "color": "#C4451C",
            "pattern": {
             "shape": ""
            }
           },
           "name": "SUI",
           "offsetgroup": "SUI",
           "orientation": "h",
           "showlegend": true,
           "textposition": "auto",
           "type": "bar",
           "x": [
            2
           ],
           "xaxis": "x",
           "y": [
            "SUI"
           ],
           "yaxis": "y"
          },
          {
           "alignmentgroup": "True",
           "hovertemplate": "NOC=%{y}<br>Games=2000 Summer<br>Medals=%{x}<extra></extra>",
           "ids": [
            "SWE"
           ],
           "legendgroup": "SWE",
           "marker": {
            "color": "#DEA0FD",
            "pattern": {
             "shape": ""
            }
           },
           "name": "SWE",
           "offsetgroup": "SWE",
           "orientation": "h",
           "showlegend": true,
           "textposition": "auto",
           "type": "bar",
           "x": [
            0
           ],
           "xaxis": "x",
           "y": [
            "SWE"
           ],
           "yaxis": "y"
          },
          {
           "alignmentgroup": "True",
           "hovertemplate": "NOC=%{y}<br>Games=2000 Summer<br>Medals=%{x}<extra></extra>",
           "ids": [
            "USA"
           ],
           "legendgroup": "USA",
           "marker": {
            "color": "#FE00FA",
            "pattern": {
             "shape": ""
            }
           },
           "name": "USA",
           "offsetgroup": "USA",
           "orientation": "h",
           "showlegend": true,
           "textposition": "auto",
           "type": "bar",
           "x": [
            0
           ],
           "xaxis": "x",
           "y": [
            "USA"
           ],
           "yaxis": "y"
          }
         ],
         "name": "2000 Summer"
        },
        {
         "data": [
          {
           "alignmentgroup": "True",
           "hovertemplate": "NOC=%{y}<br>Games=2004 Summer<br>Medals=%{x}<extra></extra>",
           "ids": [
            "AUS"
           ],
           "legendgroup": "AUS",
           "marker": {
            "color": "#AA0DFE",
            "pattern": {
             "shape": ""
            }
           },
           "name": "AUS",
           "offsetgroup": "AUS",
           "orientation": "h",
           "showlegend": true,
           "textposition": "auto",
           "type": "bar",
           "x": [
            2
           ],
           "xaxis": "x",
           "y": [
            "AUS"
           ],
           "yaxis": "y"
          },
          {
           "alignmentgroup": "True",
           "hovertemplate": "NOC=%{y}<br>Games=2004 Summer<br>Medals=%{x}<extra></extra>",
           "ids": [
            "AUT"
           ],
           "legendgroup": "AUT",
           "marker": {
            "color": "#3283FE",
            "pattern": {
             "shape": ""
            }
           },
           "name": "AUT",
           "offsetgroup": "AUT",
           "orientation": "h",
           "showlegend": true,
           "textposition": "auto",
           "type": "bar",
           "x": [
            1
           ],
           "xaxis": "x",
           "y": [
            "AUT"
           ],
           "yaxis": "y"
          },
          {
           "alignmentgroup": "True",
           "hovertemplate": "NOC=%{y}<br>Games=2004 Summer<br>Medals=%{x}<extra></extra>",
           "ids": [
            "CAN"
           ],
           "legendgroup": "CAN",
           "marker": {
            "color": "#85660D",
            "pattern": {
             "shape": ""
            }
           },
           "name": "CAN",
           "offsetgroup": "CAN",
           "orientation": "h",
           "showlegend": true,
           "textposition": "auto",
           "type": "bar",
           "x": [
            1
           ],
           "xaxis": "x",
           "y": [
            "CAN"
           ],
           "yaxis": "y"
          },
          {
           "alignmentgroup": "True",
           "hovertemplate": "NOC=%{y}<br>Games=2004 Summer<br>Medals=%{x}<extra></extra>",
           "ids": [
            "CZE"
           ],
           "legendgroup": "CZE",
           "marker": {
            "color": "#782AB6",
            "pattern": {
             "shape": ""
            }
           },
           "name": "CZE",
           "offsetgroup": "CZE",
           "orientation": "h",
           "showlegend": true,
           "textposition": "auto",
           "type": "bar",
           "x": [
            1
           ],
           "xaxis": "x",
           "y": [
            "CZE"
           ],
           "yaxis": "y"
          },
          {
           "alignmentgroup": "True",
           "hovertemplate": "NOC=%{y}<br>Games=2004 Summer<br>Medals=%{x}<extra></extra>",
           "ids": [
            "ESP"
           ],
           "legendgroup": "ESP",
           "marker": {
            "color": "#565656",
            "pattern": {
             "shape": ""
            }
           },
           "name": "ESP",
           "offsetgroup": "ESP",
           "orientation": "h",
           "showlegend": true,
           "textposition": "auto",
           "type": "bar",
           "x": [
            0
           ],
           "xaxis": "x",
           "y": [
            "ESP"
           ],
           "yaxis": "y"
          },
          {
           "alignmentgroup": "True",
           "hovertemplate": "NOC=%{y}<br>Games=2004 Summer<br>Medals=%{x}<extra></extra>",
           "ids": [
            "GBR"
           ],
           "legendgroup": "GBR",
           "marker": {
            "color": "#1C8356",
            "pattern": {
             "shape": ""
            }
           },
           "name": "GBR",
           "offsetgroup": "GBR",
           "orientation": "h",
           "showlegend": true,
           "textposition": "auto",
           "type": "bar",
           "x": [
            0
           ],
           "xaxis": "x",
           "y": [
            "GBR"
           ],
           "yaxis": "y"
          },
          {
           "alignmentgroup": "True",
           "hovertemplate": "NOC=%{y}<br>Games=2004 Summer<br>Medals=%{x}<extra></extra>",
           "ids": [
            "GER"
           ],
           "legendgroup": "GER",
           "marker": {
            "color": "#16FF32",
            "pattern": {
             "shape": ""
            }
           },
           "name": "GER",
           "offsetgroup": "GER",
           "orientation": "h",
           "showlegend": true,
           "textposition": "auto",
           "type": "bar",
           "x": [
            1
           ],
           "xaxis": "x",
           "y": [
            "GER"
           ],
           "yaxis": "y"
          },
          {
           "alignmentgroup": "True",
           "hovertemplate": "NOC=%{y}<br>Games=2004 Summer<br>Medals=%{x}<extra></extra>",
           "ids": [
            "NZL"
           ],
           "legendgroup": "NZL",
           "marker": {
            "color": "#F7E1A0",
            "pattern": {
             "shape": ""
            }
           },
           "name": "NZL",
           "offsetgroup": "NZL",
           "orientation": "h",
           "showlegend": true,
           "textposition": "auto",
           "type": "bar",
           "x": [
            2
           ],
           "xaxis": "x",
           "y": [
            "NZL"
           ],
           "yaxis": "y"
          },
          {
           "alignmentgroup": "True",
           "hovertemplate": "NOC=%{y}<br>Games=2004 Summer<br>Medals=%{x}<extra></extra>",
           "ids": [
            "POR"
           ],
           "legendgroup": "POR",
           "marker": {
            "color": "#E2E2E2",
            "pattern": {
             "shape": ""
            }
           },
           "name": "POR",
           "offsetgroup": "POR",
           "orientation": "h",
           "showlegend": true,
           "textposition": "auto",
           "type": "bar",
           "x": [
            0
           ],
           "xaxis": "x",
           "y": [
            "POR"
           ],
           "yaxis": "y"
          },
          {
           "alignmentgroup": "True",
           "hovertemplate": "NOC=%{y}<br>Games=2004 Summer<br>Medals=%{x}<extra></extra>",
           "ids": [
            "RSA"
           ],
           "legendgroup": "RSA",
           "marker": {
            "color": "#1CBE4F",
            "pattern": {
             "shape": ""
            }
           },
           "name": "RSA",
           "offsetgroup": "RSA",
           "orientation": "h",
           "showlegend": true,
           "textposition": "auto",
           "type": "bar",
           "x": [
            0
           ],
           "xaxis": "x",
           "y": [
            "RSA"
           ],
           "yaxis": "y"
          },
          {
           "alignmentgroup": "True",
           "hovertemplate": "NOC=%{y}<br>Games=2004 Summer<br>Medals=%{x}<extra></extra>",
           "ids": [
            "SUI"
           ],
           "legendgroup": "SUI",
           "marker": {
            "color": "#C4451C",
            "pattern": {
             "shape": ""
            }
           },
           "name": "SUI",
           "offsetgroup": "SUI",
           "orientation": "h",
           "showlegend": true,
           "textposition": "auto",
           "type": "bar",
           "x": [
            3
           ],
           "xaxis": "x",
           "y": [
            "SUI"
           ],
           "yaxis": "y"
          },
          {
           "alignmentgroup": "True",
           "hovertemplate": "NOC=%{y}<br>Games=2004 Summer<br>Medals=%{x}<extra></extra>",
           "ids": [
            "SWE"
           ],
           "legendgroup": "SWE",
           "marker": {
            "color": "#DEA0FD",
            "pattern": {
             "shape": ""
            }
           },
           "name": "SWE",
           "offsetgroup": "SWE",
           "orientation": "h",
           "showlegend": true,
           "textposition": "auto",
           "type": "bar",
           "x": [
            0
           ],
           "xaxis": "x",
           "y": [
            "SWE"
           ],
           "yaxis": "y"
          },
          {
           "alignmentgroup": "True",
           "hovertemplate": "NOC=%{y}<br>Games=2004 Summer<br>Medals=%{x}<extra></extra>",
           "ids": [
            "USA"
           ],
           "legendgroup": "USA",
           "marker": {
            "color": "#FE00FA",
            "pattern": {
             "shape": ""
            }
           },
           "name": "USA",
           "offsetgroup": "USA",
           "orientation": "h",
           "showlegend": true,
           "textposition": "auto",
           "type": "bar",
           "x": [
            1
           ],
           "xaxis": "x",
           "y": [
            "USA"
           ],
           "yaxis": "y"
          }
         ],
         "name": "2004 Summer"
        },
        {
         "data": [
          {
           "alignmentgroup": "True",
           "hovertemplate": "NOC=%{y}<br>Games=2008 Summer<br>Medals=%{x}<extra></extra>",
           "ids": [
            "AUS"
           ],
           "legendgroup": "AUS",
           "marker": {
            "color": "#AA0DFE",
            "pattern": {
             "shape": ""
            }
           },
           "name": "AUS",
           "offsetgroup": "AUS",
           "orientation": "h",
           "showlegend": true,
           "textposition": "auto",
           "type": "bar",
           "x": [
            4
           ],
           "xaxis": "x",
           "y": [
            "AUS"
           ],
           "yaxis": "y"
          },
          {
           "alignmentgroup": "True",
           "hovertemplate": "NOC=%{y}<br>Games=2008 Summer<br>Medals=%{x}<extra></extra>",
           "ids": [
            "AUT"
           ],
           "legendgroup": "AUT",
           "marker": {
            "color": "#3283FE",
            "pattern": {
             "shape": ""
            }
           },
           "name": "AUT",
           "offsetgroup": "AUT",
           "orientation": "h",
           "showlegend": true,
           "textposition": "auto",
           "type": "bar",
           "x": [
            1
           ],
           "xaxis": "x",
           "y": [
            "AUT"
           ],
           "yaxis": "y"
          },
          {
           "alignmentgroup": "True",
           "hovertemplate": "NOC=%{y}<br>Games=2008 Summer<br>Medals=%{x}<extra></extra>",
           "ids": [
            "CAN"
           ],
           "legendgroup": "CAN",
           "marker": {
            "color": "#85660D",
            "pattern": {
             "shape": ""
            }
           },
           "name": "CAN",
           "offsetgroup": "CAN",
           "orientation": "h",
           "showlegend": true,
           "textposition": "auto",
           "type": "bar",
           "x": [
            2
           ],
           "xaxis": "x",
           "y": [
            "CAN"
           ],
           "yaxis": "y"
          },
          {
           "alignmentgroup": "True",
           "hovertemplate": "NOC=%{y}<br>Games=2008 Summer<br>Medals=%{x}<extra></extra>",
           "ids": [
            "CZE"
           ],
           "legendgroup": "CZE",
           "marker": {
            "color": "#782AB6",
            "pattern": {
             "shape": ""
            }
           },
           "name": "CZE",
           "offsetgroup": "CZE",
           "orientation": "h",
           "showlegend": true,
           "textposition": "auto",
           "type": "bar",
           "x": [
            1
           ],
           "xaxis": "x",
           "y": [
            "CZE"
           ],
           "yaxis": "y"
          },
          {
           "alignmentgroup": "True",
           "hovertemplate": "NOC=%{y}<br>Games=2008 Summer<br>Medals=%{x}<extra></extra>",
           "ids": [
            "ESP"
           ],
           "legendgroup": "ESP",
           "marker": {
            "color": "#565656",
            "pattern": {
             "shape": ""
            }
           },
           "name": "ESP",
           "offsetgroup": "ESP",
           "orientation": "h",
           "showlegend": true,
           "textposition": "auto",
           "type": "bar",
           "x": [
            0
           ],
           "xaxis": "x",
           "y": [
            "ESP"
           ],
           "yaxis": "y"
          },
          {
           "alignmentgroup": "True",
           "hovertemplate": "NOC=%{y}<br>Games=2008 Summer<br>Medals=%{x}<extra></extra>",
           "ids": [
            "GBR"
           ],
           "legendgroup": "GBR",
           "marker": {
            "color": "#1C8356",
            "pattern": {
             "shape": ""
            }
           },
           "name": "GBR",
           "offsetgroup": "GBR",
           "orientation": "h",
           "showlegend": true,
           "textposition": "auto",
           "type": "bar",
           "x": [
            0
           ],
           "xaxis": "x",
           "y": [
            "GBR"
           ],
           "yaxis": "y"
          },
          {
           "alignmentgroup": "True",
           "hovertemplate": "NOC=%{y}<br>Games=2008 Summer<br>Medals=%{x}<extra></extra>",
           "ids": [
            "GER"
           ],
           "legendgroup": "GER",
           "marker": {
            "color": "#16FF32",
            "pattern": {
             "shape": ""
            }
           },
           "name": "GER",
           "offsetgroup": "GER",
           "orientation": "h",
           "showlegend": true,
           "textposition": "auto",
           "type": "bar",
           "x": [
            2
           ],
           "xaxis": "x",
           "y": [
            "GER"
           ],
           "yaxis": "y"
          },
          {
           "alignmentgroup": "True",
           "hovertemplate": "NOC=%{y}<br>Games=2008 Summer<br>Medals=%{x}<extra></extra>",
           "ids": [
            "NZL"
           ],
           "legendgroup": "NZL",
           "marker": {
            "color": "#F7E1A0",
            "pattern": {
             "shape": ""
            }
           },
           "name": "NZL",
           "offsetgroup": "NZL",
           "orientation": "h",
           "showlegend": true,
           "textposition": "auto",
           "type": "bar",
           "x": [
            3
           ],
           "xaxis": "x",
           "y": [
            "NZL"
           ],
           "yaxis": "y"
          },
          {
           "alignmentgroup": "True",
           "hovertemplate": "NOC=%{y}<br>Games=2008 Summer<br>Medals=%{x}<extra></extra>",
           "ids": [
            "POR"
           ],
           "legendgroup": "POR",
           "marker": {
            "color": "#E2E2E2",
            "pattern": {
             "shape": ""
            }
           },
           "name": "POR",
           "offsetgroup": "POR",
           "orientation": "h",
           "showlegend": true,
           "textposition": "auto",
           "type": "bar",
           "x": [
            1
           ],
           "xaxis": "x",
           "y": [
            "POR"
           ],
           "yaxis": "y"
          },
          {
           "alignmentgroup": "True",
           "hovertemplate": "NOC=%{y}<br>Games=2008 Summer<br>Medals=%{x}<extra></extra>",
           "ids": [
            "RSA"
           ],
           "legendgroup": "RSA",
           "marker": {
            "color": "#1CBE4F",
            "pattern": {
             "shape": ""
            }
           },
           "name": "RSA",
           "offsetgroup": "RSA",
           "orientation": "h",
           "showlegend": true,
           "textposition": "auto",
           "type": "bar",
           "x": [
            0
           ],
           "xaxis": "x",
           "y": [
            "RSA"
           ],
           "yaxis": "y"
          },
          {
           "alignmentgroup": "True",
           "hovertemplate": "NOC=%{y}<br>Games=2008 Summer<br>Medals=%{x}<extra></extra>",
           "ids": [
            "SUI"
           ],
           "legendgroup": "SUI",
           "marker": {
            "color": "#C4451C",
            "pattern": {
             "shape": ""
            }
           },
           "name": "SUI",
           "offsetgroup": "SUI",
           "orientation": "h",
           "showlegend": true,
           "textposition": "auto",
           "type": "bar",
           "x": [
            3
           ],
           "xaxis": "x",
           "y": [
            "SUI"
           ],
           "yaxis": "y"
          },
          {
           "alignmentgroup": "True",
           "hovertemplate": "NOC=%{y}<br>Games=2008 Summer<br>Medals=%{x}<extra></extra>",
           "ids": [
            "SWE"
           ],
           "legendgroup": "SWE",
           "marker": {
            "color": "#DEA0FD",
            "pattern": {
             "shape": ""
            }
           },
           "name": "SWE",
           "offsetgroup": "SWE",
           "orientation": "h",
           "showlegend": true,
           "textposition": "auto",
           "type": "bar",
           "x": [
            0
           ],
           "xaxis": "x",
           "y": [
            "SWE"
           ],
           "yaxis": "y"
          },
          {
           "alignmentgroup": "True",
           "hovertemplate": "NOC=%{y}<br>Games=2008 Summer<br>Medals=%{x}<extra></extra>",
           "ids": [
            "USA"
           ],
           "legendgroup": "USA",
           "marker": {
            "color": "#FE00FA",
            "pattern": {
             "shape": ""
            }
           },
           "name": "USA",
           "offsetgroup": "USA",
           "orientation": "h",
           "showlegend": true,
           "textposition": "auto",
           "type": "bar",
           "x": [
            1
           ],
           "xaxis": "x",
           "y": [
            "USA"
           ],
           "yaxis": "y"
          }
         ],
         "name": "2008 Summer"
        },
        {
         "data": [
          {
           "alignmentgroup": "True",
           "hovertemplate": "NOC=%{y}<br>Games=2012 Summer<br>Medals=%{x}<extra></extra>",
           "ids": [
            "AUS"
           ],
           "legendgroup": "AUS",
           "marker": {
            "color": "#AA0DFE",
            "pattern": {
             "shape": ""
            }
           },
           "name": "AUS",
           "offsetgroup": "AUS",
           "orientation": "h",
           "showlegend": true,
           "textposition": "auto",
           "type": "bar",
           "x": [
            5
           ],
           "xaxis": "x",
           "y": [
            "AUS"
           ],
           "yaxis": "y"
          },
          {
           "alignmentgroup": "True",
           "hovertemplate": "NOC=%{y}<br>Games=2012 Summer<br>Medals=%{x}<extra></extra>",
           "ids": [
            "AUT"
           ],
           "legendgroup": "AUT",
           "marker": {
            "color": "#3283FE",
            "pattern": {
             "shape": ""
            }
           },
           "name": "AUT",
           "offsetgroup": "AUT",
           "orientation": "h",
           "showlegend": true,
           "textposition": "auto",
           "type": "bar",
           "x": [
            1
           ],
           "xaxis": "x",
           "y": [
            "AUT"
           ],
           "yaxis": "y"
          },
          {
           "alignmentgroup": "True",
           "hovertemplate": "NOC=%{y}<br>Games=2012 Summer<br>Medals=%{x}<extra></extra>",
           "ids": [
            "CAN"
           ],
           "legendgroup": "CAN",
           "marker": {
            "color": "#85660D",
            "pattern": {
             "shape": ""
            }
           },
           "name": "CAN",
           "offsetgroup": "CAN",
           "orientation": "h",
           "showlegend": true,
           "textposition": "auto",
           "type": "bar",
           "x": [
            2
           ],
           "xaxis": "x",
           "y": [
            "CAN"
           ],
           "yaxis": "y"
          },
          {
           "alignmentgroup": "True",
           "hovertemplate": "NOC=%{y}<br>Games=2012 Summer<br>Medals=%{x}<extra></extra>",
           "ids": [
            "CZE"
           ],
           "legendgroup": "CZE",
           "marker": {
            "color": "#782AB6",
            "pattern": {
             "shape": ""
            }
           },
           "name": "CZE",
           "offsetgroup": "CZE",
           "orientation": "h",
           "showlegend": true,
           "textposition": "auto",
           "type": "bar",
           "x": [
            1
           ],
           "xaxis": "x",
           "y": [
            "CZE"
           ],
           "yaxis": "y"
          },
          {
           "alignmentgroup": "True",
           "hovertemplate": "NOC=%{y}<br>Games=2012 Summer<br>Medals=%{x}<extra></extra>",
           "ids": [
            "ESP"
           ],
           "legendgroup": "ESP",
           "marker": {
            "color": "#565656",
            "pattern": {
             "shape": ""
            }
           },
           "name": "ESP",
           "offsetgroup": "ESP",
           "orientation": "h",
           "showlegend": true,
           "textposition": "auto",
           "type": "bar",
           "x": [
            1
           ],
           "xaxis": "x",
           "y": [
            "ESP"
           ],
           "yaxis": "y"
          },
          {
           "alignmentgroup": "True",
           "hovertemplate": "NOC=%{y}<br>Games=2012 Summer<br>Medals=%{x}<extra></extra>",
           "ids": [
            "GBR"
           ],
           "legendgroup": "GBR",
           "marker": {
            "color": "#1C8356",
            "pattern": {
             "shape": ""
            }
           },
           "name": "GBR",
           "offsetgroup": "GBR",
           "orientation": "h",
           "showlegend": true,
           "textposition": "auto",
           "type": "bar",
           "x": [
            2
           ],
           "xaxis": "x",
           "y": [
            "GBR"
           ],
           "yaxis": "y"
          },
          {
           "alignmentgroup": "True",
           "hovertemplate": "NOC=%{y}<br>Games=2012 Summer<br>Medals=%{x}<extra></extra>",
           "ids": [
            "GER"
           ],
           "legendgroup": "GER",
           "marker": {
            "color": "#16FF32",
            "pattern": {
             "shape": ""
            }
           },
           "name": "GER",
           "offsetgroup": "GER",
           "orientation": "h",
           "showlegend": true,
           "textposition": "auto",
           "type": "bar",
           "x": [
            2
           ],
           "xaxis": "x",
           "y": [
            "GER"
           ],
           "yaxis": "y"
          },
          {
           "alignmentgroup": "True",
           "hovertemplate": "NOC=%{y}<br>Games=2012 Summer<br>Medals=%{x}<extra></extra>",
           "ids": [
            "NZL"
           ],
           "legendgroup": "NZL",
           "marker": {
            "color": "#F7E1A0",
            "pattern": {
             "shape": ""
            }
           },
           "name": "NZL",
           "offsetgroup": "NZL",
           "orientation": "h",
           "showlegend": true,
           "textposition": "auto",
           "type": "bar",
           "x": [
            3
           ],
           "xaxis": "x",
           "y": [
            "NZL"
           ],
           "yaxis": "y"
          },
          {
           "alignmentgroup": "True",
           "hovertemplate": "NOC=%{y}<br>Games=2012 Summer<br>Medals=%{x}<extra></extra>",
           "ids": [
            "POR"
           ],
           "legendgroup": "POR",
           "marker": {
            "color": "#E2E2E2",
            "pattern": {
             "shape": ""
            }
           },
           "name": "POR",
           "offsetgroup": "POR",
           "orientation": "h",
           "showlegend": true,
           "textposition": "auto",
           "type": "bar",
           "x": [
            1
           ],
           "xaxis": "x",
           "y": [
            "POR"
           ],
           "yaxis": "y"
          },
          {
           "alignmentgroup": "True",
           "hovertemplate": "NOC=%{y}<br>Games=2012 Summer<br>Medals=%{x}<extra></extra>",
           "ids": [
            "RSA"
           ],
           "legendgroup": "RSA",
           "marker": {
            "color": "#1CBE4F",
            "pattern": {
             "shape": ""
            }
           },
           "name": "RSA",
           "offsetgroup": "RSA",
           "orientation": "h",
           "showlegend": true,
           "textposition": "auto",
           "type": "bar",
           "x": [
            0
           ],
           "xaxis": "x",
           "y": [
            "RSA"
           ],
           "yaxis": "y"
          },
          {
           "alignmentgroup": "True",
           "hovertemplate": "NOC=%{y}<br>Games=2012 Summer<br>Medals=%{x}<extra></extra>",
           "ids": [
            "SUI"
           ],
           "legendgroup": "SUI",
           "marker": {
            "color": "#C4451C",
            "pattern": {
             "shape": ""
            }
           },
           "name": "SUI",
           "offsetgroup": "SUI",
           "orientation": "h",
           "showlegend": true,
           "textposition": "auto",
           "type": "bar",
           "x": [
            4
           ],
           "xaxis": "x",
           "y": [
            "SUI"
           ],
           "yaxis": "y"
          },
          {
           "alignmentgroup": "True",
           "hovertemplate": "NOC=%{y}<br>Games=2012 Summer<br>Medals=%{x}<extra></extra>",
           "ids": [
            "SWE"
           ],
           "legendgroup": "SWE",
           "marker": {
            "color": "#DEA0FD",
            "pattern": {
             "shape": ""
            }
           },
           "name": "SWE",
           "offsetgroup": "SWE",
           "orientation": "h",
           "showlegend": true,
           "textposition": "auto",
           "type": "bar",
           "x": [
            1
           ],
           "xaxis": "x",
           "y": [
            "SWE"
           ],
           "yaxis": "y"
          },
          {
           "alignmentgroup": "True",
           "hovertemplate": "NOC=%{y}<br>Games=2012 Summer<br>Medals=%{x}<extra></extra>",
           "ids": [
            "USA"
           ],
           "legendgroup": "USA",
           "marker": {
            "color": "#FE00FA",
            "pattern": {
             "shape": ""
            }
           },
           "name": "USA",
           "offsetgroup": "USA",
           "orientation": "h",
           "showlegend": true,
           "textposition": "auto",
           "type": "bar",
           "x": [
            1
           ],
           "xaxis": "x",
           "y": [
            "USA"
           ],
           "yaxis": "y"
          }
         ],
         "name": "2012 Summer"
        },
        {
         "data": [
          {
           "alignmentgroup": "True",
           "hovertemplate": "NOC=%{y}<br>Games=2016 Summer<br>Medals=%{x}<extra></extra>",
           "ids": [
            "AUS"
           ],
           "legendgroup": "AUS",
           "marker": {
            "color": "#AA0DFE",
            "pattern": {
             "shape": ""
            }
           },
           "name": "AUS",
           "offsetgroup": "AUS",
           "orientation": "h",
           "showlegend": true,
           "textposition": "auto",
           "type": "bar",
           "x": [
            5
           ],
           "xaxis": "x",
           "y": [
            "AUS"
           ],
           "yaxis": "y"
          },
          {
           "alignmentgroup": "True",
           "hovertemplate": "NOC=%{y}<br>Games=2016 Summer<br>Medals=%{x}<extra></extra>",
           "ids": [
            "AUT"
           ],
           "legendgroup": "AUT",
           "marker": {
            "color": "#3283FE",
            "pattern": {
             "shape": ""
            }
           },
           "name": "AUT",
           "offsetgroup": "AUT",
           "orientation": "h",
           "showlegend": true,
           "textposition": "auto",
           "type": "bar",
           "x": [
            1
           ],
           "xaxis": "x",
           "y": [
            "AUT"
           ],
           "yaxis": "y"
          },
          {
           "alignmentgroup": "True",
           "hovertemplate": "NOC=%{y}<br>Games=2016 Summer<br>Medals=%{x}<extra></extra>",
           "ids": [
            "CAN"
           ],
           "legendgroup": "CAN",
           "marker": {
            "color": "#85660D",
            "pattern": {
             "shape": ""
            }
           },
           "name": "CAN",
           "offsetgroup": "CAN",
           "orientation": "h",
           "showlegend": true,
           "textposition": "auto",
           "type": "bar",
           "x": [
            2
           ],
           "xaxis": "x",
           "y": [
            "CAN"
           ],
           "yaxis": "y"
          },
          {
           "alignmentgroup": "True",
           "hovertemplate": "NOC=%{y}<br>Games=2016 Summer<br>Medals=%{x}<extra></extra>",
           "ids": [
            "CZE"
           ],
           "legendgroup": "CZE",
           "marker": {
            "color": "#782AB6",
            "pattern": {
             "shape": ""
            }
           },
           "name": "CZE",
           "offsetgroup": "CZE",
           "orientation": "h",
           "showlegend": true,
           "textposition": "auto",
           "type": "bar",
           "x": [
            1
           ],
           "xaxis": "x",
           "y": [
            "CZE"
           ],
           "yaxis": "y"
          },
          {
           "alignmentgroup": "True",
           "hovertemplate": "NOC=%{y}<br>Games=2016 Summer<br>Medals=%{x}<extra></extra>",
           "ids": [
            "ESP"
           ],
           "legendgroup": "ESP",
           "marker": {
            "color": "#565656",
            "pattern": {
             "shape": ""
            }
           },
           "name": "ESP",
           "offsetgroup": "ESP",
           "orientation": "h",
           "showlegend": true,
           "textposition": "auto",
           "type": "bar",
           "x": [
            1
           ],
           "xaxis": "x",
           "y": [
            "ESP"
           ],
           "yaxis": "y"
          },
          {
           "alignmentgroup": "True",
           "hovertemplate": "NOC=%{y}<br>Games=2016 Summer<br>Medals=%{x}<extra></extra>",
           "ids": [
            "GBR"
           ],
           "legendgroup": "GBR",
           "marker": {
            "color": "#1C8356",
            "pattern": {
             "shape": ""
            }
           },
           "name": "GBR",
           "offsetgroup": "GBR",
           "orientation": "h",
           "showlegend": true,
           "textposition": "auto",
           "type": "bar",
           "x": [
            5
           ],
           "xaxis": "x",
           "y": [
            "GBR"
           ],
           "yaxis": "y"
          },
          {
           "alignmentgroup": "True",
           "hovertemplate": "NOC=%{y}<br>Games=2016 Summer<br>Medals=%{x}<extra></extra>",
           "ids": [
            "GER"
           ],
           "legendgroup": "GER",
           "marker": {
            "color": "#16FF32",
            "pattern": {
             "shape": ""
            }
           },
           "name": "GER",
           "offsetgroup": "GER",
           "orientation": "h",
           "showlegend": true,
           "textposition": "auto",
           "type": "bar",
           "x": [
            2
           ],
           "xaxis": "x",
           "y": [
            "GER"
           ],
           "yaxis": "y"
          },
          {
           "alignmentgroup": "True",
           "hovertemplate": "NOC=%{y}<br>Games=2016 Summer<br>Medals=%{x}<extra></extra>",
           "ids": [
            "NZL"
           ],
           "legendgroup": "NZL",
           "marker": {
            "color": "#F7E1A0",
            "pattern": {
             "shape": ""
            }
           },
           "name": "NZL",
           "offsetgroup": "NZL",
           "orientation": "h",
           "showlegend": true,
           "textposition": "auto",
           "type": "bar",
           "x": [
            3
           ],
           "xaxis": "x",
           "y": [
            "NZL"
           ],
           "yaxis": "y"
          },
          {
           "alignmentgroup": "True",
           "hovertemplate": "NOC=%{y}<br>Games=2016 Summer<br>Medals=%{x}<extra></extra>",
           "ids": [
            "POR"
           ],
           "legendgroup": "POR",
           "marker": {
            "color": "#E2E2E2",
            "pattern": {
             "shape": ""
            }
           },
           "name": "POR",
           "offsetgroup": "POR",
           "orientation": "h",
           "showlegend": true,
           "textposition": "auto",
           "type": "bar",
           "x": [
            1
           ],
           "xaxis": "x",
           "y": [
            "POR"
           ],
           "yaxis": "y"
          },
          {
           "alignmentgroup": "True",
           "hovertemplate": "NOC=%{y}<br>Games=2016 Summer<br>Medals=%{x}<extra></extra>",
           "ids": [
            "RSA"
           ],
           "legendgroup": "RSA",
           "marker": {
            "color": "#1CBE4F",
            "pattern": {
             "shape": ""
            }
           },
           "name": "RSA",
           "offsetgroup": "RSA",
           "orientation": "h",
           "showlegend": true,
           "textposition": "auto",
           "type": "bar",
           "x": [
            1
           ],
           "xaxis": "x",
           "y": [
            "RSA"
           ],
           "yaxis": "y"
          },
          {
           "alignmentgroup": "True",
           "hovertemplate": "NOC=%{y}<br>Games=2016 Summer<br>Medals=%{x}<extra></extra>",
           "ids": [
            "SUI"
           ],
           "legendgroup": "SUI",
           "marker": {
            "color": "#C4451C",
            "pattern": {
             "shape": ""
            }
           },
           "name": "SUI",
           "offsetgroup": "SUI",
           "orientation": "h",
           "showlegend": true,
           "textposition": "auto",
           "type": "bar",
           "x": [
            5
           ],
           "xaxis": "x",
           "y": [
            "SUI"
           ],
           "yaxis": "y"
          },
          {
           "alignmentgroup": "True",
           "hovertemplate": "NOC=%{y}<br>Games=2016 Summer<br>Medals=%{x}<extra></extra>",
           "ids": [
            "SWE"
           ],
           "legendgroup": "SWE",
           "marker": {
            "color": "#DEA0FD",
            "pattern": {
             "shape": ""
            }
           },
           "name": "SWE",
           "offsetgroup": "SWE",
           "orientation": "h",
           "showlegend": true,
           "textposition": "auto",
           "type": "bar",
           "x": [
            1
           ],
           "xaxis": "x",
           "y": [
            "SWE"
           ],
           "yaxis": "y"
          },
          {
           "alignmentgroup": "True",
           "hovertemplate": "NOC=%{y}<br>Games=2016 Summer<br>Medals=%{x}<extra></extra>",
           "ids": [
            "USA"
           ],
           "legendgroup": "USA",
           "marker": {
            "color": "#FE00FA",
            "pattern": {
             "shape": ""
            }
           },
           "name": "USA",
           "offsetgroup": "USA",
           "orientation": "h",
           "showlegend": true,
           "textposition": "auto",
           "type": "bar",
           "x": [
            2
           ],
           "xaxis": "x",
           "y": [
            "USA"
           ],
           "yaxis": "y"
          }
         ],
         "name": "2016 Summer"
        }
       ],
       "layout": {
        "barmode": "relative",
        "legend": {
         "title": {
          "text": "NOC"
         },
         "tracegroupgap": 0
        },
        "sliders": [
         {
          "active": 0,
          "currentvalue": {
           "prefix": "Games="
          },
          "len": 0.9,
          "pad": {
           "b": 10,
           "t": 60
          },
          "steps": [
           {
            "args": [
             [
              "2000 Summer"
             ],
             {
              "frame": {
               "duration": 0,
               "redraw": true
              },
              "fromcurrent": true,
              "mode": "immediate",
              "transition": {
               "duration": 0,
               "easing": "linear"
              }
             }
            ],
            "label": "2000 Summer",
            "method": "animate"
           },
           {
            "args": [
             [
              "2004 Summer"
             ],
             {
              "frame": {
               "duration": 0,
               "redraw": true
              },
              "fromcurrent": true,
              "mode": "immediate",
              "transition": {
               "duration": 0,
               "easing": "linear"
              }
             }
            ],
            "label": "2004 Summer",
            "method": "animate"
           },
           {
            "args": [
             [
              "2008 Summer"
             ],
             {
              "frame": {
               "duration": 0,
               "redraw": true
              },
              "fromcurrent": true,
              "mode": "immediate",
              "transition": {
               "duration": 0,
               "easing": "linear"
              }
             }
            ],
            "label": "2008 Summer",
            "method": "animate"
           },
           {
            "args": [
             [
              "2012 Summer"
             ],
             {
              "frame": {
               "duration": 0,
               "redraw": true
              },
              "fromcurrent": true,
              "mode": "immediate",
              "transition": {
               "duration": 0,
               "easing": "linear"
              }
             }
            ],
            "label": "2012 Summer",
            "method": "animate"
           },
           {
            "args": [
             [
              "2016 Summer"
             ],
             {
              "frame": {
               "duration": 0,
               "redraw": true
              },
              "fromcurrent": true,
              "mode": "immediate",
              "transition": {
               "duration": 0,
               "easing": "linear"
              }
             }
            ],
            "label": "2016 Summer",
            "method": "animate"
           }
          ],
          "x": 0.1,
          "xanchor": "left",
          "y": 0,
          "yanchor": "top"
         }
        ],
        "template": {
         "data": {
          "bar": [
           {
            "error_x": {
             "color": "#2a3f5f"
            },
            "error_y": {
             "color": "#2a3f5f"
            },
            "marker": {
             "line": {
              "color": "#E5ECF6",
              "width": 0.5
             },
             "pattern": {
              "fillmode": "overlay",
              "size": 10,
              "solidity": 0.2
             }
            },
            "type": "bar"
           }
          ],
          "barpolar": [
           {
            "marker": {
             "line": {
              "color": "#E5ECF6",
              "width": 0.5
             },
             "pattern": {
              "fillmode": "overlay",
              "size": 10,
              "solidity": 0.2
             }
            },
            "type": "barpolar"
           }
          ],
          "carpet": [
           {
            "aaxis": {
             "endlinecolor": "#2a3f5f",
             "gridcolor": "white",
             "linecolor": "white",
             "minorgridcolor": "white",
             "startlinecolor": "#2a3f5f"
            },
            "baxis": {
             "endlinecolor": "#2a3f5f",
             "gridcolor": "white",
             "linecolor": "white",
             "minorgridcolor": "white",
             "startlinecolor": "#2a3f5f"
            },
            "type": "carpet"
           }
          ],
          "choropleth": [
           {
            "colorbar": {
             "outlinewidth": 0,
             "ticks": ""
            },
            "type": "choropleth"
           }
          ],
          "contour": [
           {
            "colorbar": {
             "outlinewidth": 0,
             "ticks": ""
            },
            "colorscale": [
             [
              0,
              "#0d0887"
             ],
             [
              0.1111111111111111,
              "#46039f"
             ],
             [
              0.2222222222222222,
              "#7201a8"
             ],
             [
              0.3333333333333333,
              "#9c179e"
             ],
             [
              0.4444444444444444,
              "#bd3786"
             ],
             [
              0.5555555555555556,
              "#d8576b"
             ],
             [
              0.6666666666666666,
              "#ed7953"
             ],
             [
              0.7777777777777778,
              "#fb9f3a"
             ],
             [
              0.8888888888888888,
              "#fdca26"
             ],
             [
              1,
              "#f0f921"
             ]
            ],
            "type": "contour"
           }
          ],
          "contourcarpet": [
           {
            "colorbar": {
             "outlinewidth": 0,
             "ticks": ""
            },
            "type": "contourcarpet"
           }
          ],
          "heatmap": [
           {
            "colorbar": {
             "outlinewidth": 0,
             "ticks": ""
            },
            "colorscale": [
             [
              0,
              "#0d0887"
             ],
             [
              0.1111111111111111,
              "#46039f"
             ],
             [
              0.2222222222222222,
              "#7201a8"
             ],
             [
              0.3333333333333333,
              "#9c179e"
             ],
             [
              0.4444444444444444,
              "#bd3786"
             ],
             [
              0.5555555555555556,
              "#d8576b"
             ],
             [
              0.6666666666666666,
              "#ed7953"
             ],
             [
              0.7777777777777778,
              "#fb9f3a"
             ],
             [
              0.8888888888888888,
              "#fdca26"
             ],
             [
              1,
              "#f0f921"
             ]
            ],
            "type": "heatmap"
           }
          ],
          "heatmapgl": [
           {
            "colorbar": {
             "outlinewidth": 0,
             "ticks": ""
            },
            "colorscale": [
             [
              0,
              "#0d0887"
             ],
             [
              0.1111111111111111,
              "#46039f"
             ],
             [
              0.2222222222222222,
              "#7201a8"
             ],
             [
              0.3333333333333333,
              "#9c179e"
             ],
             [
              0.4444444444444444,
              "#bd3786"
             ],
             [
              0.5555555555555556,
              "#d8576b"
             ],
             [
              0.6666666666666666,
              "#ed7953"
             ],
             [
              0.7777777777777778,
              "#fb9f3a"
             ],
             [
              0.8888888888888888,
              "#fdca26"
             ],
             [
              1,
              "#f0f921"
             ]
            ],
            "type": "heatmapgl"
           }
          ],
          "histogram": [
           {
            "marker": {
             "pattern": {
              "fillmode": "overlay",
              "size": 10,
              "solidity": 0.2
             }
            },
            "type": "histogram"
           }
          ],
          "histogram2d": [
           {
            "colorbar": {
             "outlinewidth": 0,
             "ticks": ""
            },
            "colorscale": [
             [
              0,
              "#0d0887"
             ],
             [
              0.1111111111111111,
              "#46039f"
             ],
             [
              0.2222222222222222,
              "#7201a8"
             ],
             [
              0.3333333333333333,
              "#9c179e"
             ],
             [
              0.4444444444444444,
              "#bd3786"
             ],
             [
              0.5555555555555556,
              "#d8576b"
             ],
             [
              0.6666666666666666,
              "#ed7953"
             ],
             [
              0.7777777777777778,
              "#fb9f3a"
             ],
             [
              0.8888888888888888,
              "#fdca26"
             ],
             [
              1,
              "#f0f921"
             ]
            ],
            "type": "histogram2d"
           }
          ],
          "histogram2dcontour": [
           {
            "colorbar": {
             "outlinewidth": 0,
             "ticks": ""
            },
            "colorscale": [
             [
              0,
              "#0d0887"
             ],
             [
              0.1111111111111111,
              "#46039f"
             ],
             [
              0.2222222222222222,
              "#7201a8"
             ],
             [
              0.3333333333333333,
              "#9c179e"
             ],
             [
              0.4444444444444444,
              "#bd3786"
             ],
             [
              0.5555555555555556,
              "#d8576b"
             ],
             [
              0.6666666666666666,
              "#ed7953"
             ],
             [
              0.7777777777777778,
              "#fb9f3a"
             ],
             [
              0.8888888888888888,
              "#fdca26"
             ],
             [
              1,
              "#f0f921"
             ]
            ],
            "type": "histogram2dcontour"
           }
          ],
          "mesh3d": [
           {
            "colorbar": {
             "outlinewidth": 0,
             "ticks": ""
            },
            "type": "mesh3d"
           }
          ],
          "parcoords": [
           {
            "line": {
             "colorbar": {
              "outlinewidth": 0,
              "ticks": ""
             }
            },
            "type": "parcoords"
           }
          ],
          "pie": [
           {
            "automargin": true,
            "type": "pie"
           }
          ],
          "scatter": [
           {
            "marker": {
             "colorbar": {
              "outlinewidth": 0,
              "ticks": ""
             }
            },
            "type": "scatter"
           }
          ],
          "scatter3d": [
           {
            "line": {
             "colorbar": {
              "outlinewidth": 0,
              "ticks": ""
             }
            },
            "marker": {
             "colorbar": {
              "outlinewidth": 0,
              "ticks": ""
             }
            },
            "type": "scatter3d"
           }
          ],
          "scattercarpet": [
           {
            "marker": {
             "colorbar": {
              "outlinewidth": 0,
              "ticks": ""
             }
            },
            "type": "scattercarpet"
           }
          ],
          "scattergeo": [
           {
            "marker": {
             "colorbar": {
              "outlinewidth": 0,
              "ticks": ""
             }
            },
            "type": "scattergeo"
           }
          ],
          "scattergl": [
           {
            "marker": {
             "colorbar": {
              "outlinewidth": 0,
              "ticks": ""
             }
            },
            "type": "scattergl"
           }
          ],
          "scattermapbox": [
           {
            "marker": {
             "colorbar": {
              "outlinewidth": 0,
              "ticks": ""
             }
            },
            "type": "scattermapbox"
           }
          ],
          "scatterpolar": [
           {
            "marker": {
             "colorbar": {
              "outlinewidth": 0,
              "ticks": ""
             }
            },
            "type": "scatterpolar"
           }
          ],
          "scatterpolargl": [
           {
            "marker": {
             "colorbar": {
              "outlinewidth": 0,
              "ticks": ""
             }
            },
            "type": "scatterpolargl"
           }
          ],
          "scatterternary": [
           {
            "marker": {
             "colorbar": {
              "outlinewidth": 0,
              "ticks": ""
             }
            },
            "type": "scatterternary"
           }
          ],
          "surface": [
           {
            "colorbar": {
             "outlinewidth": 0,
             "ticks": ""
            },
            "colorscale": [
             [
              0,
              "#0d0887"
             ],
             [
              0.1111111111111111,
              "#46039f"
             ],
             [
              0.2222222222222222,
              "#7201a8"
             ],
             [
              0.3333333333333333,
              "#9c179e"
             ],
             [
              0.4444444444444444,
              "#bd3786"
             ],
             [
              0.5555555555555556,
              "#d8576b"
             ],
             [
              0.6666666666666666,
              "#ed7953"
             ],
             [
              0.7777777777777778,
              "#fb9f3a"
             ],
             [
              0.8888888888888888,
              "#fdca26"
             ],
             [
              1,
              "#f0f921"
             ]
            ],
            "type": "surface"
           }
          ],
          "table": [
           {
            "cells": {
             "fill": {
              "color": "#EBF0F8"
             },
             "line": {
              "color": "white"
             }
            },
            "header": {
             "fill": {
              "color": "#C8D4E3"
             },
             "line": {
              "color": "white"
             }
            },
            "type": "table"
           }
          ]
         },
         "layout": {
          "annotationdefaults": {
           "arrowcolor": "#2a3f5f",
           "arrowhead": 0,
           "arrowwidth": 1
          },
          "autotypenumbers": "strict",
          "coloraxis": {
           "colorbar": {
            "outlinewidth": 0,
            "ticks": ""
           }
          },
          "colorscale": {
           "diverging": [
            [
             0,
             "#8e0152"
            ],
            [
             0.1,
             "#c51b7d"
            ],
            [
             0.2,
             "#de77ae"
            ],
            [
             0.3,
             "#f1b6da"
            ],
            [
             0.4,
             "#fde0ef"
            ],
            [
             0.5,
             "#f7f7f7"
            ],
            [
             0.6,
             "#e6f5d0"
            ],
            [
             0.7,
             "#b8e186"
            ],
            [
             0.8,
             "#7fbc41"
            ],
            [
             0.9,
             "#4d9221"
            ],
            [
             1,
             "#276419"
            ]
           ],
           "sequential": [
            [
             0,
             "#0d0887"
            ],
            [
             0.1111111111111111,
             "#46039f"
            ],
            [
             0.2222222222222222,
             "#7201a8"
            ],
            [
             0.3333333333333333,
             "#9c179e"
            ],
            [
             0.4444444444444444,
             "#bd3786"
            ],
            [
             0.5555555555555556,
             "#d8576b"
            ],
            [
             0.6666666666666666,
             "#ed7953"
            ],
            [
             0.7777777777777778,
             "#fb9f3a"
            ],
            [
             0.8888888888888888,
             "#fdca26"
            ],
            [
             1,
             "#f0f921"
            ]
           ],
           "sequentialminus": [
            [
             0,
             "#0d0887"
            ],
            [
             0.1111111111111111,
             "#46039f"
            ],
            [
             0.2222222222222222,
             "#7201a8"
            ],
            [
             0.3333333333333333,
             "#9c179e"
            ],
            [
             0.4444444444444444,
             "#bd3786"
            ],
            [
             0.5555555555555556,
             "#d8576b"
            ],
            [
             0.6666666666666666,
             "#ed7953"
            ],
            [
             0.7777777777777778,
             "#fb9f3a"
            ],
            [
             0.8888888888888888,
             "#fdca26"
            ],
            [
             1,
             "#f0f921"
            ]
           ]
          },
          "colorway": [
           "#636efa",
           "#EF553B",
           "#00cc96",
           "#ab63fa",
           "#FFA15A",
           "#19d3f3",
           "#FF6692",
           "#B6E880",
           "#FF97FF",
           "#FECB52"
          ],
          "font": {
           "color": "#2a3f5f"
          },
          "geo": {
           "bgcolor": "white",
           "lakecolor": "white",
           "landcolor": "#E5ECF6",
           "showlakes": true,
           "showland": true,
           "subunitcolor": "white"
          },
          "hoverlabel": {
           "align": "left"
          },
          "hovermode": "closest",
          "mapbox": {
           "style": "light"
          },
          "paper_bgcolor": "white",
          "plot_bgcolor": "#E5ECF6",
          "polar": {
           "angularaxis": {
            "gridcolor": "white",
            "linecolor": "white",
            "ticks": ""
           },
           "bgcolor": "#E5ECF6",
           "radialaxis": {
            "gridcolor": "white",
            "linecolor": "white",
            "ticks": ""
           }
          },
          "scene": {
           "xaxis": {
            "backgroundcolor": "#E5ECF6",
            "gridcolor": "white",
            "gridwidth": 2,
            "linecolor": "white",
            "showbackground": true,
            "ticks": "",
            "zerolinecolor": "white"
           },
           "yaxis": {
            "backgroundcolor": "#E5ECF6",
            "gridcolor": "white",
            "gridwidth": 2,
            "linecolor": "white",
            "showbackground": true,
            "ticks": "",
            "zerolinecolor": "white"
           },
           "zaxis": {
            "backgroundcolor": "#E5ECF6",
            "gridcolor": "white",
            "gridwidth": 2,
            "linecolor": "white",
            "showbackground": true,
            "ticks": "",
            "zerolinecolor": "white"
           }
          },
          "shapedefaults": {
           "line": {
            "color": "#2a3f5f"
           }
          },
          "ternary": {
           "aaxis": {
            "gridcolor": "white",
            "linecolor": "white",
            "ticks": ""
           },
           "baxis": {
            "gridcolor": "white",
            "linecolor": "white",
            "ticks": ""
           },
           "bgcolor": "#E5ECF6",
           "caxis": {
            "gridcolor": "white",
            "linecolor": "white",
            "ticks": ""
           }
          },
          "title": {
           "x": 0.05
          },
          "xaxis": {
           "automargin": true,
           "gridcolor": "white",
           "linecolor": "white",
           "ticks": "",
           "title": {
            "standoff": 15
           },
           "zerolinecolor": "white",
           "zerolinewidth": 2
          },
          "yaxis": {
           "automargin": true,
           "gridcolor": "white",
           "linecolor": "white",
           "ticks": "",
           "title": {
            "standoff": 15
           },
           "zerolinecolor": "white",
           "zerolinewidth": 2
          }
         }
        },
        "title": {
         "text": "Medal race"
        },
        "updatemenus": [
         {
          "buttons": [
           {
            "args": [
             null,
             {
              "frame": {
               "duration": 1770,
               "redraw": true
              },
              "fromcurrent": true,
              "mode": "immediate",
              "transition": {
               "duration": 500,
               "easing": "linear"
              }
             }
            ],
            "label": "&#9654;",
            "method": "animate"
           },
           {
            "args": [
             [
              null
             ],
             {
              "frame": {
               "duration": 0,
               "redraw": true
              },
              "fromcurrent": true,
              "mode": "immediate",
              "transition": {
               "duration": 0,
               "easing": "linear"
              }
             }
            ],
            "label": "&#9724;",
            "method": "animate"
           }
          ],
          "direction": "left",
          "pad": {
           "r": 10,
           "t": 70
          },
          "showactive": false,
          "type": "buttons",
          "x": 0.1,
          "xanchor": "right",
          "y": 0,
          "yanchor": "top"
         }
        ],
        "xaxis": {
         "anchor": "y",
         "domain": [
          0,
          1
         ],
         "dtick": 1,
         "range": [
          0,
          5.5
         ],
         "tick0": 0,
         "title": {
          "text": "Medals"
         }
        },
        "yaxis": {
         "anchor": "x",
         "categoryarray": [
          "USA",
          "SWE",
          "SUI",
          "RSA",
          "POR",
          "NZL",
          "GER",
          "GBR",
          "ESP",
          "CZE",
          "CAN",
          "AUT",
          "AUS"
         ],
         "categoryorder": "total ascending",
         "domain": [
          0,
          1
         ],
         "range": [
          2.5,
          12.5
         ],
         "title": {
          "text": "NOC"
         }
        }
       }
      }
     },
     "metadata": {},
     "output_type": "display_data"
    }
   ],
   "source": [
    "fig = plots.medal_race_plot(sport_data)\n",
    "fig.write_html('./visualization/medal_race_test.html')\n",
    "fig"
   ]
  },
  {
   "cell_type": "code",
   "execution_count": null,
   "metadata": {},
   "outputs": [
    {
     "data": {
      "text/plain": [
       "'{\"general\":{\"one\":1.0,\"two\":2.0,\"three\":null,\"four\":null},\"medal_count\":{\"one\":null,\"two\":null,\"three\":3.0,\"four\":4.0}}'"
      ]
     },
     "execution_count": 61,
     "metadata": {},
     "output_type": "execute_result"
    }
   ],
   "source": [
    "\n",
    "apa = pd.DataFrame(dict(general=dict(one=1, two=2), medal_count=dict(three=3, four=4)))\n",
    "apa.to_json()\n"
   ]
  },
  {
   "cell_type": "code",
   "execution_count": 10,
   "metadata": {},
   "outputs": [
    {
     "name": "stderr",
     "output_type": "stream",
     "text": [
      "C:\\Users\\ErikLarsson-AIU21GBG\\.virtualenvs\\Databehandling-OS-projekt-Felix-Tjernberg--OEW8q_Bs\\lib\\site-packages\\pandas\\core\\frame.py:4906: SettingWithCopyWarning: \n",
      "A value is trying to be set on a copy of a slice from a DataFrame\n",
      "\n",
      "See the caveats in the documentation: https://pandas.pydata.org/pandas-docs/stable/user_guide/indexing.html#returning-a-view-versus-a-copy\n",
      "  return super().drop(\n",
      "C:\\Users\\ErikLarsson-AIU21GBG\\.virtualenvs\\Databehandling-OS-projekt-Felix-Tjernberg--OEW8q_Bs\\lib\\site-packages\\pandas\\util\\_decorators.py:311: SettingWithCopyWarning: \n",
      "A value is trying to be set on a copy of a slice from a DataFrame\n",
      "\n",
      "See the caveats in the documentation: https://pandas.pydata.org/pandas-docs/stable/user_guide/indexing.html#returning-a-view-versus-a-copy\n",
      "  return func(*args, **kwargs)\n"
     ]
    },
    {
     "data": {
      "text/html": [
       "<div>\n",
       "<style scoped>\n",
       "    .dataframe tbody tr th:only-of-type {\n",
       "        vertical-align: middle;\n",
       "    }\n",
       "\n",
       "    .dataframe tbody tr th {\n",
       "        vertical-align: top;\n",
       "    }\n",
       "\n",
       "    .dataframe thead th {\n",
       "        text-align: right;\n",
       "    }\n",
       "</style>\n",
       "<table border=\"1\" class=\"dataframe\">\n",
       "  <thead>\n",
       "    <tr style=\"text-align: right;\">\n",
       "      <th></th>\n",
       "      <th>Games</th>\n",
       "      <th>NOC</th>\n",
       "      <th>Sport</th>\n",
       "      <th>Event</th>\n",
       "      <th>Medal</th>\n",
       "      <th>Cumulative_medals</th>\n",
       "    </tr>\n",
       "  </thead>\n",
       "  <tbody>\n",
       "    <tr>\n",
       "      <th>6987</th>\n",
       "      <td>1896 Summer</td>\n",
       "      <td>AFG</td>\n",
       "      <td>0.0</td>\n",
       "      <td>0.0</td>\n",
       "      <td>0.0</td>\n",
       "      <td>0.0</td>\n",
       "    </tr>\n",
       "    <tr>\n",
       "      <th>4998</th>\n",
       "      <td>1896 Summer</td>\n",
       "      <td>AHO</td>\n",
       "      <td>0.0</td>\n",
       "      <td>0.0</td>\n",
       "      <td>0.0</td>\n",
       "      <td>0.0</td>\n",
       "    </tr>\n",
       "    <tr>\n",
       "      <th>4539</th>\n",
       "      <td>1896 Summer</td>\n",
       "      <td>ALG</td>\n",
       "      <td>0.0</td>\n",
       "      <td>0.0</td>\n",
       "      <td>0.0</td>\n",
       "      <td>0.0</td>\n",
       "    </tr>\n",
       "    <tr>\n",
       "      <th>1326</th>\n",
       "      <td>1896 Summer</td>\n",
       "      <td>ANZ</td>\n",
       "      <td>0.0</td>\n",
       "      <td>0.0</td>\n",
       "      <td>0.0</td>\n",
       "      <td>0.0</td>\n",
       "    </tr>\n",
       "    <tr>\n",
       "      <th>1785</th>\n",
       "      <td>1896 Summer</td>\n",
       "      <td>ARG</td>\n",
       "      <td>0.0</td>\n",
       "      <td>0.0</td>\n",
       "      <td>0.0</td>\n",
       "      <td>0.0</td>\n",
       "    </tr>\n",
       "    <tr>\n",
       "      <th>...</th>\n",
       "      <td>...</td>\n",
       "      <td>...</td>\n",
       "      <td>...</td>\n",
       "      <td>...</td>\n",
       "      <td>...</td>\n",
       "      <td>...</td>\n",
       "    </tr>\n",
       "    <tr>\n",
       "      <th>6425</th>\n",
       "      <td>2016 Summer</td>\n",
       "      <td>VIE</td>\n",
       "      <td>2.0</td>\n",
       "      <td>2.0</td>\n",
       "      <td>2.0</td>\n",
       "      <td>4.0</td>\n",
       "    </tr>\n",
       "    <tr>\n",
       "      <th>3263</th>\n",
       "      <td>2016 Summer</td>\n",
       "      <td>WIF</td>\n",
       "      <td>0.0</td>\n",
       "      <td>0.0</td>\n",
       "      <td>0.0</td>\n",
       "      <td>2.0</td>\n",
       "    </tr>\n",
       "    <tr>\n",
       "      <th>2039</th>\n",
       "      <td>2016 Summer</td>\n",
       "      <td>YUG</td>\n",
       "      <td>0.0</td>\n",
       "      <td>0.0</td>\n",
       "      <td>0.0</td>\n",
       "      <td>87.0</td>\n",
       "    </tr>\n",
       "    <tr>\n",
       "      <th>4640</th>\n",
       "      <td>2016 Summer</td>\n",
       "      <td>ZAM</td>\n",
       "      <td>0.0</td>\n",
       "      <td>0.0</td>\n",
       "      <td>0.0</td>\n",
       "      <td>2.0</td>\n",
       "    </tr>\n",
       "    <tr>\n",
       "      <th>4283</th>\n",
       "      <td>2016 Summer</td>\n",
       "      <td>ZIM</td>\n",
       "      <td>0.0</td>\n",
       "      <td>0.0</td>\n",
       "      <td>0.0</td>\n",
       "      <td>8.0</td>\n",
       "    </tr>\n",
       "  </tbody>\n",
       "</table>\n",
       "<p>7599 rows × 6 columns</p>\n",
       "</div>"
      ],
      "text/plain": [
       "            Games  NOC  Sport  Event  Medal  Cumulative_medals\n",
       "6987  1896 Summer  AFG    0.0    0.0    0.0                0.0\n",
       "4998  1896 Summer  AHO    0.0    0.0    0.0                0.0\n",
       "4539  1896 Summer  ALG    0.0    0.0    0.0                0.0\n",
       "1326  1896 Summer  ANZ    0.0    0.0    0.0                0.0\n",
       "1785  1896 Summer  ARG    0.0    0.0    0.0                0.0\n",
       "...           ...  ...    ...    ...    ...                ...\n",
       "6425  2016 Summer  VIE    2.0    2.0    2.0                4.0\n",
       "3263  2016 Summer  WIF    0.0    0.0    0.0                2.0\n",
       "2039  2016 Summer  YUG    0.0    0.0    0.0               87.0\n",
       "4640  2016 Summer  ZAM    0.0    0.0    0.0                2.0\n",
       "4283  2016 Summer  ZIM    0.0    0.0    0.0                8.0\n",
       "\n",
       "[7599 rows x 6 columns]"
      ]
     },
     "execution_count": 10,
     "metadata": {},
     "output_type": "execute_result"
    }
   ],
   "source": [
    "create_medal_count_data_frame(os_data_raw)"
   ]
  }
 ],
 "metadata": {
  "interpreter": {
   "hash": "da17dc049b3b279cd1f3d0b812b2e76aba2e6aa52fd853ae1ec75cc36c05b201"
  },
  "kernelspec": {
   "display_name": "Python 3.9.6 64-bit ('Databehandling-OS-projekt-Felix-Tjernberg--kRL7-uKq': venv)",
   "name": "python3"
  },
  "language_info": {
   "codemirror_mode": {
    "name": "ipython",
    "version": 3
   },
   "file_extension": ".py",
   "mimetype": "text/x-python",
   "name": "python",
   "nbconvert_exporter": "python",
   "pygments_lexer": "ipython3",
   "version": "3.9.7"
  },
  "orig_nbformat": 4
 },
 "nbformat": 4,
 "nbformat_minor": 2
}
