{
 "cells": [
  {
   "cell_type": "markdown",
   "metadata": {},
   "source": [
    "# Project Olympic Games\n",
    "Group Sweden\n",
    "\n",
    "Felix Tjernberg, Erik Larsson \n",
    "\n"
   ]
  },
  {
   "cell_type": "code",
   "execution_count": 4,
   "metadata": {},
   "outputs": [
    {
     "data": {
      "text/html": [
       "<div>\n",
       "<style scoped>\n",
       "    .dataframe tbody tr th:only-of-type {\n",
       "        vertical-align: middle;\n",
       "    }\n",
       "\n",
       "    .dataframe tbody tr th {\n",
       "        vertical-align: top;\n",
       "    }\n",
       "\n",
       "    .dataframe thead th {\n",
       "        text-align: right;\n",
       "    }\n",
       "</style>\n",
       "<table border=\"1\" class=\"dataframe\">\n",
       "  <thead>\n",
       "    <tr style=\"text-align: right;\">\n",
       "      <th></th>\n",
       "      <th>ID</th>\n",
       "      <th>Name</th>\n",
       "      <th>Sex</th>\n",
       "      <th>Age</th>\n",
       "      <th>Height</th>\n",
       "      <th>Weight</th>\n",
       "      <th>Team</th>\n",
       "      <th>NOC</th>\n",
       "      <th>Games</th>\n",
       "      <th>Year</th>\n",
       "      <th>Season</th>\n",
       "      <th>City</th>\n",
       "      <th>Sport</th>\n",
       "      <th>Event</th>\n",
       "      <th>Medal</th>\n",
       "    </tr>\n",
       "  </thead>\n",
       "  <tbody>\n",
       "    <tr>\n",
       "      <th>0</th>\n",
       "      <td>1</td>\n",
       "      <td>A Dijiang</td>\n",
       "      <td>M</td>\n",
       "      <td>24.0</td>\n",
       "      <td>180.0</td>\n",
       "      <td>80.0</td>\n",
       "      <td>China</td>\n",
       "      <td>CHN</td>\n",
       "      <td>1992 Summer</td>\n",
       "      <td>1992</td>\n",
       "      <td>Summer</td>\n",
       "      <td>Barcelona</td>\n",
       "      <td>Basketball</td>\n",
       "      <td>Basketball Men's Basketball</td>\n",
       "      <td>NaN</td>\n",
       "    </tr>\n",
       "    <tr>\n",
       "      <th>1</th>\n",
       "      <td>2</td>\n",
       "      <td>A Lamusi</td>\n",
       "      <td>M</td>\n",
       "      <td>23.0</td>\n",
       "      <td>170.0</td>\n",
       "      <td>60.0</td>\n",
       "      <td>China</td>\n",
       "      <td>CHN</td>\n",
       "      <td>2012 Summer</td>\n",
       "      <td>2012</td>\n",
       "      <td>Summer</td>\n",
       "      <td>London</td>\n",
       "      <td>Judo</td>\n",
       "      <td>Judo Men's Extra-Lightweight</td>\n",
       "      <td>NaN</td>\n",
       "    </tr>\n",
       "    <tr>\n",
       "      <th>2</th>\n",
       "      <td>3</td>\n",
       "      <td>Gunnar Nielsen Aaby</td>\n",
       "      <td>M</td>\n",
       "      <td>24.0</td>\n",
       "      <td>NaN</td>\n",
       "      <td>NaN</td>\n",
       "      <td>Denmark</td>\n",
       "      <td>DEN</td>\n",
       "      <td>1920 Summer</td>\n",
       "      <td>1920</td>\n",
       "      <td>Summer</td>\n",
       "      <td>Antwerpen</td>\n",
       "      <td>Football</td>\n",
       "      <td>Football Men's Football</td>\n",
       "      <td>NaN</td>\n",
       "    </tr>\n",
       "    <tr>\n",
       "      <th>3</th>\n",
       "      <td>4</td>\n",
       "      <td>Edgar Lindenau Aabye</td>\n",
       "      <td>M</td>\n",
       "      <td>34.0</td>\n",
       "      <td>NaN</td>\n",
       "      <td>NaN</td>\n",
       "      <td>Denmark/Sweden</td>\n",
       "      <td>DEN</td>\n",
       "      <td>1900 Summer</td>\n",
       "      <td>1900</td>\n",
       "      <td>Summer</td>\n",
       "      <td>Paris</td>\n",
       "      <td>Tug-Of-War</td>\n",
       "      <td>Tug-Of-War Men's Tug-Of-War</td>\n",
       "      <td>Gold</td>\n",
       "    </tr>\n",
       "    <tr>\n",
       "      <th>4</th>\n",
       "      <td>5</td>\n",
       "      <td>Christine Jacoba Aaftink</td>\n",
       "      <td>F</td>\n",
       "      <td>21.0</td>\n",
       "      <td>185.0</td>\n",
       "      <td>82.0</td>\n",
       "      <td>Netherlands</td>\n",
       "      <td>NED</td>\n",
       "      <td>1988 Winter</td>\n",
       "      <td>1988</td>\n",
       "      <td>Winter</td>\n",
       "      <td>Calgary</td>\n",
       "      <td>Speed Skating</td>\n",
       "      <td>Speed Skating Women's 500 metres</td>\n",
       "      <td>NaN</td>\n",
       "    </tr>\n",
       "    <tr>\n",
       "      <th>...</th>\n",
       "      <td>...</td>\n",
       "      <td>...</td>\n",
       "      <td>...</td>\n",
       "      <td>...</td>\n",
       "      <td>...</td>\n",
       "      <td>...</td>\n",
       "      <td>...</td>\n",
       "      <td>...</td>\n",
       "      <td>...</td>\n",
       "      <td>...</td>\n",
       "      <td>...</td>\n",
       "      <td>...</td>\n",
       "      <td>...</td>\n",
       "      <td>...</td>\n",
       "      <td>...</td>\n",
       "    </tr>\n",
       "    <tr>\n",
       "      <th>271111</th>\n",
       "      <td>135569</td>\n",
       "      <td>Andrzej ya</td>\n",
       "      <td>M</td>\n",
       "      <td>29.0</td>\n",
       "      <td>179.0</td>\n",
       "      <td>89.0</td>\n",
       "      <td>Poland-1</td>\n",
       "      <td>POL</td>\n",
       "      <td>1976 Winter</td>\n",
       "      <td>1976</td>\n",
       "      <td>Winter</td>\n",
       "      <td>Innsbruck</td>\n",
       "      <td>Luge</td>\n",
       "      <td>Luge Mixed (Men)'s Doubles</td>\n",
       "      <td>NaN</td>\n",
       "    </tr>\n",
       "    <tr>\n",
       "      <th>271112</th>\n",
       "      <td>135570</td>\n",
       "      <td>Piotr ya</td>\n",
       "      <td>M</td>\n",
       "      <td>27.0</td>\n",
       "      <td>176.0</td>\n",
       "      <td>59.0</td>\n",
       "      <td>Poland</td>\n",
       "      <td>POL</td>\n",
       "      <td>2014 Winter</td>\n",
       "      <td>2014</td>\n",
       "      <td>Winter</td>\n",
       "      <td>Sochi</td>\n",
       "      <td>Ski Jumping</td>\n",
       "      <td>Ski Jumping Men's Large Hill, Individual</td>\n",
       "      <td>NaN</td>\n",
       "    </tr>\n",
       "    <tr>\n",
       "      <th>271113</th>\n",
       "      <td>135570</td>\n",
       "      <td>Piotr ya</td>\n",
       "      <td>M</td>\n",
       "      <td>27.0</td>\n",
       "      <td>176.0</td>\n",
       "      <td>59.0</td>\n",
       "      <td>Poland</td>\n",
       "      <td>POL</td>\n",
       "      <td>2014 Winter</td>\n",
       "      <td>2014</td>\n",
       "      <td>Winter</td>\n",
       "      <td>Sochi</td>\n",
       "      <td>Ski Jumping</td>\n",
       "      <td>Ski Jumping Men's Large Hill, Team</td>\n",
       "      <td>NaN</td>\n",
       "    </tr>\n",
       "    <tr>\n",
       "      <th>271114</th>\n",
       "      <td>135571</td>\n",
       "      <td>Tomasz Ireneusz ya</td>\n",
       "      <td>M</td>\n",
       "      <td>30.0</td>\n",
       "      <td>185.0</td>\n",
       "      <td>96.0</td>\n",
       "      <td>Poland</td>\n",
       "      <td>POL</td>\n",
       "      <td>1998 Winter</td>\n",
       "      <td>1998</td>\n",
       "      <td>Winter</td>\n",
       "      <td>Nagano</td>\n",
       "      <td>Bobsleigh</td>\n",
       "      <td>Bobsleigh Men's Four</td>\n",
       "      <td>NaN</td>\n",
       "    </tr>\n",
       "    <tr>\n",
       "      <th>271115</th>\n",
       "      <td>135571</td>\n",
       "      <td>Tomasz Ireneusz ya</td>\n",
       "      <td>M</td>\n",
       "      <td>34.0</td>\n",
       "      <td>185.0</td>\n",
       "      <td>96.0</td>\n",
       "      <td>Poland</td>\n",
       "      <td>POL</td>\n",
       "      <td>2002 Winter</td>\n",
       "      <td>2002</td>\n",
       "      <td>Winter</td>\n",
       "      <td>Salt Lake City</td>\n",
       "      <td>Bobsleigh</td>\n",
       "      <td>Bobsleigh Men's Four</td>\n",
       "      <td>NaN</td>\n",
       "    </tr>\n",
       "  </tbody>\n",
       "</table>\n",
       "<p>271116 rows × 15 columns</p>\n",
       "</div>"
      ],
      "text/plain": [
       "            ID                      Name Sex   Age  Height  Weight  \\\n",
       "0            1                 A Dijiang   M  24.0   180.0    80.0   \n",
       "1            2                  A Lamusi   M  23.0   170.0    60.0   \n",
       "2            3       Gunnar Nielsen Aaby   M  24.0     NaN     NaN   \n",
       "3            4      Edgar Lindenau Aabye   M  34.0     NaN     NaN   \n",
       "4            5  Christine Jacoba Aaftink   F  21.0   185.0    82.0   \n",
       "...        ...                       ...  ..   ...     ...     ...   \n",
       "271111  135569                Andrzej ya   M  29.0   179.0    89.0   \n",
       "271112  135570                  Piotr ya   M  27.0   176.0    59.0   \n",
       "271113  135570                  Piotr ya   M  27.0   176.0    59.0   \n",
       "271114  135571        Tomasz Ireneusz ya   M  30.0   185.0    96.0   \n",
       "271115  135571        Tomasz Ireneusz ya   M  34.0   185.0    96.0   \n",
       "\n",
       "                  Team  NOC        Games  Year  Season            City  \\\n",
       "0                China  CHN  1992 Summer  1992  Summer       Barcelona   \n",
       "1                China  CHN  2012 Summer  2012  Summer          London   \n",
       "2              Denmark  DEN  1920 Summer  1920  Summer       Antwerpen   \n",
       "3       Denmark/Sweden  DEN  1900 Summer  1900  Summer           Paris   \n",
       "4          Netherlands  NED  1988 Winter  1988  Winter         Calgary   \n",
       "...                ...  ...          ...   ...     ...             ...   \n",
       "271111        Poland-1  POL  1976 Winter  1976  Winter       Innsbruck   \n",
       "271112          Poland  POL  2014 Winter  2014  Winter           Sochi   \n",
       "271113          Poland  POL  2014 Winter  2014  Winter           Sochi   \n",
       "271114          Poland  POL  1998 Winter  1998  Winter          Nagano   \n",
       "271115          Poland  POL  2002 Winter  2002  Winter  Salt Lake City   \n",
       "\n",
       "                Sport                                     Event Medal  \n",
       "0          Basketball               Basketball Men's Basketball   NaN  \n",
       "1                Judo              Judo Men's Extra-Lightweight   NaN  \n",
       "2            Football                   Football Men's Football   NaN  \n",
       "3          Tug-Of-War               Tug-Of-War Men's Tug-Of-War  Gold  \n",
       "4       Speed Skating          Speed Skating Women's 500 metres   NaN  \n",
       "...               ...                                       ...   ...  \n",
       "271111           Luge                Luge Mixed (Men)'s Doubles   NaN  \n",
       "271112    Ski Jumping  Ski Jumping Men's Large Hill, Individual   NaN  \n",
       "271113    Ski Jumping        Ski Jumping Men's Large Hill, Team   NaN  \n",
       "271114      Bobsleigh                      Bobsleigh Men's Four   NaN  \n",
       "271115      Bobsleigh                      Bobsleigh Men's Four   NaN  \n",
       "\n",
       "[271116 rows x 15 columns]"
      ]
     },
     "execution_count": 4,
     "metadata": {},
     "output_type": "execute_result"
    }
   ],
   "source": [
    "# Imports\n",
    "import pandas as pd\n",
    "import hashlib\n",
    "from dash_source.components.landing.load_landing_data import swedish_medal_counts\n",
    "from dash_source.utilities.plots  import swedish_medals_barplot\n",
    "import plotly_express as px\n",
    "import matplotlib.pyplot as plt\n",
    "import seaborn as sns\n",
    "\n",
    "# Read in the raw data\n",
    "athlete_events = pd.read_csv(\"raw-data/athlete_events.csv\")\n",
    "\n",
    "athlete_events"
   ]
  },
  {
   "cell_type": "markdown",
   "metadata": {},
   "source": [
    "## Task 0 - Geting started\n",
    "\n",
    "### a) Number of countries"
   ]
  },
  {
   "cell_type": "code",
   "execution_count": 5,
   "metadata": {},
   "outputs": [
    {
     "name": "stdout",
     "output_type": "stream",
     "text": [
      "There is 230 countries in the data set.\n"
     ]
    }
   ],
   "source": [
    "country_codes = athlete_events[\"NOC\"].unique()\n",
    "print(f\"There is {len(country_codes)} countries in the data set.\")"
   ]
  },
  {
   "cell_type": "markdown",
   "metadata": {},
   "source": [
    "### b) Which countries\n"
   ]
  },
  {
   "cell_type": "code",
   "execution_count": 6,
   "metadata": {},
   "outputs": [
    {
     "name": "stdout",
     "output_type": "stream",
     "text": [
      "The following NOC's are in the data set: \n",
      "['CHN' 'DEN' 'NED' 'USA' 'FIN' 'NOR' 'ROU' 'EST' 'FRA' 'MAR' 'ESP' 'EGY'\n",
      " 'IRI' 'BUL' 'ITA' 'CHA' 'AZE' 'SUD' 'RUS' 'ARG' 'CUB' 'BLR' 'GRE' 'CMR'\n",
      " 'TUR' 'CHI' 'MEX' 'URS' 'NCA' 'HUN' 'NGR' 'ALG' 'KUW' 'BRN' 'PAK' 'IRQ'\n",
      " 'UAR' 'LIB' 'QAT' 'MAS' 'GER' 'CAN' 'IRL' 'AUS' 'RSA' 'ERI' 'TAN' 'JOR'\n",
      " 'TUN' 'LBA' 'BEL' 'DJI' 'PLE' 'COM' 'KAZ' 'BRU' 'IND' 'KSA' 'SYR' 'MDV'\n",
      " 'ETH' 'UAE' 'YAR' 'INA' 'PHI' 'SGP' 'UZB' 'KGZ' 'TJK' 'EUN' 'JPN' 'CGO'\n",
      " 'SUI' 'BRA' 'FRG' 'GDR' 'MON' 'ISR' 'URU' 'SWE' 'ISV' 'SRI' 'ARM' 'CIV'\n",
      " 'KEN' 'BEN' 'UKR' 'GBR' 'GHA' 'SOM' 'LAT' 'NIG' 'MLI' 'AFG' 'POL' 'CRC'\n",
      " 'PAN' 'GEO' 'SLO' 'CRO' 'GUY' 'NZL' 'POR' 'PAR' 'ANG' 'VEN' 'COL' 'BAN'\n",
      " 'PER' 'ESA' 'PUR' 'UGA' 'HON' 'ECU' 'TKM' 'MRI' 'SEY' 'TCH' 'LUX' 'MTN'\n",
      " 'CZE' 'SKN' 'TTO' 'DOM' 'VIN' 'JAM' 'LBR' 'SUR' 'NEP' 'MGL' 'AUT' 'PLW'\n",
      " 'LTU' 'TOG' 'NAM' 'AHO' 'ISL' 'ASA' 'SAM' 'RWA' 'DMA' 'HAI' 'MLT' 'CYP'\n",
      " 'GUI' 'BIZ' 'YMD' 'KOR' 'THA' 'BER' 'ANZ' 'SCG' 'SLE' 'PNG' 'YEM' 'IOA'\n",
      " 'OMA' 'FIJ' 'VAN' 'MDA' 'YUG' 'BAH' 'GUA' 'SRB' 'IVB' 'MOZ' 'CAF' 'MAD'\n",
      " 'MAL' 'BIH' 'GUM' 'CAY' 'SVK' 'BAR' 'GBS' 'TLS' 'COD' 'GAB' 'SMR' 'LAO'\n",
      " 'BOT' 'ROT' 'CAM' 'PRK' 'SOL' 'SEN' 'CPV' 'CRT' 'GEQ' 'BOL' 'SAA' 'AND'\n",
      " 'ANT' 'ZIM' 'GRN' 'HKG' 'LCA' 'FSM' 'MYA' 'MAW' 'ZAM' 'RHO' 'TPE' 'STP'\n",
      " 'MKD' 'BOH' 'TGA' 'LIE' 'MNE' 'GAM' 'COK' 'ALB' 'WIF' 'SWZ' 'BUR' 'NBO'\n",
      " 'BDI' 'ARU' 'NRU' 'VNM' 'VIE' 'BHU' 'MHL' 'KIR' 'UNK' 'TUV' 'NFL' 'KOS'\n",
      " 'SSD' 'LES']\n"
     ]
    }
   ],
   "source": [
    "print(f\"The following NOC's are in the data set: \\n{country_codes}\" )"
   ]
  },
  {
   "cell_type": "markdown",
   "metadata": {},
   "source": [
    "### c) Which sports"
   ]
  },
  {
   "cell_type": "code",
   "execution_count": 7,
   "metadata": {},
   "outputs": [
    {
     "name": "stdout",
     "output_type": "stream",
     "text": [
      "The following sports are in the data: \n",
      "['Basketball' 'Judo' 'Football' 'Tug-Of-War' 'Speed Skating'\n",
      " 'Cross Country Skiing' 'Athletics' 'Ice Hockey' 'Swimming' 'Badminton'\n",
      " 'Sailing' 'Biathlon' 'Gymnastics' 'Art Competitions' 'Alpine Skiing'\n",
      " 'Handball' 'Weightlifting' 'Wrestling' 'Luge' 'Water Polo' 'Hockey'\n",
      " 'Rowing' 'Bobsleigh' 'Fencing' 'Equestrianism' 'Shooting' 'Boxing'\n",
      " 'Taekwondo' 'Cycling' 'Diving' 'Canoeing' 'Tennis' 'Modern Pentathlon'\n",
      " 'Figure Skating' 'Golf' 'Softball' 'Archery' 'Volleyball'\n",
      " 'Synchronized Swimming' 'Table Tennis' 'Nordic Combined' 'Baseball'\n",
      " 'Rhythmic Gymnastics' 'Freestyle Skiing' 'Rugby Sevens' 'Trampolining'\n",
      " 'Beach Volleyball' 'Triathlon' 'Ski Jumping' 'Curling' 'Snowboarding'\n",
      " 'Rugby' 'Short Track Speed Skating' 'Skeleton' 'Lacrosse' 'Polo'\n",
      " 'Cricket' 'Racquets' 'Motorboating' 'Military Ski Patrol' 'Croquet'\n",
      " 'Jeu De Paume' 'Roque' 'Alpinism' 'Basque Pelota' 'Aeronautics']  \n",
      "\n",
      "Note that every sport can have many branches.\n"
     ]
    }
   ],
   "source": [
    "print( f\"The following sports are in the data: \\n{athlete_events['Sport'].unique()}  \\n\\nNote that every sport can have many branches.\")"
   ]
  },
  {
   "cell_type": "markdown",
   "metadata": {},
   "source": [
    "### d) What type of medals\n"
   ]
  },
  {
   "cell_type": "code",
   "execution_count": 8,
   "metadata": {},
   "outputs": [
    {
     "name": "stdout",
     "output_type": "stream",
     "text": [
      "The typ of medals in the data :[nan 'Gold' 'Bronze' 'Silver']. \n",
      "nan of course corresponding to not getting any medal\n"
     ]
    }
   ],
   "source": [
    "print( f\"The typ of medals in the data :{athlete_events['Medal'].unique()}. \\nnan of course corresponding to not getting any medal\")"
   ]
  },
  {
   "cell_type": "markdown",
   "metadata": {},
   "source": [
    "### e) Statistics for age"
   ]
  },
  {
   "cell_type": "code",
   "execution_count": 10,
   "metadata": {},
   "outputs": [
    {
     "name": "stdout",
     "output_type": "stream",
     "text": [
      "Statistics for age: \n",
      "count    261642.000000\n",
      "mean         25.556898\n",
      "std           6.393561\n",
      "min          10.000000\n",
      "25%          21.000000\n",
      "50%          24.000000\n",
      "75%          28.000000\n",
      "max          97.000000\n",
      "Name: Age, dtype: float64\n"
     ]
    }
   ],
   "source": [
    "print(f\"Statistics for age: \\n{athlete_events['Age'].describe()}\")"
   ]
  },
  {
   "cell_type": "markdown",
   "metadata": {},
   "source": [
    "### f) Games since 1896\n",
    "\n"
   ]
  },
  {
   "cell_type": "code",
   "execution_count": 11,
   "metadata": {},
   "outputs": [
    {
     "name": "stdout",
     "output_type": "stream",
     "text": [
      "All games in the data set: \n",
      "['1896 Summer' '1900 Summer' '1904 Summer' '1906 Summer' '1908 Summer'\n",
      " '1912 Summer' '1920 Summer' '1924 Summer' '1924 Winter' '1928 Summer'\n",
      " '1928 Winter' '1932 Summer' '1932 Winter' '1936 Summer' '1936 Winter'\n",
      " '1948 Summer' '1948 Winter' '1952 Summer' '1952 Winter' '1956 Summer'\n",
      " '1956 Winter' '1960 Summer' '1960 Winter' '1964 Summer' '1964 Winter'\n",
      " '1968 Summer' '1968 Winter' '1972 Summer' '1972 Winter' '1976 Summer'\n",
      " '1976 Winter' '1980 Summer' '1980 Winter' '1984 Summer' '1984 Winter'\n",
      " '1988 Summer' '1988 Winter' '1992 Summer' '1992 Winter' '1994 Winter'\n",
      " '1996 Summer' '1998 Winter' '2000 Summer' '2002 Winter' '2004 Summer'\n",
      " '2006 Winter' '2008 Summer' '2010 Winter' '2012 Summer' '2014 Winter'\n",
      " '2016 Summer']\n"
     ]
    }
   ],
   "source": [
    "\n",
    "games = athlete_events[\"Games\"].sort_values().unique()\n",
    "print(f\"All games in the data set: \\n{games}\")"
   ]
  },
  {
   "cell_type": "code",
   "execution_count": 12,
   "metadata": {},
   "outputs": [
    {
     "name": "stdout",
     "output_type": "stream",
     "text": [
      "All the years with an Olympic Game: [1896 1900 1904 1906 1908 1912 1920 1924 1928 1932 1936 1948 1952 1956\n",
      " 1960 1964 1968 1972 1976 1980 1984 1988 1992 1994 1996 1998 2000 2002\n",
      " 2004 2006 2008 2010 2012 2014 2016]\n"
     ]
    }
   ],
   "source": [
    "year_list = athlete_events[\"Year\"].sort_values().unique()\n",
    "print(f\"All the years with an Olympic Game: {year_list}\")"
   ]
  },
  {
   "cell_type": "code",
   "execution_count": 13,
   "metadata": {},
   "outputs": [
    {
     "name": "stdout",
     "output_type": "stream",
     "text": [
      "Number of games in the data set: 51\n"
     ]
    }
   ],
   "source": [
    "print(f\"Number of games in the data set: {len(games)}\")\n"
   ]
  },
  {
   "cell_type": "markdown",
   "metadata": {},
   "source": [
    "### g) Pie chart of gender distribution"
   ]
  },
  {
   "cell_type": "code",
   "execution_count": 15,
   "metadata": {},
   "outputs": [
    {
     "data": {
      "image/png": "[encoded data removed]",
      "text/plain": [
       "<Figure size 600x400 with 1 Axes>"
      ]
     },
     "metadata": {},
     "output_type": "display_data"
    }
   ],
   "source": [
    " sex_count = (athlete_events[athlete_events[\"Sex\"] == 'M'][\"Sex\"].count(), athlete_events[athlete_events[\"Sex\"] == 'F'][\"Sex\"].count())\n",
    "\n",
    "fig, ax = plt.figure(dpi=100, facecolor=\"white\"), plt.axes()\n",
    "\n",
    "ax.pie (sex_count, labels=(\"Male\", \"Female\"), explode=(0.03, 0.03), startangle=90, frame= False, shadow=True, autopct= \"%.1f\")\n",
    "ax.set_title(\"Gender distribution\");\n"
   ]
  },
  {
   "cell_type": "markdown",
   "metadata": {},
   "source": [
    "### h) Top ten medal winning countries "
   ]
  },
  {
   "cell_type": "code",
   "execution_count": 17,
   "metadata": {},
   "outputs": [
    {
     "data": {
      "image/png": "[encoded data removed]",
      "text/plain": [
       "<Figure size 432x288 with 1 Axes>"
      ]
     },
     "metadata": {
      "needs_background": "light"
     },
     "output_type": "display_data"
    }
   ],
   "source": [
    "top10_countries = athlete_events[athlete_events[\"Medal\"].notna()].groupby(\"NOC\").count().sort_values(\"Medal\", ascending=False).head(10)\n",
    "\n",
    "sns.barplot(data=top10_countries, x=top10_countries.index , y=top10_countries[\"Medal\"]).set_title(\"Topp ten medal winners\");\n"
   ]
  },
  {
   "cell_type": "markdown",
   "metadata": {},
   "source": [
    "### i) Swedish medals per sport\n",
    "\n"
   ]
  },
  {
   "cell_type": "code",
   "execution_count": 22,
   "metadata": {},
   "outputs": [
    {
     "name": "stdout",
     "output_type": "stream",
     "text": [
      "Swedish medals per sport: \n",
      "Sport\n",
      "Alpine Skiing            15\n",
      "Archery                   2\n",
      "Athletics               110\n",
      "Biathlon                 15\n",
      "Boxing                    3\n",
      "Canoeing                 45\n",
      "Cross Country Skiing     89\n",
      "Curling                  19\n",
      "Cycling                  17\n",
      "Diving                    5\n",
      "Equestrianism            14\n",
      "Fencing                  10\n",
      "Football                 19\n",
      "Freestyle Skiing          2\n",
      "Golf                      1\n",
      "Gymnastics                4\n",
      "Handball                 61\n",
      "Ice Hockey              189\n",
      "Modern Pentathlon         6\n",
      "Sailing                  33\n",
      "Shooting                 14\n",
      "Snowboarding              1\n",
      "Speed Skating             9\n",
      "Swimming                 42\n",
      "Table Tennis              3\n",
      "Tennis                    5\n",
      "Triathlon                 1\n",
      "Tug-Of-War                1\n",
      "Weightlifting             1\n",
      "Wrestling                29\n",
      "dtype: int64\n"
     ]
    }
   ],
   "source": [
    "swe_medals_count = athlete_events[athlete_events[\"NOC\"] == \"SWE\"].dropna(inplace=False).groupby(\"Sport\").size()\n",
    "\n",
    "print(f\"Swedish medals per sport: \\n{swe_medals_count}\")"
   ]
  },
  {
   "cell_type": "code",
   "execution_count": 24,
   "metadata": {},
   "outputs": [
    {
     "data": {
      "image/png": "[encoded data removed]",
      "text/plain": [
       "<Figure size 360x1440 with 1 Axes>"
      ]
     },
     "metadata": {},
     "output_type": "display_data"
    }
   ],
   "source": [
    "sns.set(rc={\"figure.figsize\":(5, 20)})\n",
    "sns.barplot(x=swe_medals_count.values, y=swe_medals_count.index, ).set_title(\"Swedish medals per sport\");"
   ]
  },
  {
   "cell_type": "markdown",
   "metadata": {},
   "source": [
    "## Task 1 - Swedish statistics\n",
    "### Swedish data"
   ]
  },
  {
   "cell_type": "code",
   "execution_count": 29,
   "metadata": {},
   "outputs": [],
   "source": [
    "swedish_athletes = athlete_events[athlete_events[\"NOC\"] == \"SWE\"]"
   ]
  },
  {
   "cell_type": "markdown",
   "metadata": {},
   "source": [
    "### a) Anonymizing data"
   ]
  },
  {
   "cell_type": "code",
   "execution_count": 30,
   "metadata": {},
   "outputs": [
    {
     "name": "stderr",
     "output_type": "stream",
     "text": [
      "C:\\Users\\ErikLarsson-AIU21GBG\\.virtualenvs\\Databehandling-OS-projekt-Felix-Tjernberg--OEW8q_Bs\\lib\\site-packages\\pandas\\core\\frame.py:4906: SettingWithCopyWarning: \n",
      "A value is trying to be set on a copy of a slice from a DataFrame\n",
      "\n",
      "See the caveats in the documentation: https://pandas.pydata.org/pandas-docs/stable/user_guide/indexing.html#returning-a-view-versus-a-copy\n",
      "  return super().drop(\n"
     ]
    },
    {
     "data": {
      "text/html": [
       "<div>\n",
       "<style scoped>\n",
       "    .dataframe tbody tr th:only-of-type {\n",
       "        vertical-align: middle;\n",
       "    }\n",
       "\n",
       "    .dataframe tbody tr th {\n",
       "        vertical-align: top;\n",
       "    }\n",
       "\n",
       "    .dataframe thead th {\n",
       "        text-align: right;\n",
       "    }\n",
       "</style>\n",
       "<table border=\"1\" class=\"dataframe\">\n",
       "  <thead>\n",
       "    <tr style=\"text-align: right;\">\n",
       "      <th></th>\n",
       "      <th>ID</th>\n",
       "      <th>Hashed_names</th>\n",
       "      <th>Sex</th>\n",
       "      <th>Age</th>\n",
       "      <th>Height</th>\n",
       "      <th>Weight</th>\n",
       "      <th>Team</th>\n",
       "      <th>NOC</th>\n",
       "      <th>Games</th>\n",
       "      <th>Year</th>\n",
       "      <th>Season</th>\n",
       "      <th>City</th>\n",
       "      <th>Sport</th>\n",
       "      <th>Event</th>\n",
       "      <th>Medal</th>\n",
       "    </tr>\n",
       "  </thead>\n",
       "  <tbody>\n",
       "    <tr>\n",
       "      <th>725</th>\n",
       "      <td>414</td>\n",
       "      <td>29a708e9c2f5e49e3299680bdc89c707c8c258a226a4dc...</td>\n",
       "      <td>M</td>\n",
       "      <td>26.0</td>\n",
       "      <td>NaN</td>\n",
       "      <td>NaN</td>\n",
       "      <td>Sweden</td>\n",
       "      <td>SWE</td>\n",
       "      <td>1912 Summer</td>\n",
       "      <td>1912</td>\n",
       "      <td>Summer</td>\n",
       "      <td>Stockholm</td>\n",
       "      <td>Athletics</td>\n",
       "      <td>Athletics Men's Hammer Throw</td>\n",
       "      <td>NaN</td>\n",
       "    </tr>\n",
       "    <tr>\n",
       "      <th>726</th>\n",
       "      <td>415</td>\n",
       "      <td>d712af0c4440a3d677c7b9d6a0fe816d08c40b51f5a00b...</td>\n",
       "      <td>M</td>\n",
       "      <td>23.0</td>\n",
       "      <td>181.0</td>\n",
       "      <td>76.0</td>\n",
       "      <td>Sweden</td>\n",
       "      <td>SWE</td>\n",
       "      <td>1992 Winter</td>\n",
       "      <td>1992</td>\n",
       "      <td>Winter</td>\n",
       "      <td>Albertville</td>\n",
       "      <td>Freestyle Skiing</td>\n",
       "      <td>Freestyle Skiing Men's Moguls</td>\n",
       "      <td>NaN</td>\n",
       "    </tr>\n",
       "    <tr>\n",
       "      <th>727</th>\n",
       "      <td>416</td>\n",
       "      <td>a9d3f60fd1cd7e878f36d0bf1c82aea4b071cce2a43f04...</td>\n",
       "      <td>M</td>\n",
       "      <td>19.0</td>\n",
       "      <td>181.0</td>\n",
       "      <td>78.0</td>\n",
       "      <td>Sweden</td>\n",
       "      <td>SWE</td>\n",
       "      <td>1912 Summer</td>\n",
       "      <td>1912</td>\n",
       "      <td>Summer</td>\n",
       "      <td>Stockholm</td>\n",
       "      <td>Athletics</td>\n",
       "      <td>Athletics Men's Long Jump</td>\n",
       "      <td>Bronze</td>\n",
       "    </tr>\n",
       "    <tr>\n",
       "      <th>728</th>\n",
       "      <td>416</td>\n",
       "      <td>a9d3f60fd1cd7e878f36d0bf1c82aea4b071cce2a43f04...</td>\n",
       "      <td>M</td>\n",
       "      <td>19.0</td>\n",
       "      <td>181.0</td>\n",
       "      <td>78.0</td>\n",
       "      <td>Sweden</td>\n",
       "      <td>SWE</td>\n",
       "      <td>1912 Summer</td>\n",
       "      <td>1912</td>\n",
       "      <td>Summer</td>\n",
       "      <td>Stockholm</td>\n",
       "      <td>Athletics</td>\n",
       "      <td>Athletics Men's Triple Jump</td>\n",
       "      <td>Silver</td>\n",
       "    </tr>\n",
       "    <tr>\n",
       "      <th>729</th>\n",
       "      <td>417</td>\n",
       "      <td>9f1fe5f1cec1ce1cbb1265d84c10c686566e35efa7b36b...</td>\n",
       "      <td>F</td>\n",
       "      <td>17.0</td>\n",
       "      <td>190.0</td>\n",
       "      <td>73.0</td>\n",
       "      <td>Sweden</td>\n",
       "      <td>SWE</td>\n",
       "      <td>1988 Summer</td>\n",
       "      <td>1988</td>\n",
       "      <td>Summer</td>\n",
       "      <td>Seoul</td>\n",
       "      <td>Swimming</td>\n",
       "      <td>Swimming Women's 50 metres Freestyle</td>\n",
       "      <td>NaN</td>\n",
       "    </tr>\n",
       "  </tbody>\n",
       "</table>\n",
       "</div>"
      ],
      "text/plain": [
       "      ID                                       Hashed_names Sex   Age  Height  \\\n",
       "725  414  29a708e9c2f5e49e3299680bdc89c707c8c258a226a4dc...   M  26.0     NaN   \n",
       "726  415  d712af0c4440a3d677c7b9d6a0fe816d08c40b51f5a00b...   M  23.0   181.0   \n",
       "727  416  a9d3f60fd1cd7e878f36d0bf1c82aea4b071cce2a43f04...   M  19.0   181.0   \n",
       "728  416  a9d3f60fd1cd7e878f36d0bf1c82aea4b071cce2a43f04...   M  19.0   181.0   \n",
       "729  417  9f1fe5f1cec1ce1cbb1265d84c10c686566e35efa7b36b...   F  17.0   190.0   \n",
       "\n",
       "     Weight    Team  NOC        Games  Year  Season         City  \\\n",
       "725     NaN  Sweden  SWE  1912 Summer  1912  Summer    Stockholm   \n",
       "726    76.0  Sweden  SWE  1992 Winter  1992  Winter  Albertville   \n",
       "727    78.0  Sweden  SWE  1912 Summer  1912  Summer    Stockholm   \n",
       "728    78.0  Sweden  SWE  1912 Summer  1912  Summer    Stockholm   \n",
       "729    73.0  Sweden  SWE  1988 Summer  1988  Summer        Seoul   \n",
       "\n",
       "                Sport                                 Event   Medal  \n",
       "725         Athletics          Athletics Men's Hammer Throw     NaN  \n",
       "726  Freestyle Skiing         Freestyle Skiing Men's Moguls     NaN  \n",
       "727         Athletics             Athletics Men's Long Jump  Bronze  \n",
       "728         Athletics           Athletics Men's Triple Jump  Silver  \n",
       "729          Swimming  Swimming Women's 50 metres Freestyle     NaN  "
      ]
     },
     "execution_count": 30,
     "metadata": {},
     "output_type": "execute_result"
    }
   ],
   "source": [
    "hashed_swedish_names = swedish_athletes['Name'].apply(lambda x: hashlib.sha256(x.encode()).hexdigest())\n",
    "swedish_athletes.insert(1, 'Hashed_names', hashed_swedish_names)\n",
    "swedish_athletes.drop(columns='Name', inplace=True)\n",
    "swedish_athletes.head()"
   ]
  },
  {
   "cell_type": "markdown",
   "metadata": {},
   "source": [
    "### b) Sports with most medals"
   ]
  },
  {
   "cell_type": "code",
   "execution_count": 25,
   "metadata": {},
   "outputs": [
    {
     "data": {
      "image/png": "[encoded data removed]",
      "text/plain": [
       "<Figure size 1440x360 with 1 Axes>"
      ]
     },
     "metadata": {},
     "output_type": "display_data"
    }
   ],
   "source": [
    "top_10_swedish_sports = swe_medals_count.sort_values(ascending=False).head(10)\n",
    "\n",
    "sns.set(rc={\"figure.figsize\":(20, 5)})\n",
    "sns.barplot(y=top_10_swedish_sports.values, x=top_10_swedish_sports.index, ).set_title(\"Swedish top ten medal winning sports\");"
   ]
  },
  {
   "cell_type": "markdown",
   "metadata": {},
   "source": [
    "### c) Number of medals per game"
   ]
  },
  {
   "cell_type": "code",
   "execution_count": null,
   "metadata": {},
   "outputs": [
    {
     "data": {
      "text/html": [
       "<div>\n",
       "<style scoped>\n",
       "    .dataframe tbody tr th:only-of-type {\n",
       "        vertical-align: middle;\n",
       "    }\n",
       "\n",
       "    .dataframe tbody tr th {\n",
       "        vertical-align: top;\n",
       "    }\n",
       "\n",
       "    .dataframe thead th {\n",
       "        text-align: right;\n",
       "    }\n",
       "</style>\n",
       "<table border=\"1\" class=\"dataframe\">\n",
       "  <thead>\n",
       "    <tr style=\"text-align: right;\">\n",
       "      <th></th>\n",
       "      <th>ID</th>\n",
       "      <th>Hashed_names</th>\n",
       "      <th>Sex</th>\n",
       "      <th>Age</th>\n",
       "      <th>Height</th>\n",
       "      <th>Weight</th>\n",
       "      <th>Team</th>\n",
       "      <th>NOC</th>\n",
       "      <th>Games</th>\n",
       "      <th>Year</th>\n",
       "      <th>Season</th>\n",
       "      <th>City</th>\n",
       "      <th>Sport</th>\n",
       "      <th>Event</th>\n",
       "      <th>Medal</th>\n",
       "    </tr>\n",
       "  </thead>\n",
       "  <tbody>\n",
       "    <tr>\n",
       "      <th>260512</th>\n",
       "      <td>130370</td>\n",
       "      <td>a63104464f148df5e1a5bf709ce80e02c872bc73070902...</td>\n",
       "      <td>M</td>\n",
       "      <td>28.0</td>\n",
       "      <td>178.0</td>\n",
       "      <td>NaN</td>\n",
       "      <td>Sweden</td>\n",
       "      <td>SWE</td>\n",
       "      <td>1936 Winter</td>\n",
       "      <td>1936</td>\n",
       "      <td>Winter</td>\n",
       "      <td>Garmisch-Partenkirchen</td>\n",
       "      <td>Cross Country Skiing</td>\n",
       "      <td>Cross Country Skiing Men's 50 kilometres</td>\n",
       "      <td>Silver</td>\n",
       "    </tr>\n",
       "    <tr>\n",
       "      <th>64221</th>\n",
       "      <td>32895</td>\n",
       "      <td>b043fb8173a04ff85ace003f509cac191b8760c6035946...</td>\n",
       "      <td>M</td>\n",
       "      <td>26.0</td>\n",
       "      <td>NaN</td>\n",
       "      <td>NaN</td>\n",
       "      <td>Sweden</td>\n",
       "      <td>SWE</td>\n",
       "      <td>1948 Winter</td>\n",
       "      <td>1948</td>\n",
       "      <td>Winter</td>\n",
       "      <td>Sankt Moritz</td>\n",
       "      <td>Cross Country Skiing</td>\n",
       "      <td>Cross Country Skiing Men's 50 kilometres</td>\n",
       "      <td>Silver</td>\n",
       "    </tr>\n",
       "    <tr>\n",
       "      <th>176688</th>\n",
       "      <td>88847</td>\n",
       "      <td>1212b1f56f10386c2b29208373b423f7e12bfb21e344b9...</td>\n",
       "      <td>F</td>\n",
       "      <td>32.0</td>\n",
       "      <td>159.0</td>\n",
       "      <td>55.0</td>\n",
       "      <td>Sweden</td>\n",
       "      <td>SWE</td>\n",
       "      <td>2006 Winter</td>\n",
       "      <td>2006</td>\n",
       "      <td>Winter</td>\n",
       "      <td>Torino</td>\n",
       "      <td>Biathlon</td>\n",
       "      <td>Biathlon Women's 7.5 kilometres Sprint</td>\n",
       "      <td>Silver</td>\n",
       "    </tr>\n",
       "    <tr>\n",
       "      <th>48236</th>\n",
       "      <td>24860</td>\n",
       "      <td>4226d9457a21a197bf189c835a09052fc777e4faa901b3...</td>\n",
       "      <td>M</td>\n",
       "      <td>46.0</td>\n",
       "      <td>185.0</td>\n",
       "      <td>95.0</td>\n",
       "      <td>Sweden</td>\n",
       "      <td>SWE</td>\n",
       "      <td>2012 Summer</td>\n",
       "      <td>2012</td>\n",
       "      <td>Summer</td>\n",
       "      <td>London</td>\n",
       "      <td>Shooting</td>\n",
       "      <td>Shooting Men's Double Trap</td>\n",
       "      <td>Silver</td>\n",
       "    </tr>\n",
       "    <tr>\n",
       "      <th>51236</th>\n",
       "      <td>26341</td>\n",
       "      <td>ba9b3a59b2d08a571c394a8401a27da5fbab3ec5fdd5f2...</td>\n",
       "      <td>M</td>\n",
       "      <td>31.0</td>\n",
       "      <td>NaN</td>\n",
       "      <td>NaN</td>\n",
       "      <td>Sweden</td>\n",
       "      <td>SWE</td>\n",
       "      <td>1920 Summer</td>\n",
       "      <td>1920</td>\n",
       "      <td>Summer</td>\n",
       "      <td>Antwerpen</td>\n",
       "      <td>Modern Pentathlon</td>\n",
       "      <td>Modern Pentathlon Men's Individual</td>\n",
       "      <td>Silver</td>\n",
       "    </tr>\n",
       "    <tr>\n",
       "      <th>...</th>\n",
       "      <td>...</td>\n",
       "      <td>...</td>\n",
       "      <td>...</td>\n",
       "      <td>...</td>\n",
       "      <td>...</td>\n",
       "      <td>...</td>\n",
       "      <td>...</td>\n",
       "      <td>...</td>\n",
       "      <td>...</td>\n",
       "      <td>...</td>\n",
       "      <td>...</td>\n",
       "      <td>...</td>\n",
       "      <td>...</td>\n",
       "      <td>...</td>\n",
       "      <td>...</td>\n",
       "    </tr>\n",
       "    <tr>\n",
       "      <th>171915</th>\n",
       "      <td>86383</td>\n",
       "      <td>dc16928b72302057280b407fa14560a0482dbe2e56a086...</td>\n",
       "      <td>M</td>\n",
       "      <td>28.0</td>\n",
       "      <td>NaN</td>\n",
       "      <td>NaN</td>\n",
       "      <td>Sweden</td>\n",
       "      <td>SWE</td>\n",
       "      <td>1920 Summer</td>\n",
       "      <td>1920</td>\n",
       "      <td>Summer</td>\n",
       "      <td>Antwerpen</td>\n",
       "      <td>Wrestling</td>\n",
       "      <td>Wrestling Men's Heavyweight, Freestyle</td>\n",
       "      <td>Bronze</td>\n",
       "    </tr>\n",
       "    <tr>\n",
       "      <th>62125</th>\n",
       "      <td>31810</td>\n",
       "      <td>a7a2ffb9a48dd68775bbbb4359f301795d527a515200b4...</td>\n",
       "      <td>M</td>\n",
       "      <td>31.0</td>\n",
       "      <td>NaN</td>\n",
       "      <td>NaN</td>\n",
       "      <td>Sweden</td>\n",
       "      <td>SWE</td>\n",
       "      <td>1924 Summer</td>\n",
       "      <td>1924</td>\n",
       "      <td>Summer</td>\n",
       "      <td>Paris</td>\n",
       "      <td>Shooting</td>\n",
       "      <td>Shooting Men's Running Target, Double Shot, Team</td>\n",
       "      <td>Bronze</td>\n",
       "    </tr>\n",
       "    <tr>\n",
       "      <th>61426</th>\n",
       "      <td>31461</td>\n",
       "      <td>5e5f1268accd529511ce464b5fffc4649bbf758bbeab31...</td>\n",
       "      <td>F</td>\n",
       "      <td>25.0</td>\n",
       "      <td>NaN</td>\n",
       "      <td>NaN</td>\n",
       "      <td>Sweden</td>\n",
       "      <td>SWE</td>\n",
       "      <td>1956 Winter</td>\n",
       "      <td>1956</td>\n",
       "      <td>Winter</td>\n",
       "      <td>Cortina d'Ampezzo</td>\n",
       "      <td>Cross Country Skiing</td>\n",
       "      <td>Cross Country Skiing Women's 3 x 5 kilometres ...</td>\n",
       "      <td>Bronze</td>\n",
       "    </tr>\n",
       "    <tr>\n",
       "      <th>61425</th>\n",
       "      <td>31461</td>\n",
       "      <td>5e5f1268accd529511ce464b5fffc4649bbf758bbeab31...</td>\n",
       "      <td>F</td>\n",
       "      <td>25.0</td>\n",
       "      <td>NaN</td>\n",
       "      <td>NaN</td>\n",
       "      <td>Sweden</td>\n",
       "      <td>SWE</td>\n",
       "      <td>1956 Winter</td>\n",
       "      <td>1956</td>\n",
       "      <td>Winter</td>\n",
       "      <td>Cortina d'Ampezzo</td>\n",
       "      <td>Cross Country Skiing</td>\n",
       "      <td>Cross Country Skiing Women's 10 kilometres</td>\n",
       "      <td>Bronze</td>\n",
       "    </tr>\n",
       "    <tr>\n",
       "      <th>727</th>\n",
       "      <td>416</td>\n",
       "      <td>a9d3f60fd1cd7e878f36d0bf1c82aea4b071cce2a43f04...</td>\n",
       "      <td>M</td>\n",
       "      <td>19.0</td>\n",
       "      <td>181.0</td>\n",
       "      <td>78.0</td>\n",
       "      <td>Sweden</td>\n",
       "      <td>SWE</td>\n",
       "      <td>1912 Summer</td>\n",
       "      <td>1912</td>\n",
       "      <td>Summer</td>\n",
       "      <td>Stockholm</td>\n",
       "      <td>Athletics</td>\n",
       "      <td>Athletics Men's Long Jump</td>\n",
       "      <td>Bronze</td>\n",
       "    </tr>\n",
       "  </tbody>\n",
       "</table>\n",
       "<p>657 rows × 15 columns</p>\n",
       "</div>"
      ],
      "text/plain": [
       "            ID                                       Hashed_names Sex   Age  \\\n",
       "260512  130370  a63104464f148df5e1a5bf709ce80e02c872bc73070902...   M  28.0   \n",
       "64221    32895  b043fb8173a04ff85ace003f509cac191b8760c6035946...   M  26.0   \n",
       "176688   88847  1212b1f56f10386c2b29208373b423f7e12bfb21e344b9...   F  32.0   \n",
       "48236    24860  4226d9457a21a197bf189c835a09052fc777e4faa901b3...   M  46.0   \n",
       "51236    26341  ba9b3a59b2d08a571c394a8401a27da5fbab3ec5fdd5f2...   M  31.0   \n",
       "...        ...                                                ...  ..   ...   \n",
       "171915   86383  dc16928b72302057280b407fa14560a0482dbe2e56a086...   M  28.0   \n",
       "62125    31810  a7a2ffb9a48dd68775bbbb4359f301795d527a515200b4...   M  31.0   \n",
       "61426    31461  5e5f1268accd529511ce464b5fffc4649bbf758bbeab31...   F  25.0   \n",
       "61425    31461  5e5f1268accd529511ce464b5fffc4649bbf758bbeab31...   F  25.0   \n",
       "727        416  a9d3f60fd1cd7e878f36d0bf1c82aea4b071cce2a43f04...   M  19.0   \n",
       "\n",
       "        Height  Weight    Team  NOC        Games  Year  Season  \\\n",
       "260512   178.0     NaN  Sweden  SWE  1936 Winter  1936  Winter   \n",
       "64221      NaN     NaN  Sweden  SWE  1948 Winter  1948  Winter   \n",
       "176688   159.0    55.0  Sweden  SWE  2006 Winter  2006  Winter   \n",
       "48236    185.0    95.0  Sweden  SWE  2012 Summer  2012  Summer   \n",
       "51236      NaN     NaN  Sweden  SWE  1920 Summer  1920  Summer   \n",
       "...        ...     ...     ...  ...          ...   ...     ...   \n",
       "171915     NaN     NaN  Sweden  SWE  1920 Summer  1920  Summer   \n",
       "62125      NaN     NaN  Sweden  SWE  1924 Summer  1924  Summer   \n",
       "61426      NaN     NaN  Sweden  SWE  1956 Winter  1956  Winter   \n",
       "61425      NaN     NaN  Sweden  SWE  1956 Winter  1956  Winter   \n",
       "727      181.0    78.0  Sweden  SWE  1912 Summer  1912  Summer   \n",
       "\n",
       "                          City                 Sport  \\\n",
       "260512  Garmisch-Partenkirchen  Cross Country Skiing   \n",
       "64221             Sankt Moritz  Cross Country Skiing   \n",
       "176688                  Torino              Biathlon   \n",
       "48236                   London              Shooting   \n",
       "51236                Antwerpen     Modern Pentathlon   \n",
       "...                        ...                   ...   \n",
       "171915               Antwerpen             Wrestling   \n",
       "62125                    Paris              Shooting   \n",
       "61426        Cortina d'Ampezzo  Cross Country Skiing   \n",
       "61425        Cortina d'Ampezzo  Cross Country Skiing   \n",
       "727                  Stockholm             Athletics   \n",
       "\n",
       "                                                    Event   Medal  \n",
       "260512           Cross Country Skiing Men's 50 kilometres  Silver  \n",
       "64221            Cross Country Skiing Men's 50 kilometres  Silver  \n",
       "176688             Biathlon Women's 7.5 kilometres Sprint  Silver  \n",
       "48236                          Shooting Men's Double Trap  Silver  \n",
       "51236                  Modern Pentathlon Men's Individual  Silver  \n",
       "...                                                   ...     ...  \n",
       "171915             Wrestling Men's Heavyweight, Freestyle  Bronze  \n",
       "62125    Shooting Men's Running Target, Double Shot, Team  Bronze  \n",
       "61426   Cross Country Skiing Women's 3 x 5 kilometres ...  Bronze  \n",
       "61425          Cross Country Skiing Women's 10 kilometres  Bronze  \n",
       "727                             Athletics Men's Long Jump  Bronze  \n",
       "\n",
       "[657 rows x 15 columns]"
      ]
     },
     "execution_count": 18,
     "metadata": {},
     "output_type": "execute_result"
    }
   ],
   "source": [
    "s_m_c = swedish_medal_counts(swedish_athletes)\n",
    "s_m_c"
   ]
  },
  {
   "cell_type": "code",
   "execution_count": null,
   "metadata": {},
   "outputs": [
    {
     "data": {
      "application/vnd.plotly.v1+json": {
       "config": {
        "plotlyServerURL": "https://plot.ly"
       },
       "data": [
        {
         "alignmentgroup": "True",
         "bingroup": "x",
         "hovertemplate": "Medal=%{x}<br>count=%{y}<extra></extra>",
         "legendgroup": "Silver",
         "marker": {
          "color": "silver",
          "pattern": {
           "shape": ""
          }
         },
         "name": "Silver",
         "offsetgroup": "Silver",
         "orientation": "v",
         "showlegend": true,
         "type": "histogram",
         "x": [
          "Silver",
          "Silver",
          "Silver",
          "Silver",
          "Silver",
          "Silver",
          "Silver",
          "Silver",
          "Silver",
          "Silver",
          "Silver",
          "Silver",
          "Silver",
          "Silver",
          "Silver",
          "Silver",
          "Silver",
          "Silver",
          "Silver",
          "Silver",
          "Silver",
          "Silver",
          "Silver",
          "Silver"
         ],
         "xaxis": "x",
         "yaxis": "y"
        },
        {
         "alignmentgroup": "True",
         "bingroup": "x",
         "hovertemplate": "Medal=%{x}<br>count=%{y}<extra></extra>",
         "legendgroup": "Gold",
         "marker": {
          "color": "gold",
          "pattern": {
           "shape": ""
          }
         },
         "name": "Gold",
         "offsetgroup": "Gold",
         "orientation": "v",
         "showlegend": true,
         "type": "histogram",
         "x": [
          "Gold",
          "Gold",
          "Gold",
          "Gold",
          "Gold",
          "Gold",
          "Gold",
          "Gold",
          "Gold",
          "Gold",
          "Gold",
          "Gold",
          "Gold",
          "Gold",
          "Gold",
          "Gold",
          "Gold",
          "Gold",
          "Gold",
          "Gold",
          "Gold",
          "Gold",
          "Gold",
          "Gold"
         ],
         "xaxis": "x",
         "yaxis": "y"
        },
        {
         "alignmentgroup": "True",
         "bingroup": "x",
         "hovertemplate": "Medal=%{x}<br>count=%{y}<extra></extra>",
         "legendgroup": "Bronze",
         "marker": {
          "color": "darkgoldenrod",
          "pattern": {
           "shape": ""
          }
         },
         "name": "Bronze",
         "offsetgroup": "Bronze",
         "orientation": "v",
         "showlegend": true,
         "type": "histogram",
         "x": [
          "Bronze",
          "Bronze",
          "Bronze",
          "Bronze",
          "Bronze",
          "Bronze",
          "Bronze",
          "Bronze",
          "Bronze",
          "Bronze",
          "Bronze",
          "Bronze",
          "Bronze",
          "Bronze",
          "Bronze",
          "Bronze",
          "Bronze"
         ],
         "xaxis": "x",
         "yaxis": "y"
        }
       ],
       "layout": {
        "bargap": 0.2,
        "barmode": "relative",
        "legend": {
         "title": {
          "text": "Medal"
         },
         "tracegroupgap": 0
        },
        "margin": {
         "t": 60
        },
        "showlegend": false,
        "template": {
         "data": {
          "bar": [
           {
            "error_x": {
             "color": "#2a3f5f"
            },
            "error_y": {
             "color": "#2a3f5f"
            },
            "marker": {
             "line": {
              "color": "#E5ECF6",
              "width": 0.5
             },
             "pattern": {
              "fillmode": "overlay",
              "size": 10,
              "solidity": 0.2
             }
            },
            "type": "bar"
           }
          ],
          "barpolar": [
           {
            "marker": {
             "line": {
              "color": "#E5ECF6",
              "width": 0.5
             },
             "pattern": {
              "fillmode": "overlay",
              "size": 10,
              "solidity": 0.2
             }
            },
            "type": "barpolar"
           }
          ],
          "carpet": [
           {
            "aaxis": {
             "endlinecolor": "#2a3f5f",
             "gridcolor": "white",
             "linecolor": "white",
             "minorgridcolor": "white",
             "startlinecolor": "#2a3f5f"
            },
            "baxis": {
             "endlinecolor": "#2a3f5f",
             "gridcolor": "white",
             "linecolor": "white",
             "minorgridcolor": "white",
             "startlinecolor": "#2a3f5f"
            },
            "type": "carpet"
           }
          ],
          "choropleth": [
           {
            "colorbar": {
             "outlinewidth": 0,
             "ticks": ""
            },
            "type": "choropleth"
           }
          ],
          "contour": [
           {
            "colorbar": {
             "outlinewidth": 0,
             "ticks": ""
            },
            "colorscale": [
             [
              0,
              "#0d0887"
             ],
             [
              0.1111111111111111,
              "#46039f"
             ],
             [
              0.2222222222222222,
              "#7201a8"
             ],
             [
              0.3333333333333333,
              "#9c179e"
             ],
             [
              0.4444444444444444,
              "#bd3786"
             ],
             [
              0.5555555555555556,
              "#d8576b"
             ],
             [
              0.6666666666666666,
              "#ed7953"
             ],
             [
              0.7777777777777778,
              "#fb9f3a"
             ],
             [
              0.8888888888888888,
              "#fdca26"
             ],
             [
              1,
              "#f0f921"
             ]
            ],
            "type": "contour"
           }
          ],
          "contourcarpet": [
           {
            "colorbar": {
             "outlinewidth": 0,
             "ticks": ""
            },
            "type": "contourcarpet"
           }
          ],
          "heatmap": [
           {
            "colorbar": {
             "outlinewidth": 0,
             "ticks": ""
            },
            "colorscale": [
             [
              0,
              "#0d0887"
             ],
             [
              0.1111111111111111,
              "#46039f"
             ],
             [
              0.2222222222222222,
              "#7201a8"
             ],
             [
              0.3333333333333333,
              "#9c179e"
             ],
             [
              0.4444444444444444,
              "#bd3786"
             ],
             [
              0.5555555555555556,
              "#d8576b"
             ],
             [
              0.6666666666666666,
              "#ed7953"
             ],
             [
              0.7777777777777778,
              "#fb9f3a"
             ],
             [
              0.8888888888888888,
              "#fdca26"
             ],
             [
              1,
              "#f0f921"
             ]
            ],
            "type": "heatmap"
           }
          ],
          "heatmapgl": [
           {
            "colorbar": {
             "outlinewidth": 0,
             "ticks": ""
            },
            "colorscale": [
             [
              0,
              "#0d0887"
             ],
             [
              0.1111111111111111,
              "#46039f"
             ],
             [
              0.2222222222222222,
              "#7201a8"
             ],
             [
              0.3333333333333333,
              "#9c179e"
             ],
             [
              0.4444444444444444,
              "#bd3786"
             ],
             [
              0.5555555555555556,
              "#d8576b"
             ],
             [
              0.6666666666666666,
              "#ed7953"
             ],
             [
              0.7777777777777778,
              "#fb9f3a"
             ],
             [
              0.8888888888888888,
              "#fdca26"
             ],
             [
              1,
              "#f0f921"
             ]
            ],
            "type": "heatmapgl"
           }
          ],
          "histogram": [
           {
            "marker": {
             "pattern": {
              "fillmode": "overlay",
              "size": 10,
              "solidity": 0.2
             }
            },
            "type": "histogram"
           }
          ],
          "histogram2d": [
           {
            "colorbar": {
             "outlinewidth": 0,
             "ticks": ""
            },
            "colorscale": [
             [
              0,
              "#0d0887"
             ],
             [
              0.1111111111111111,
              "#46039f"
             ],
             [
              0.2222222222222222,
              "#7201a8"
             ],
             [
              0.3333333333333333,
              "#9c179e"
             ],
             [
              0.4444444444444444,
              "#bd3786"
             ],
             [
              0.5555555555555556,
              "#d8576b"
             ],
             [
              0.6666666666666666,
              "#ed7953"
             ],
             [
              0.7777777777777778,
              "#fb9f3a"
             ],
             [
              0.8888888888888888,
              "#fdca26"
             ],
             [
              1,
              "#f0f921"
             ]
            ],
            "type": "histogram2d"
           }
          ],
          "histogram2dcontour": [
           {
            "colorbar": {
             "outlinewidth": 0,
             "ticks": ""
            },
            "colorscale": [
             [
              0,
              "#0d0887"
             ],
             [
              0.1111111111111111,
              "#46039f"
             ],
             [
              0.2222222222222222,
              "#7201a8"
             ],
             [
              0.3333333333333333,
              "#9c179e"
             ],
             [
              0.4444444444444444,
              "#bd3786"
             ],
             [
              0.5555555555555556,
              "#d8576b"
             ],
             [
              0.6666666666666666,
              "#ed7953"
             ],
             [
              0.7777777777777778,
              "#fb9f3a"
             ],
             [
              0.8888888888888888,
              "#fdca26"
             ],
             [
              1,
              "#f0f921"
             ]
            ],
            "type": "histogram2dcontour"
           }
          ],
          "mesh3d": [
           {
            "colorbar": {
             "outlinewidth": 0,
             "ticks": ""
            },
            "type": "mesh3d"
           }
          ],
          "parcoords": [
           {
            "line": {
             "colorbar": {
              "outlinewidth": 0,
              "ticks": ""
             }
            },
            "type": "parcoords"
           }
          ],
          "pie": [
           {
            "automargin": true,
            "type": "pie"
           }
          ],
          "scatter": [
           {
            "marker": {
             "colorbar": {
              "outlinewidth": 0,
              "ticks": ""
             }
            },
            "type": "scatter"
           }
          ],
          "scatter3d": [
           {
            "line": {
             "colorbar": {
              "outlinewidth": 0,
              "ticks": ""
             }
            },
            "marker": {
             "colorbar": {
              "outlinewidth": 0,
              "ticks": ""
             }
            },
            "type": "scatter3d"
           }
          ],
          "scattercarpet": [
           {
            "marker": {
             "colorbar": {
              "outlinewidth": 0,
              "ticks": ""
             }
            },
            "type": "scattercarpet"
           }
          ],
          "scattergeo": [
           {
            "marker": {
             "colorbar": {
              "outlinewidth": 0,
              "ticks": ""
             }
            },
            "type": "scattergeo"
           }
          ],
          "scattergl": [
           {
            "marker": {
             "colorbar": {
              "outlinewidth": 0,
              "ticks": ""
             }
            },
            "type": "scattergl"
           }
          ],
          "scattermapbox": [
           {
            "marker": {
             "colorbar": {
              "outlinewidth": 0,
              "ticks": ""
             }
            },
            "type": "scattermapbox"
           }
          ],
          "scatterpolar": [
           {
            "marker": {
             "colorbar": {
              "outlinewidth": 0,
              "ticks": ""
             }
            },
            "type": "scatterpolar"
           }
          ],
          "scatterpolargl": [
           {
            "marker": {
             "colorbar": {
              "outlinewidth": 0,
              "ticks": ""
             }
            },
            "type": "scatterpolargl"
           }
          ],
          "scatterternary": [
           {
            "marker": {
             "colorbar": {
              "outlinewidth": 0,
              "ticks": ""
             }
            },
            "type": "scatterternary"
           }
          ],
          "surface": [
           {
            "colorbar": {
             "outlinewidth": 0,
             "ticks": ""
            },
            "colorscale": [
             [
              0,
              "#0d0887"
             ],
             [
              0.1111111111111111,
              "#46039f"
             ],
             [
              0.2222222222222222,
              "#7201a8"
             ],
             [
              0.3333333333333333,
              "#9c179e"
             ],
             [
              0.4444444444444444,
              "#bd3786"
             ],
             [
              0.5555555555555556,
              "#d8576b"
             ],
             [
              0.6666666666666666,
              "#ed7953"
             ],
             [
              0.7777777777777778,
              "#fb9f3a"
             ],
             [
              0.8888888888888888,
              "#fdca26"
             ],
             [
              1,
              "#f0f921"
             ]
            ],
            "type": "surface"
           }
          ],
          "table": [
           {
            "cells": {
             "fill": {
              "color": "#EBF0F8"
             },
             "line": {
              "color": "white"
             }
            },
            "header": {
             "fill": {
              "color": "#C8D4E3"
             },
             "line": {
              "color": "white"
             }
            },
            "type": "table"
           }
          ]
         },
         "layout": {
          "annotationdefaults": {
           "arrowcolor": "#2a3f5f",
           "arrowhead": 0,
           "arrowwidth": 1
          },
          "autotypenumbers": "strict",
          "coloraxis": {
           "colorbar": {
            "outlinewidth": 0,
            "ticks": ""
           }
          },
          "colorscale": {
           "diverging": [
            [
             0,
             "#8e0152"
            ],
            [
             0.1,
             "#c51b7d"
            ],
            [
             0.2,
             "#de77ae"
            ],
            [
             0.3,
             "#f1b6da"
            ],
            [
             0.4,
             "#fde0ef"
            ],
            [
             0.5,
             "#f7f7f7"
            ],
            [
             0.6,
             "#e6f5d0"
            ],
            [
             0.7,
             "#b8e186"
            ],
            [
             0.8,
             "#7fbc41"
            ],
            [
             0.9,
             "#4d9221"
            ],
            [
             1,
             "#276419"
            ]
           ],
           "sequential": [
            [
             0,
             "#0d0887"
            ],
            [
             0.1111111111111111,
             "#46039f"
            ],
            [
             0.2222222222222222,
             "#7201a8"
            ],
            [
             0.3333333333333333,
             "#9c179e"
            ],
            [
             0.4444444444444444,
             "#bd3786"
            ],
            [
             0.5555555555555556,
             "#d8576b"
            ],
            [
             0.6666666666666666,
             "#ed7953"
            ],
            [
             0.7777777777777778,
             "#fb9f3a"
            ],
            [
             0.8888888888888888,
             "#fdca26"
            ],
            [
             1,
             "#f0f921"
            ]
           ],
           "sequentialminus": [
            [
             0,
             "#0d0887"
            ],
            [
             0.1111111111111111,
             "#46039f"
            ],
            [
             0.2222222222222222,
             "#7201a8"
            ],
            [
             0.3333333333333333,
             "#9c179e"
            ],
            [
             0.4444444444444444,
             "#bd3786"
            ],
            [
             0.5555555555555556,
             "#d8576b"
            ],
            [
             0.6666666666666666,
             "#ed7953"
            ],
            [
             0.7777777777777778,
             "#fb9f3a"
            ],
            [
             0.8888888888888888,
             "#fdca26"
            ],
            [
             1,
             "#f0f921"
            ]
           ]
          },
          "colorway": [
           "#636efa",
           "#EF553B",
           "#00cc96",
           "#ab63fa",
           "#FFA15A",
           "#19d3f3",
           "#FF6692",
           "#B6E880",
           "#FF97FF",
           "#FECB52"
          ],
          "font": {
           "color": "#2a3f5f"
          },
          "geo": {
           "bgcolor": "white",
           "lakecolor": "white",
           "landcolor": "#E5ECF6",
           "showlakes": true,
           "showland": true,
           "subunitcolor": "white"
          },
          "hoverlabel": {
           "align": "left"
          },
          "hovermode": "closest",
          "mapbox": {
           "style": "light"
          },
          "paper_bgcolor": "white",
          "plot_bgcolor": "#E5ECF6",
          "polar": {
           "angularaxis": {
            "gridcolor": "white",
            "linecolor": "white",
            "ticks": ""
           },
           "bgcolor": "#E5ECF6",
           "radialaxis": {
            "gridcolor": "white",
            "linecolor": "white",
            "ticks": ""
           }
          },
          "scene": {
           "xaxis": {
            "backgroundcolor": "#E5ECF6",
            "gridcolor": "white",
            "gridwidth": 2,
            "linecolor": "white",
            "showbackground": true,
            "ticks": "",
            "zerolinecolor": "white"
           },
           "yaxis": {
            "backgroundcolor": "#E5ECF6",
            "gridcolor": "white",
            "gridwidth": 2,
            "linecolor": "white",
            "showbackground": true,
            "ticks": "",
            "zerolinecolor": "white"
           },
           "zaxis": {
            "backgroundcolor": "#E5ECF6",
            "gridcolor": "white",
            "gridwidth": 2,
            "linecolor": "white",
            "showbackground": true,
            "ticks": "",
            "zerolinecolor": "white"
           }
          },
          "shapedefaults": {
           "line": {
            "color": "#2a3f5f"
           }
          },
          "ternary": {
           "aaxis": {
            "gridcolor": "white",
            "linecolor": "white",
            "ticks": ""
           },
           "baxis": {
            "gridcolor": "white",
            "linecolor": "white",
            "ticks": ""
           },
           "bgcolor": "#E5ECF6",
           "caxis": {
            "gridcolor": "white",
            "linecolor": "white",
            "ticks": ""
           }
          },
          "title": {
           "x": 0.05
          },
          "xaxis": {
           "automargin": true,
           "gridcolor": "white",
           "linecolor": "white",
           "ticks": "",
           "title": {
            "standoff": 15
           },
           "zerolinecolor": "white",
           "zerolinewidth": 2
          },
          "yaxis": {
           "automargin": true,
           "gridcolor": "white",
           "linecolor": "white",
           "ticks": "",
           "title": {
            "standoff": 15
           },
           "zerolinecolor": "white",
           "zerolinewidth": 2
          }
         }
        },
        "title": {
         "text": "Medals 1912",
         "x": 0.5
        },
        "xaxis": {
         "anchor": "y",
         "categoryarray": [
          "Silver",
          "Gold",
          "Bronze"
         ],
         "categoryorder": "array",
         "domain": [
          0,
          1
         ],
         "title": {
          "text": ""
         }
        },
        "yaxis": {
         "anchor": "x",
         "domain": [
          0,
          1
         ],
         "title": {
          "text": ""
         }
        }
       }
      }
     },
     "metadata": {},
     "output_type": "display_data"
    }
   ],
   "source": [
    "# Chose year\n",
    "year = 1912\n",
    "\n",
    "swedish_medals_barplot(s_m_c, year)"
   ]
  },
  {
   "cell_type": "markdown",
   "metadata": {},
   "source": [
    "### d) Age histogram\n"
   ]
  },
  {
   "cell_type": "code",
   "execution_count": 43,
   "metadata": {},
   "outputs": [
    {
     "data": {
      "text/plain": [
       "Text(0.5, 1.0, 'Age histogram')"
      ]
     },
     "execution_count": 43,
     "metadata": {},
     "output_type": "execute_result"
    },
    {
     "data": {
      "image/png": "[encoded data removed]",
      "text/plain": [
       "<Figure size 720x288 with 1 Axes>"
      ]
     },
     "metadata": {},
     "output_type": "display_data"
    }
   ],
   "source": [
    "sns.set(rc={\"figure.figsize\":(10, 4)})\n",
    "sns.histplot(swedish_athletes, x='Age', binwidth=1, binrange=(13, 72)).set_title('Age histogram')"
   ]
  },
  {
   "cell_type": "markdown",
   "metadata": {},
   "source": [
    "### e) Youngest and oldest"
   ]
  },
  {
   "cell_type": "code",
   "execution_count": 42,
   "metadata": {},
   "outputs": [
    {
     "name": "stdout",
     "output_type": "stream",
     "text": [
      "Youngest medal winner was 13 year old. \n",
      "Oldest medal winner was 72 year old.\n"
     ]
    }
   ],
   "source": [
    "print(f\"Youngest competitor was {swedish_athletes['Age'].min():.0f} year old. \\nOldest competitor was {swedish_athletes['Age'].max():.0f} year old.\")"
   ]
  },
  {
   "cell_type": "code",
   "execution_count": 57,
   "metadata": {},
   "outputs": [
    {
     "data": {
      "text/html": [
       "<div>\n",
       "<style scoped>\n",
       "    .dataframe tbody tr th:only-of-type {\n",
       "        vertical-align: middle;\n",
       "    }\n",
       "\n",
       "    .dataframe tbody tr th {\n",
       "        vertical-align: top;\n",
       "    }\n",
       "\n",
       "    .dataframe thead th {\n",
       "        text-align: right;\n",
       "    }\n",
       "</style>\n",
       "<table border=\"1\" class=\"dataframe\">\n",
       "  <thead>\n",
       "    <tr style=\"text-align: right;\">\n",
       "      <th></th>\n",
       "      <th>ID</th>\n",
       "      <th>Hashed_names</th>\n",
       "      <th>Sex</th>\n",
       "      <th>Age</th>\n",
       "      <th>Height</th>\n",
       "      <th>Weight</th>\n",
       "      <th>Team</th>\n",
       "      <th>NOC</th>\n",
       "      <th>Games</th>\n",
       "      <th>Year</th>\n",
       "      <th>Season</th>\n",
       "      <th>City</th>\n",
       "      <th>Sport</th>\n",
       "      <th>Event</th>\n",
       "      <th>Medal</th>\n",
       "    </tr>\n",
       "  </thead>\n",
       "  <tbody>\n",
       "    <tr>\n",
       "      <th>222373</th>\n",
       "      <td>111715</td>\n",
       "      <td>78dcdf1157373977d3a475e0e6916915960188c807ec4e...</td>\n",
       "      <td>M</td>\n",
       "      <td>13.0</td>\n",
       "      <td>NaN</td>\n",
       "      <td>NaN</td>\n",
       "      <td>Sweden</td>\n",
       "      <td>SWE</td>\n",
       "      <td>1920 Summer</td>\n",
       "      <td>1920</td>\n",
       "      <td>Summer</td>\n",
       "      <td>Antwerpen</td>\n",
       "      <td>Diving</td>\n",
       "      <td>Diving Men's Plain High</td>\n",
       "      <td>Silver</td>\n",
       "    </tr>\n",
       "    <tr>\n",
       "      <th>35634</th>\n",
       "      <td>18328</td>\n",
       "      <td>b443cf57d91db3172beebed56bccd1b3b66bdaef6cadac...</td>\n",
       "      <td>F</td>\n",
       "      <td>13.0</td>\n",
       "      <td>NaN</td>\n",
       "      <td>NaN</td>\n",
       "      <td>Sweden</td>\n",
       "      <td>SWE</td>\n",
       "      <td>1912 Summer</td>\n",
       "      <td>1912</td>\n",
       "      <td>Summer</td>\n",
       "      <td>Stockholm</td>\n",
       "      <td>Swimming</td>\n",
       "      <td>Swimming Women's 4 x 100 metres Freestyle Relay</td>\n",
       "      <td>NaN</td>\n",
       "    </tr>\n",
       "    <tr>\n",
       "      <th>35633</th>\n",
       "      <td>18328</td>\n",
       "      <td>b443cf57d91db3172beebed56bccd1b3b66bdaef6cadac...</td>\n",
       "      <td>F</td>\n",
       "      <td>13.0</td>\n",
       "      <td>NaN</td>\n",
       "      <td>NaN</td>\n",
       "      <td>Sweden</td>\n",
       "      <td>SWE</td>\n",
       "      <td>1912 Summer</td>\n",
       "      <td>1912</td>\n",
       "      <td>Summer</td>\n",
       "      <td>Stockholm</td>\n",
       "      <td>Swimming</td>\n",
       "      <td>Swimming Women's 100 metres Freestyle</td>\n",
       "      <td>NaN</td>\n",
       "    </tr>\n",
       "    <tr>\n",
       "      <th>221941</th>\n",
       "      <td>111543</td>\n",
       "      <td>f4b16072858a1425fe889046104c4d42d09660f3640a29...</td>\n",
       "      <td>F</td>\n",
       "      <td>14.0</td>\n",
       "      <td>182.0</td>\n",
       "      <td>76.0</td>\n",
       "      <td>Sweden</td>\n",
       "      <td>SWE</td>\n",
       "      <td>2008 Summer</td>\n",
       "      <td>2008</td>\n",
       "      <td>Summer</td>\n",
       "      <td>Beijing</td>\n",
       "      <td>Swimming</td>\n",
       "      <td>Swimming Women's 4 x 100 metres Medley Relay</td>\n",
       "      <td>NaN</td>\n",
       "    </tr>\n",
       "    <tr>\n",
       "      <th>221939</th>\n",
       "      <td>111543</td>\n",
       "      <td>f4b16072858a1425fe889046104c4d42d09660f3640a29...</td>\n",
       "      <td>F</td>\n",
       "      <td>14.0</td>\n",
       "      <td>182.0</td>\n",
       "      <td>76.0</td>\n",
       "      <td>Sweden</td>\n",
       "      <td>SWE</td>\n",
       "      <td>2008 Summer</td>\n",
       "      <td>2008</td>\n",
       "      <td>Summer</td>\n",
       "      <td>Beijing</td>\n",
       "      <td>Swimming</td>\n",
       "      <td>Swimming Women's 100 metres Backstroke</td>\n",
       "      <td>NaN</td>\n",
       "    </tr>\n",
       "    <tr>\n",
       "      <th>176926</th>\n",
       "      <td>88956</td>\n",
       "      <td>081b461e6ee4f958bb41adb4da0c4686c31e301bd24809...</td>\n",
       "      <td>F</td>\n",
       "      <td>14.0</td>\n",
       "      <td>171.0</td>\n",
       "      <td>59.0</td>\n",
       "      <td>Sweden</td>\n",
       "      <td>SWE</td>\n",
       "      <td>1972 Summer</td>\n",
       "      <td>1972</td>\n",
       "      <td>Summer</td>\n",
       "      <td>Munich</td>\n",
       "      <td>Swimming</td>\n",
       "      <td>Swimming Women's 4 x 100 metres Medley Relay</td>\n",
       "      <td>NaN</td>\n",
       "    </tr>\n",
       "    <tr>\n",
       "      <th>7064</th>\n",
       "      <td>3953</td>\n",
       "      <td>e6ba30f9dc39c5fb30daea8f7c4d768dd6a809ab7549b0...</td>\n",
       "      <td>F</td>\n",
       "      <td>14.0</td>\n",
       "      <td>167.0</td>\n",
       "      <td>53.0</td>\n",
       "      <td>Sweden</td>\n",
       "      <td>SWE</td>\n",
       "      <td>1964 Summer</td>\n",
       "      <td>1964</td>\n",
       "      <td>Summer</td>\n",
       "      <td>Tokyo</td>\n",
       "      <td>Swimming</td>\n",
       "      <td>Swimming Women's 4 x 100 metres Freestyle Relay</td>\n",
       "      <td>NaN</td>\n",
       "    </tr>\n",
       "    <tr>\n",
       "      <th>176924</th>\n",
       "      <td>88956</td>\n",
       "      <td>081b461e6ee4f958bb41adb4da0c4686c31e301bd24809...</td>\n",
       "      <td>F</td>\n",
       "      <td>14.0</td>\n",
       "      <td>171.0</td>\n",
       "      <td>59.0</td>\n",
       "      <td>Sweden</td>\n",
       "      <td>SWE</td>\n",
       "      <td>1972 Summer</td>\n",
       "      <td>1972</td>\n",
       "      <td>Summer</td>\n",
       "      <td>Munich</td>\n",
       "      <td>Swimming</td>\n",
       "      <td>Swimming Women's 4 x 100 metres Freestyle Relay</td>\n",
       "      <td>NaN</td>\n",
       "    </tr>\n",
       "    <tr>\n",
       "      <th>221940</th>\n",
       "      <td>111543</td>\n",
       "      <td>f4b16072858a1425fe889046104c4d42d09660f3640a29...</td>\n",
       "      <td>F</td>\n",
       "      <td>14.0</td>\n",
       "      <td>182.0</td>\n",
       "      <td>76.0</td>\n",
       "      <td>Sweden</td>\n",
       "      <td>SWE</td>\n",
       "      <td>2008 Summer</td>\n",
       "      <td>2008</td>\n",
       "      <td>Summer</td>\n",
       "      <td>Beijing</td>\n",
       "      <td>Swimming</td>\n",
       "      <td>Swimming Women's 100 metres Butterfly</td>\n",
       "      <td>NaN</td>\n",
       "    </tr>\n",
       "    <tr>\n",
       "      <th>176925</th>\n",
       "      <td>88956</td>\n",
       "      <td>081b461e6ee4f958bb41adb4da0c4686c31e301bd24809...</td>\n",
       "      <td>F</td>\n",
       "      <td>14.0</td>\n",
       "      <td>171.0</td>\n",
       "      <td>59.0</td>\n",
       "      <td>Sweden</td>\n",
       "      <td>SWE</td>\n",
       "      <td>1972 Summer</td>\n",
       "      <td>1972</td>\n",
       "      <td>Summer</td>\n",
       "      <td>Munich</td>\n",
       "      <td>Swimming</td>\n",
       "      <td>Swimming Women's 100 metres Backstroke</td>\n",
       "      <td>NaN</td>\n",
       "    </tr>\n",
       "  </tbody>\n",
       "</table>\n",
       "</div>"
      ],
      "text/plain": [
       "            ID                                       Hashed_names Sex   Age  \\\n",
       "222373  111715  78dcdf1157373977d3a475e0e6916915960188c807ec4e...   M  13.0   \n",
       "35634    18328  b443cf57d91db3172beebed56bccd1b3b66bdaef6cadac...   F  13.0   \n",
       "35633    18328  b443cf57d91db3172beebed56bccd1b3b66bdaef6cadac...   F  13.0   \n",
       "221941  111543  f4b16072858a1425fe889046104c4d42d09660f3640a29...   F  14.0   \n",
       "221939  111543  f4b16072858a1425fe889046104c4d42d09660f3640a29...   F  14.0   \n",
       "176926   88956  081b461e6ee4f958bb41adb4da0c4686c31e301bd24809...   F  14.0   \n",
       "7064      3953  e6ba30f9dc39c5fb30daea8f7c4d768dd6a809ab7549b0...   F  14.0   \n",
       "176924   88956  081b461e6ee4f958bb41adb4da0c4686c31e301bd24809...   F  14.0   \n",
       "221940  111543  f4b16072858a1425fe889046104c4d42d09660f3640a29...   F  14.0   \n",
       "176925   88956  081b461e6ee4f958bb41adb4da0c4686c31e301bd24809...   F  14.0   \n",
       "\n",
       "        Height  Weight    Team  NOC        Games  Year  Season       City  \\\n",
       "222373     NaN     NaN  Sweden  SWE  1920 Summer  1920  Summer  Antwerpen   \n",
       "35634      NaN     NaN  Sweden  SWE  1912 Summer  1912  Summer  Stockholm   \n",
       "35633      NaN     NaN  Sweden  SWE  1912 Summer  1912  Summer  Stockholm   \n",
       "221941   182.0    76.0  Sweden  SWE  2008 Summer  2008  Summer    Beijing   \n",
       "221939   182.0    76.0  Sweden  SWE  2008 Summer  2008  Summer    Beijing   \n",
       "176926   171.0    59.0  Sweden  SWE  1972 Summer  1972  Summer     Munich   \n",
       "7064     167.0    53.0  Sweden  SWE  1964 Summer  1964  Summer      Tokyo   \n",
       "176924   171.0    59.0  Sweden  SWE  1972 Summer  1972  Summer     Munich   \n",
       "221940   182.0    76.0  Sweden  SWE  2008 Summer  2008  Summer    Beijing   \n",
       "176925   171.0    59.0  Sweden  SWE  1972 Summer  1972  Summer     Munich   \n",
       "\n",
       "           Sport                                            Event   Medal  \n",
       "222373    Diving                          Diving Men's Plain High  Silver  \n",
       "35634   Swimming  Swimming Women's 4 x 100 metres Freestyle Relay     NaN  \n",
       "35633   Swimming            Swimming Women's 100 metres Freestyle     NaN  \n",
       "221941  Swimming     Swimming Women's 4 x 100 metres Medley Relay     NaN  \n",
       "221939  Swimming           Swimming Women's 100 metres Backstroke     NaN  \n",
       "176926  Swimming     Swimming Women's 4 x 100 metres Medley Relay     NaN  \n",
       "7064    Swimming  Swimming Women's 4 x 100 metres Freestyle Relay     NaN  \n",
       "176924  Swimming  Swimming Women's 4 x 100 metres Freestyle Relay     NaN  \n",
       "221940  Swimming            Swimming Women's 100 metres Butterfly     NaN  \n",
       "176925  Swimming           Swimming Women's 100 metres Backstroke     NaN  "
      ]
     },
     "execution_count": 57,
     "metadata": {},
     "output_type": "execute_result"
    }
   ],
   "source": [
    "# Youngest competitors\n",
    "swedish_athletes.sort_values('Age', ascending=True).head(10)"
   ]
  },
  {
   "cell_type": "code",
   "execution_count": 54,
   "metadata": {},
   "outputs": [
    {
     "name": "stdout",
     "output_type": "stream",
     "text": [
      "The youngest medal winner Greta Ingeborg Carlsson (-Nygren).\n"
     ]
    }
   ],
   "source": [
    "print(f\"The youngest medal winner {athlete_events[(athlete_events['ID'] == 18328)]['Name'].unique()[0]}.\")"
   ]
  },
  {
   "cell_type": "code",
   "execution_count": null,
   "metadata": {},
   "outputs": [
    {
     "data": {
      "text/html": [
       "<div>\n",
       "<style scoped>\n",
       "    .dataframe tbody tr th:only-of-type {\n",
       "        vertical-align: middle;\n",
       "    }\n",
       "\n",
       "    .dataframe tbody tr th {\n",
       "        vertical-align: top;\n",
       "    }\n",
       "\n",
       "    .dataframe thead th {\n",
       "        text-align: right;\n",
       "    }\n",
       "</style>\n",
       "<table border=\"1\" class=\"dataframe\">\n",
       "  <thead>\n",
       "    <tr style=\"text-align: right;\">\n",
       "      <th></th>\n",
       "      <th>ID</th>\n",
       "      <th>Hashed_names</th>\n",
       "      <th>Sex</th>\n",
       "      <th>Age</th>\n",
       "      <th>Height</th>\n",
       "      <th>Weight</th>\n",
       "      <th>Team</th>\n",
       "      <th>NOC</th>\n",
       "      <th>Games</th>\n",
       "      <th>Year</th>\n",
       "      <th>Season</th>\n",
       "      <th>City</th>\n",
       "      <th>Sport</th>\n",
       "      <th>Event</th>\n",
       "      <th>Medal</th>\n",
       "    </tr>\n",
       "  </thead>\n",
       "  <tbody>\n",
       "    <tr>\n",
       "      <th>139075</th>\n",
       "      <td>69867</td>\n",
       "      <td>293908b78df5bf2c6a16a3ffa975895c0bcfb40594ed06...</td>\n",
       "      <td>M</td>\n",
       "      <td>72.0</td>\n",
       "      <td>NaN</td>\n",
       "      <td>NaN</td>\n",
       "      <td>Sweden</td>\n",
       "      <td>SWE</td>\n",
       "      <td>1932 Summer</td>\n",
       "      <td>1932</td>\n",
       "      <td>Summer</td>\n",
       "      <td>Los Angeles</td>\n",
       "      <td>Art Competitions</td>\n",
       "      <td>Art Competitions Mixed Painting, Unknown Event</td>\n",
       "      <td>NaN</td>\n",
       "    </tr>\n",
       "    <tr>\n",
       "      <th>233394</th>\n",
       "      <td>117046</td>\n",
       "      <td>fc37dfab6634efbbc2fc0f8d1e247d0c6c4135b4199424...</td>\n",
       "      <td>M</td>\n",
       "      <td>72.0</td>\n",
       "      <td>NaN</td>\n",
       "      <td>NaN</td>\n",
       "      <td>Sweden</td>\n",
       "      <td>SWE</td>\n",
       "      <td>1920 Summer</td>\n",
       "      <td>1920</td>\n",
       "      <td>Summer</td>\n",
       "      <td>Antwerpen</td>\n",
       "      <td>Shooting</td>\n",
       "      <td>Shooting Men's Running Target, Single Shot, Team</td>\n",
       "      <td>NaN</td>\n",
       "    </tr>\n",
       "    <tr>\n",
       "      <th>233395</th>\n",
       "      <td>117046</td>\n",
       "      <td>fc37dfab6634efbbc2fc0f8d1e247d0c6c4135b4199424...</td>\n",
       "      <td>M</td>\n",
       "      <td>72.0</td>\n",
       "      <td>NaN</td>\n",
       "      <td>NaN</td>\n",
       "      <td>Sweden</td>\n",
       "      <td>SWE</td>\n",
       "      <td>1920 Summer</td>\n",
       "      <td>1920</td>\n",
       "      <td>Summer</td>\n",
       "      <td>Antwerpen</td>\n",
       "      <td>Shooting</td>\n",
       "      <td>Shooting Men's Running Target, Double Shot, Team</td>\n",
       "      <td>Silver</td>\n",
       "    </tr>\n",
       "    <tr>\n",
       "      <th>233393</th>\n",
       "      <td>117046</td>\n",
       "      <td>fc37dfab6634efbbc2fc0f8d1e247d0c6c4135b4199424...</td>\n",
       "      <td>M</td>\n",
       "      <td>72.0</td>\n",
       "      <td>NaN</td>\n",
       "      <td>NaN</td>\n",
       "      <td>Sweden</td>\n",
       "      <td>SWE</td>\n",
       "      <td>1920 Summer</td>\n",
       "      <td>1920</td>\n",
       "      <td>Summer</td>\n",
       "      <td>Antwerpen</td>\n",
       "      <td>Shooting</td>\n",
       "      <td>Shooting Men's Running Target, Single Shot</td>\n",
       "      <td>NaN</td>\n",
       "    </tr>\n",
       "    <tr>\n",
       "      <th>2392</th>\n",
       "      <td>1337</td>\n",
       "      <td>b9cb33f1af99da5c7e9a77ef3be518c6b80c7065a289c2...</td>\n",
       "      <td>M</td>\n",
       "      <td>71.0</td>\n",
       "      <td>NaN</td>\n",
       "      <td>NaN</td>\n",
       "      <td>Sweden</td>\n",
       "      <td>SWE</td>\n",
       "      <td>1948 Summer</td>\n",
       "      <td>1948</td>\n",
       "      <td>Summer</td>\n",
       "      <td>London</td>\n",
       "      <td>Art Competitions</td>\n",
       "      <td>Art Competitions Mixed Painting, Unknown Event</td>\n",
       "      <td>NaN</td>\n",
       "    </tr>\n",
       "    <tr>\n",
       "      <th>214490</th>\n",
       "      <td>107675</td>\n",
       "      <td>960dada9fa6d5683d2d6fe7ab9e9fdb52584e473d7deed...</td>\n",
       "      <td>M</td>\n",
       "      <td>69.0</td>\n",
       "      <td>NaN</td>\n",
       "      <td>NaN</td>\n",
       "      <td>Sweden</td>\n",
       "      <td>SWE</td>\n",
       "      <td>1932 Summer</td>\n",
       "      <td>1932</td>\n",
       "      <td>Summer</td>\n",
       "      <td>Los Angeles</td>\n",
       "      <td>Art Competitions</td>\n",
       "      <td>Art Competitions Mixed Painting, Unknown Event</td>\n",
       "      <td>NaN</td>\n",
       "    </tr>\n",
       "    <tr>\n",
       "      <th>214491</th>\n",
       "      <td>107675</td>\n",
       "      <td>960dada9fa6d5683d2d6fe7ab9e9fdb52584e473d7deed...</td>\n",
       "      <td>M</td>\n",
       "      <td>69.0</td>\n",
       "      <td>NaN</td>\n",
       "      <td>NaN</td>\n",
       "      <td>Sweden</td>\n",
       "      <td>SWE</td>\n",
       "      <td>1932 Summer</td>\n",
       "      <td>1932</td>\n",
       "      <td>Summer</td>\n",
       "      <td>Los Angeles</td>\n",
       "      <td>Art Competitions</td>\n",
       "      <td>Art Competitions Mixed Painting, Unknown Event</td>\n",
       "      <td>NaN</td>\n",
       "    </tr>\n",
       "    <tr>\n",
       "      <th>21364</th>\n",
       "      <td>11270</td>\n",
       "      <td>746d55faf4ee152ed70f9d83f49d157aa05883dff99e52...</td>\n",
       "      <td>F</td>\n",
       "      <td>68.0</td>\n",
       "      <td>NaN</td>\n",
       "      <td>NaN</td>\n",
       "      <td>Sweden</td>\n",
       "      <td>SWE</td>\n",
       "      <td>1936 Summer</td>\n",
       "      <td>1936</td>\n",
       "      <td>Summer</td>\n",
       "      <td>Berlin</td>\n",
       "      <td>Art Competitions</td>\n",
       "      <td>Art Competitions Mixed Painting, Paintings</td>\n",
       "      <td>NaN</td>\n",
       "    </tr>\n",
       "    <tr>\n",
       "      <th>21363</th>\n",
       "      <td>11270</td>\n",
       "      <td>746d55faf4ee152ed70f9d83f49d157aa05883dff99e52...</td>\n",
       "      <td>F</td>\n",
       "      <td>68.0</td>\n",
       "      <td>NaN</td>\n",
       "      <td>NaN</td>\n",
       "      <td>Sweden</td>\n",
       "      <td>SWE</td>\n",
       "      <td>1936 Summer</td>\n",
       "      <td>1936</td>\n",
       "      <td>Summer</td>\n",
       "      <td>Berlin</td>\n",
       "      <td>Art Competitions</td>\n",
       "      <td>Art Competitions Mixed Painting, Paintings</td>\n",
       "      <td>NaN</td>\n",
       "    </tr>\n",
       "    <tr>\n",
       "      <th>21362</th>\n",
       "      <td>11270</td>\n",
       "      <td>746d55faf4ee152ed70f9d83f49d157aa05883dff99e52...</td>\n",
       "      <td>F</td>\n",
       "      <td>68.0</td>\n",
       "      <td>NaN</td>\n",
       "      <td>NaN</td>\n",
       "      <td>Sweden</td>\n",
       "      <td>SWE</td>\n",
       "      <td>1936 Summer</td>\n",
       "      <td>1936</td>\n",
       "      <td>Summer</td>\n",
       "      <td>Berlin</td>\n",
       "      <td>Art Competitions</td>\n",
       "      <td>Art Competitions Mixed Painting, Paintings</td>\n",
       "      <td>NaN</td>\n",
       "    </tr>\n",
       "  </tbody>\n",
       "</table>\n",
       "</div>"
      ],
      "text/plain": [
       "            ID                                       Hashed_names Sex   Age  \\\n",
       "139075   69867  293908b78df5bf2c6a16a3ffa975895c0bcfb40594ed06...   M  72.0   \n",
       "233394  117046  fc37dfab6634efbbc2fc0f8d1e247d0c6c4135b4199424...   M  72.0   \n",
       "233395  117046  fc37dfab6634efbbc2fc0f8d1e247d0c6c4135b4199424...   M  72.0   \n",
       "233393  117046  fc37dfab6634efbbc2fc0f8d1e247d0c6c4135b4199424...   M  72.0   \n",
       "2392      1337  b9cb33f1af99da5c7e9a77ef3be518c6b80c7065a289c2...   M  71.0   \n",
       "214490  107675  960dada9fa6d5683d2d6fe7ab9e9fdb52584e473d7deed...   M  69.0   \n",
       "214491  107675  960dada9fa6d5683d2d6fe7ab9e9fdb52584e473d7deed...   M  69.0   \n",
       "21364    11270  746d55faf4ee152ed70f9d83f49d157aa05883dff99e52...   F  68.0   \n",
       "21363    11270  746d55faf4ee152ed70f9d83f49d157aa05883dff99e52...   F  68.0   \n",
       "21362    11270  746d55faf4ee152ed70f9d83f49d157aa05883dff99e52...   F  68.0   \n",
       "\n",
       "        Height  Weight    Team  NOC        Games  Year  Season         City  \\\n",
       "139075     NaN     NaN  Sweden  SWE  1932 Summer  1932  Summer  Los Angeles   \n",
       "233394     NaN     NaN  Sweden  SWE  1920 Summer  1920  Summer    Antwerpen   \n",
       "233395     NaN     NaN  Sweden  SWE  1920 Summer  1920  Summer    Antwerpen   \n",
       "233393     NaN     NaN  Sweden  SWE  1920 Summer  1920  Summer    Antwerpen   \n",
       "2392       NaN     NaN  Sweden  SWE  1948 Summer  1948  Summer       London   \n",
       "214490     NaN     NaN  Sweden  SWE  1932 Summer  1932  Summer  Los Angeles   \n",
       "214491     NaN     NaN  Sweden  SWE  1932 Summer  1932  Summer  Los Angeles   \n",
       "21364      NaN     NaN  Sweden  SWE  1936 Summer  1936  Summer       Berlin   \n",
       "21363      NaN     NaN  Sweden  SWE  1936 Summer  1936  Summer       Berlin   \n",
       "21362      NaN     NaN  Sweden  SWE  1936 Summer  1936  Summer       Berlin   \n",
       "\n",
       "                   Sport                                             Event  \\\n",
       "139075  Art Competitions    Art Competitions Mixed Painting, Unknown Event   \n",
       "233394          Shooting  Shooting Men's Running Target, Single Shot, Team   \n",
       "233395          Shooting  Shooting Men's Running Target, Double Shot, Team   \n",
       "233393          Shooting        Shooting Men's Running Target, Single Shot   \n",
       "2392    Art Competitions    Art Competitions Mixed Painting, Unknown Event   \n",
       "214490  Art Competitions    Art Competitions Mixed Painting, Unknown Event   \n",
       "214491  Art Competitions    Art Competitions Mixed Painting, Unknown Event   \n",
       "21364   Art Competitions        Art Competitions Mixed Painting, Paintings   \n",
       "21363   Art Competitions        Art Competitions Mixed Painting, Paintings   \n",
       "21362   Art Competitions        Art Competitions Mixed Painting, Paintings   \n",
       "\n",
       "         Medal  \n",
       "139075     NaN  \n",
       "233394     NaN  \n",
       "233395  Silver  \n",
       "233393     NaN  \n",
       "2392       NaN  \n",
       "214490     NaN  \n",
       "214491     NaN  \n",
       "21364      NaN  \n",
       "21363      NaN  \n",
       "21362      NaN  "
      ]
     },
     "metadata": {},
     "output_type": "display_data"
    }
   ],
   "source": [
    "# Oldest competitors\n",
    "swedish_athletes.sort_values('Age', ascending=False).head(10)"
   ]
  },
  {
   "cell_type": "code",
   "execution_count": 53,
   "metadata": {},
   "outputs": [
    {
     "name": "stdout",
     "output_type": "stream",
     "text": [
      "The oldest medal winner Oscar Gomer Swahn.\n"
     ]
    }
   ],
   "source": [
    "print(f\"The oldest medal winner {athlete_events[(athlete_events['ID'] == 117046)]['Name'].unique()[0]}.\")"
   ]
  },
  {
   "cell_type": "markdown",
   "metadata": {},
   "source": [
    "### f) Some other EDA"
   ]
  },
  {
   "cell_type": "code",
   "execution_count": 60,
   "metadata": {},
   "outputs": [
    {
     "name": "stdout",
     "output_type": "stream",
     "text": [
      "The weights of the swedish athlets: \n",
      "[  nan  76.   78.   73.   60.   84.   77.   61.   72.   81.   68.   65.\n",
      "  52.   56.   38.   74.   67.   75.   90.   80.   69.   64.   63.   59.\n",
      "  70.   85.   86.   62.   98.   55.   87.   83.   92.   50.   88.   57.\n",
      " 130.   63.5  89.   79.  105.  115.   93.  106.   99.   66.   51.  114.\n",
      "  82.   71.   58.   49.   53.   95.  100.  103.  122.  102.   91.   96.\n",
      " 127.5  46.  107.  140.  120.   97.   94.  118.   54.  104.   47.  135.\n",
      " 108.  113.  126.   73.5  68.5  40.  109.  125.  123.  110.  101.  155.\n",
      "  48.   45. ]\n"
     ]
    }
   ],
   "source": [
    "print(f\"The weights of the swedish athlets: \\n{swedish_athletes['Weight'].unique()}\")"
   ]
  },
  {
   "cell_type": "code",
   "execution_count": 62,
   "metadata": {},
   "outputs": [
    {
     "data": {
      "text/plain": [
       "array([\"Athletics Men's Hammer Throw\", \"Athletics Men's Long Jump\",\n",
       "       \"Athletics Men's Triple Jump\", \"Athletics Men's Javelin Throw\",\n",
       "       \"Athletics Men's Javelin Throw, Both Hands\",\n",
       "       \"Equestrianism Men's Jumping, Individual\",\n",
       "       \"Equestrianism Men's Three-Day Event, Individual\",\n",
       "       \"Equestrianism Men's Three-Day Event, Team\",\n",
       "       \"Diving Men's Platform\", \"Diving Men's Plain High\",\n",
       "       \"Diving Women's Plain High\",\n",
       "       \"Equestrianism Men's Dressage, Individual\",\n",
       "       \"Athletics Men's High Jump\", \"Rowing Men's Coxed Eights\",\n",
       "       \"Athletics Men's Marathon\",\n",
       "       \"Wrestling Men's Middleweight B, Greco-Roman\",\n",
       "       \"Wrestling Men's Featherweight, Greco-Roman\",\n",
       "       \"Tug-Of-War Men's Tug-Of-War\",\n",
       "       \"Swimming Men's 100 metres Freestyle\",\n",
       "       \"Athletics Men's Cross-Country, Individual\",\n",
       "       \"Athletics Men's Cross-Country, Team\",\n",
       "       \"Wrestling Men's Middleweight A, Greco-Roman\",\n",
       "       \"Swimming Men's 200 metres Breaststroke\",\n",
       "       \"Swimming Men's 400 metres Breaststroke\",\n",
       "       \"Water Polo Men's Water Polo\",\n",
       "       \"Swimming Men's 1,500 metres Freestyle\", \"Football Men's Football\",\n",
       "       \"Diving Men's Springboard\", \"Fencing Men's Foil, Individual\",\n",
       "       \"Fencing Men's Sabre, Individual\", \"Tennis Women's Singles\",\n",
       "       'Tennis Mixed Doubles', 'Tennis Mixed Doubles, Covered Courts',\n",
       "       \"Tennis Women's Singles, Covered Courts\",\n",
       "       \"Shooting Men's Free Rifle, Three Positions, 300 metres\",\n",
       "       \"Shooting Men's Military Rifle, Three Positions, 300 metres\",\n",
       "       \"Shooting Men's Running Target, Single Shot\",\n",
       "       \"Shooting Men's Running Target, Single Shot, Team\",\n",
       "       \"Shooting Men's Running Target, Double Shot\",\n",
       "       \"Modern Pentathlon Men's Individual\", 'Sailing Mixed 6 metres',\n",
       "       \"Tennis Men's Singles\", \"Tennis Men's Doubles\",\n",
       "       \"Tennis Men's Doubles, Covered Courts\", \"Shooting Men's Trap\",\n",
       "       \"Athletics Men's Standing High Jump\",\n",
       "       \"Athletics Men's Standing Long Jump\",\n",
       "       \"Swimming Men's 100 metres Backstroke\", 'Sailing Mixed 12 metres',\n",
       "       \"Gymnastics Men's Team All-Around, Swedish System\",\n",
       "       \"Cycling Men's Road Race, Individual\",\n",
       "       \"Cycling Men's Road Race, Team\",\n",
       "       \"Swimming Women's 100 metres Freestyle\",\n",
       "       \"Wrestling Men's Lightweight, Greco-Roman\",\n",
       "       \"Shooting Men's Free Rifle, Three Positions, 300 metres, Team\",\n",
       "       \"Shooting Men's Military Rifle, 200, 400, 500 and 600 metres, Team\",\n",
       "       \"Shooting Men's Military Rifle, Any Position, 600 metres\",\n",
       "       \"Athletics Men's 800 metres\", \"Athletics Men's 1,500 metres\",\n",
       "       \"Shooting Men's Free Pistol, 50 metres\",\n",
       "       \"Shooting Men's Dueling Pistol, 30 metres\",\n",
       "       \"Shooting Men's Small-Bore Rifle, Disappearing Target, 25 metres\",\n",
       "       \"Shooting Men's Small-Bore Rifle, Disappearing Target, 25 metres, Team\",\n",
       "       \"Athletics Men's Discus Throw\",\n",
       "       \"Shooting Men's Free Pistol, 50 metres, Team\",\n",
       "       \"Shooting Men's Small-Bore Rifle, Any Position, 50 metres\",\n",
       "       \"Tennis Men's Singles, Covered Courts\", 'Sailing Mixed 10 metres',\n",
       "       \"Rowing Men's Coxed Fours, Inriggers\",\n",
       "       \"Fencing Men's epee, Individual\", \"Fencing Men's epee, Team\",\n",
       "       \"Shooting Men's Dueling Pistol, 30 metres, Team\",\n",
       "       \"Shooting Men's Small-Bore Rifle, Prone, 50 metres, Team\",\n",
       "       \"Swimming Women's 4 x 100 metres Freestyle Relay\",\n",
       "       \"Athletics Men's 5,000 metres\", \"Athletics Men's 10,000 metres\",\n",
       "       \"Athletics Men's 400 metres\",\n",
       "       \"Athletics Men's 4 x 400 metres Relay\",\n",
       "       \"Athletics Men's 100 metres\", \"Shooting Men's Trap, Team\",\n",
       "       \"Athletics Men's Pentathlon\",\n",
       "       \"Rowing Men's Coxed Fours, Outriggers\",\n",
       "       \"Athletics Men's Discus Throw, Both Hands\",\n",
       "       \"Athletics Men's 3,000 metres, Team\", \"Athletics Men's Pole Vault\",\n",
       "       \"Athletics Men's 200 metres\", 'Sailing Mixed 8 metres',\n",
       "       \"Athletics Men's Decathlon\", \"Swimming Men's 400 metres Freestyle\",\n",
       "       \"Fencing Men's Sabre, Team\",\n",
       "       \"Wrestling Men's Heavyweight, Greco-Roman\",\n",
       "       \"Equestrianism Men's Jumping, Team\",\n",
       "       \"Athletics Men's 4 x 100 metres Relay\", \"Athletics Men's Shot Put\",\n",
       "       \"Athletics Men's Shot Put, Both Hands\"], dtype=object)"
      ]
     },
     "execution_count": 62,
     "metadata": {},
     "output_type": "execute_result"
    }
   ],
   "source": [
    "swedish_best_years = swedish_athletes[\n",
    "    (swedish_athletes['Games'] == '1912 Summer') | (swedish_athletes['Games'] == '1912 Summer')]\n",
    "        \n",
    "swedish_best_years['Event'].unique()"
   ]
  },
  {
   "cell_type": "code",
   "execution_count": null,
   "metadata": {},
   "outputs": [],
   "source": []
  }
 ],
 "metadata": {
  "interpreter": {
   "hash": "c6c9dd0d118410449196af7ee98e375eff3ccf42e5ec3793e627db9ac4e1d015"
  },
  "kernelspec": {
   "display_name": "Python 3.9.6 64-bit ('Databehandling-OS-projekt-Felix-Tjernberg--o8HhYqxc': virtualenv)",
   "name": "python3"
  },
  "language_info": {
   "codemirror_mode": {
    "name": "ipython",
    "version": 3
   },
   "file_extension": ".py",
   "mimetype": "text/x-python",
   "name": "python",
   "nbconvert_exporter": "python",
   "pygments_lexer": "ipython3",
   "version": "3.9.7"
  },
  "orig_nbformat": 4
 },
 "nbformat": 4,
 "nbformat_minor": 2
}
